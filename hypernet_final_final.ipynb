{
  "cells": [
    {
      "cell_type": "code",
      "execution_count": 1,
      "metadata": {
        "colab": {
          "base_uri": "https://localhost:8080/"
        },
        "id": "NOoWoTbXD1uk",
        "outputId": "42c35ce3-a84d-491e-dfba-c3ce0055d863"
      },
      "outputs": [
        {
          "name": "stdout",
          "output_type": "stream",
          "text": [
            "Collecting hypnettorch\n",
            "  Downloading hypnettorch-0.0.4-py3-none-any.whl (456 kB)\n",
            "\u001b[2K     \u001b[90m━━━━━━━━━━━━━━━━━━━━━━━━━━━━━━━━━━━━━━━━\u001b[0m \u001b[32m456.9/456.9 kB\u001b[0m \u001b[31m4.9 MB/s\u001b[0m eta \u001b[36m0:00:00\u001b[0m\n",
            "\u001b[?25hInstalling collected packages: hypnettorch\n",
            "Successfully installed hypnettorch-0.0.4\n"
          ]
        }
      ],
      "source": [
        "!python3 -m pip install hypnettorch"
      ]
    },
    {
      "cell_type": "code",
      "execution_count": 2,
      "metadata": {
        "id": "rHFLLYFiD1ul"
      },
      "outputs": [],
      "source": [
        "import torch\n",
        "import torch.nn as nn\n",
        "import torch.nn.functional as F\n",
        "import torch.optim as optim\n",
        "from torchvision import datasets, transforms\n",
        "from torch.utils.data import DataLoader\n",
        "from HyperNet import CustomHyperNet, CustomHyperConvLayer\n",
        "from MNISTModel import MNISTHyperNetModel, StandardCNNModel\n",
        "import matplotlib.pyplot as plt\n",
        "\n",
        "from IPython.display import display, Markdown, Latex\n",
        "import numpy as np\n",
        "from torch import nn\n",
        "from hypnettorch.data import MNISTData\n",
        "from hypnettorch.mnets import MLP\n",
        "import sys\n",
        "import traceback\n"
      ]
    },
    {
      "cell_type": "markdown",
      "metadata": {
        "id": "5DeYJIQoD1um"
      },
      "source": [
        "# HYPERNETWORK"
      ]
    },
    {
      "cell_type": "markdown",
      "metadata": {
        "id": "zI902CNyD1un"
      },
      "source": [
        "### INTRODUCTIOIN"
      ]
    },
    {
      "cell_type": "markdown",
      "metadata": {
        "id": "sICVgaBmD1un"
      },
      "source": [
        "**Hipernetworki** lub w skrócie **hipernety** to sieci neuronowe, które generują wagi dla innej sieci neuronowej, znanej jako sieć docelowa."
      ]
    },
    {
      "cell_type": "markdown",
      "metadata": {
        "id": "OREobLnKD1un"
      },
      "source": [
        "Kluczowe cechy i zalety hipernetów, które oferują aplikacje w różnych ustawieniach problemów:\n",
        "\n",
        "* Soft weight sharing: Hipernetworki można trenować do generowania wag wielu DNN do rozwiązywania powiązanych zadań.\n",
        "\n",
        "* Dynamic architectures: Hipernetworki mogą być używane do generowania wag sieci o architekturze dynamicznej, w której liczba warstw lub struktura sieci zmienia się podczas szkolenia lub wnioskowania. Może to być szczególnie przydatne w przypadku zadań, w których docelowa struktura sieci nie jest znana w czasie szkolenia.\n",
        "\n",
        "* Data-adaptive DNN: w przeciwieństwie do standardowego DNN, którego wagi są ustalane w czasie wnioskowania, HyperDNN można opracować w celu generowania sieci docelowej dostosowanej do potrzeb danych. W takich przypadkach hipernety są uwarunkowane danymi wejściowymi w celu dostosowania się do danych.\n",
        "\n",
        "* Uncertainty quantification: Hipernety mogą skutecznie trenować DNN ktore świadome o niepewności, wykorzystując techniki jak multiple inputs z rozkładu szumów lub włączenie przerywania w hipernetach sami.\n",
        "\n",
        "* Parameter efficiency: DNN przeszkolony w hipernetach może mieć mniej wag niż\n",
        "standardowe DNNs, powodujące z kompresji wag. Może to być szczególnie przydatne, gdy\n",
        "cos dziala z ograniczonymi zasobami, ograniczonymi danymi lub w przypadku danych o dużych wymiarach i może skutkować szybszy trening niż zlykle DNN."
      ]
    },
    {
      "cell_type": "markdown",
      "metadata": {
        "id": "UXSJ-KuED1uo"
      },
      "source": [
        "### ARCHITECTURE"
      ]
    },
    {
      "cell_type": "markdown",
      "metadata": {
        "id": "NhXJKd5rD1uo"
      },
      "source": [
        "#### Main Network"
      ]
    },
    {
      "cell_type": "markdown",
      "metadata": {
        "id": "8NWeJfMmD1uo"
      },
      "source": [
        "**Struktura i rola**: Main Network to typowa sieć neuronowa, którą można zaprojektować do dowolnego zadania głębokiego uczenia, takiego jak klasyfikacja obrazu, przetwarzanie języka naturalnego lub inne zadania. Struktura tej sieci może się różnić w zależności od konkretnego zadania: może to być splotowa sieć neuronowa (CNN) do przetwarzania obrazu, powtarzająca się sieć neuronowa (RNN) do przetwarzania sekwencji danych i tak dalej.\n",
        "\n",
        "**Uczenie**: w normalnej sytuacji wagi tej sieci są inicjowane losowo, a następnie optymalizowane w procesie uczenia się, aby rozwiązać dany problem."
      ]
    },
    {
      "cell_type": "markdown",
      "metadata": {
        "id": "LKQhGMg9D1uo"
      },
      "source": [
        "#### Hypernetwork"
      ]
    },
    {
      "cell_type": "markdown",
      "metadata": {
        "id": "sb9I2giOD1up"
      },
      "source": [
        "**Struktura i rola**: Hypernetwork to oddzielna sieć neuronowa, której celem jest generowanie wag dla sieci głównej. Ta sieć jest zwykle mniejsza i może być zaprojektowana tak, aby uwzględniać pewne cechy zadania, do którego szkolona jest sieć główna.\n",
        "\n",
        "**Interakcja z primary network**: Hypernetwork pobiera dane wejściowe, które mogą zawierać informacje o stanie lub strukturze sieci głównej i na podstawie tych danych generuje wagi dla sieci głównej."
      ]
    },
    {
      "cell_type": "code",
      "execution_count": 3,
      "metadata": {
        "id": "XFpQ4yYED1up"
      },
      "outputs": [],
      "source": [
        "def load_data():\n",
        "    transform = transforms.Compose([transforms.ToTensor(), transforms.Normalize((0.1307,), (0.3081,))])\n",
        "    train_dataset = datasets.MNIST('./data', train=True, download=True, transform=transform)\n",
        "    test_dataset = datasets.MNIST('./data', train=False, transform=transform)\n",
        "    train_loader = DataLoader(train_dataset, batch_size=64, shuffle=True)\n",
        "    test_loader = DataLoader(test_dataset, batch_size=1000, shuffle=False)\n",
        "    return train_loader, test_loader"
      ]
    },
    {
      "cell_type": "code",
      "execution_count": 4,
      "metadata": {
        "id": "J0ZAa9KlD1up"
      },
      "outputs": [],
      "source": [
        "def train(model, device, train_loader, optimizer, epoch):\n",
        "    model.train()\n",
        "    total_loss, total_correct = 0, 0\n",
        "    for data, target in train_loader:\n",
        "        data, target = data.to(device), target.to(device)\n",
        "        optimizer.zero_grad()\n",
        "        output = model(data)\n",
        "        loss = F.nll_loss(output, target)\n",
        "        loss.backward()\n",
        "        optimizer.step()\n",
        "        total_loss += loss.item()\n",
        "        total_correct += output.argmax(dim=1).eq(target).sum().item()\n",
        "\n",
        "    avg_loss = total_loss / len(train_loader.dataset)\n",
        "    accuracy = 100. * total_correct / len(train_loader.dataset)\n",
        "    print(f'Train Epoch: {epoch} \\tLoss: {avg_loss:.6f} \\tAccuracy: {accuracy:.2f}%')\n",
        "    return avg_loss, accuracy"
      ]
    },
    {
      "cell_type": "code",
      "execution_count": 5,
      "metadata": {
        "id": "Y6vVtkprD1up"
      },
      "outputs": [],
      "source": [
        "def test(model, device, test_loader):\n",
        "    model.eval()\n",
        "    total_loss, total_correct = 0, 0\n",
        "    with torch.no_grad():\n",
        "        for data, target in test_loader:\n",
        "            data, target = data.to(device), target.to(device)\n",
        "            output = model(data)\n",
        "            total_loss += F.nll_loss(output, target, reduction='sum').item()\n",
        "            total_correct += output.argmax(dim=1).eq(target).sum().item()\n",
        "\n",
        "    avg_loss = total_loss / len(test_loader.dataset)\n",
        "    accuracy = 100. * total_correct / len(test_loader.dataset)\n",
        "    print(f'\\nTest set: Average loss: {avg_loss:.4f}, Accuracy: {total_correct}/{len(test_loader.dataset)} ({accuracy:.2f}%)\\n')\n",
        "    return avg_loss, accuracy\n"
      ]
    },
    {
      "cell_type": "code",
      "execution_count": 6,
      "metadata": {
        "id": "Rf2tCo9rD1up"
      },
      "outputs": [],
      "source": [
        "def plot_results(train_losses, train_accuracies, test_losses, test_accuracies):\n",
        "    plt.figure(figsize=(12, 5))\n",
        "    plt.subplot(1, 2, 1)\n",
        "    plt.plot(train_losses, label=\"Train Loss\")\n",
        "    plt.plot(test_losses, label=\"Test Loss\")\n",
        "    plt.xlabel(\"Epoch\")\n",
        "    plt.ylabel(\"Loss\")\n",
        "    plt.title(\"Loss over epochs\")\n",
        "    plt.legend()\n",
        "\n",
        "    plt.subplot(1, 2, 2)\n",
        "    plt.plot(train_accuracies, label=\"Train Accuracy\")\n",
        "    plt.plot(test_accuracies, label=\"Test Accuracy\")\n",
        "    plt.xlabel(\"Epoch\")\n",
        "    plt.ylabel(\"Accuracy\")\n",
        "    plt.title(\"Accuracy over epochs\")\n",
        "    plt.legend()\n",
        "\n",
        "    plt.show()"
      ]
    },
    {
      "cell_type": "code",
      "execution_count": 7,
      "metadata": {
        "colab": {
          "base_uri": "https://localhost:8080/",
          "height": 250
        },
        "id": "Kh6m4TyYD1up",
        "outputId": "da2d9a26-03ce-4ac8-88ed-61115620a692"
      },
      "outputs": [
        {
          "name": "stderr",
          "output_type": "stream",
          "text": [
            "1.0%"
          ]
        },
        {
          "name": "stdout",
          "output_type": "stream",
          "text": [
            "Downloading http://yann.lecun.com/exdb/mnist/train-images-idx3-ubyte.gz\n",
            "Downloading http://yann.lecun.com/exdb/mnist/train-images-idx3-ubyte.gz to ./data\\MNIST\\raw\\train-images-idx3-ubyte.gz\n"
          ]
        },
        {
          "name": "stderr",
          "output_type": "stream",
          "text": [
            "100.0%\n"
          ]
        },
        {
          "name": "stdout",
          "output_type": "stream",
          "text": [
            "Extracting ./data\\MNIST\\raw\\train-images-idx3-ubyte.gz to ./data\\MNIST\\raw\n"
          ]
        },
        {
          "name": "stderr",
          "output_type": "stream",
          "text": [
            "100.0%"
          ]
        },
        {
          "name": "stdout",
          "output_type": "stream",
          "text": [
            "\n",
            "Downloading http://yann.lecun.com/exdb/mnist/train-labels-idx1-ubyte.gz\n",
            "Downloading http://yann.lecun.com/exdb/mnist/train-labels-idx1-ubyte.gz to ./data\\MNIST\\raw\\train-labels-idx1-ubyte.gz\n",
            "Extracting ./data\\MNIST\\raw\\train-labels-idx1-ubyte.gz to ./data\\MNIST\\raw\n",
            "\n",
            "Downloading http://yann.lecun.com/exdb/mnist/t10k-images-idx3-ubyte.gz\n",
            "Downloading http://yann.lecun.com/exdb/mnist/t10k-images-idx3-ubyte.gz to ./data\\MNIST\\raw\\t10k-images-idx3-ubyte.gz\n"
          ]
        },
        {
          "name": "stderr",
          "output_type": "stream",
          "text": [
            "\n",
            "100.0%\n",
            "100.0%\n"
          ]
        },
        {
          "name": "stdout",
          "output_type": "stream",
          "text": [
            "Extracting ./data\\MNIST\\raw\\t10k-images-idx3-ubyte.gz to ./data\\MNIST\\raw\n",
            "\n",
            "Downloading http://yann.lecun.com/exdb/mnist/t10k-labels-idx1-ubyte.gz\n",
            "Downloading http://yann.lecun.com/exdb/mnist/t10k-labels-idx1-ubyte.gz to ./data\\MNIST\\raw\\t10k-labels-idx1-ubyte.gz\n",
            "Extracting ./data\\MNIST\\raw\\t10k-labels-idx1-ubyte.gz to ./data\\MNIST\\raw\n",
            "\n"
          ]
        }
      ],
      "source": [
        "device = torch.device(\"cuda\" if torch.cuda.is_available() else \"cpu\")\n",
        "model = MNISTHyperNetModel().to(device)\n",
        "optimizer = optim.Adam(model.parameters(), lr=0.001)\n",
        "\n",
        "train_loader, test_loader = load_data()\n",
        "\n",
        "train_losses, train_accuracies = [], []\n",
        "test_losses, test_accuracies = [], []"
      ]
    },
    {
      "cell_type": "code",
      "execution_count": null,
      "metadata": {
        "id": "4eKcFtMyD1up",
        "outputId": "7730001e-84d0-45d6-9725-b22452eb7fd7"
      },
      "outputs": [
        {
          "name": "stdout",
          "output_type": "stream",
          "text": [
            "Train Epoch: 1 \tLoss: 0.009186 \tAccuracy: 88.04%\n",
            "\n",
            "Test set: Average loss: 0.1349, Accuracy: 9571/10000 (95.71%)\n",
            "\n",
            "Train Epoch: 2 \tLoss: 0.001882 \tAccuracy: 96.26%\n",
            "\n",
            "Test set: Average loss: 0.0986, Accuracy: 9666/10000 (96.66%)\n",
            "\n",
            "Train Epoch: 3 \tLoss: 0.001376 \tAccuracy: 97.27%\n",
            "\n",
            "Test set: Average loss: 0.0810, Accuracy: 9751/10000 (97.51%)\n",
            "\n",
            "Train Epoch: 4 \tLoss: 0.001151 \tAccuracy: 97.75%\n",
            "\n",
            "Test set: Average loss: 0.0759, Accuracy: 9755/10000 (97.55%)\n",
            "\n",
            "Train Epoch: 5 \tLoss: 0.000967 \tAccuracy: 98.04%\n",
            "\n",
            "Test set: Average loss: 0.0667, Accuracy: 9806/10000 (98.06%)\n",
            "\n",
            "Train Epoch: 6 \tLoss: 0.000881 \tAccuracy: 98.27%\n",
            "\n",
            "Test set: Average loss: 0.0799, Accuracy: 9768/10000 (97.68%)\n",
            "\n",
            "Train Epoch: 7 \tLoss: 0.000787 \tAccuracy: 98.44%\n",
            "\n",
            "Test set: Average loss: 0.0775, Accuracy: 9805/10000 (98.05%)\n",
            "\n",
            "Train Epoch: 8 \tLoss: 0.000742 \tAccuracy: 98.53%\n",
            "\n",
            "Test set: Average loss: 0.0641, Accuracy: 9797/10000 (97.97%)\n",
            "\n",
            "Train Epoch: 9 \tLoss: 0.000665 \tAccuracy: 98.67%\n",
            "\n",
            "Test set: Average loss: 0.0897, Accuracy: 9767/10000 (97.67%)\n",
            "\n",
            "Train Epoch: 10 \tLoss: 0.000616 \tAccuracy: 98.78%\n",
            "\n",
            "Test set: Average loss: 0.0749, Accuracy: 9789/10000 (97.89%)\n",
            "\n"
          ]
        }
      ],
      "source": [
        "for epoch in range(1, 11):\n",
        "    train_loss, train_accuracy = train(model, device, train_loader, optimizer, epoch)\n",
        "    test_loss, test_accuracy = test(model, device, test_loader)\n",
        "    train_losses.append(train_loss)\n",
        "    train_accuracies.append(train_accuracy)\n",
        "    test_losses.append(test_loss)\n",
        "    test_accuracies.append(test_accuracy)"
      ]
    },
    {
      "cell_type": "code",
      "execution_count": null,
      "metadata": {
        "id": "MUjmlV2AD1uq",
        "outputId": "7e031ee3-5ade-4440-b445-39bcaa1e84b8"
      },
      "outputs": [
        {
          "data": {
            "image/png": "[encoded data removed]",
            "text/plain": [
              "<Figure size 1200x500 with 2 Axes>"
            ]
          },
          "metadata": {},
          "output_type": "display_data"
        }
      ],
      "source": [
        "plot_results(train_losses, train_accuracies, test_losses, test_accuracies)"
      ]
    },
    {
      "cell_type": "markdown",
      "metadata": {
        "id": "iphHmPgrD1uq"
      },
      "source": [
        "## Zadanie 1"
      ]
    },
    {
      "cell_type": "markdown",
      "metadata": {
        "id": "GeETo0a_D1uq"
      },
      "source": [
        "Wytrenowac model MNISTHyperNetModel na Fashion MNIST i wyświetlaj przebiegu uczenia."
      ]
    },
    {
      "cell_type": "markdown",
      "metadata": {
        "id": "ghSGQrzND1uq"
      },
      "source": [
        "## Zadanie 2"
      ]
    },
    {
      "cell_type": "markdown",
      "metadata": {
        "id": "SdyUUCoWD1uq"
      },
      "source": [
        "Spróbuj opisać hypernet który został użyty w przykładzie MNISTHyperNetModel według kryteriów które są opisane w części \"Categorisation of Hypernetworks\""
      ]
    },
    {
      "cell_type": "markdown",
      "metadata": {
        "id": "xprLi5qmD1uq"
      },
      "source": [
        "## Zadanie 3"
      ]
    },
    {
      "cell_type": "markdown",
      "metadata": {
        "id": "vV6Vq5v7D1uq"
      },
      "source": [
        "Zmodyfikować MNISTHyperNetModel tak, aby pierwsza warstwa konwolucyjna wykorzystywała wag wygenerowanych przez hypernet, a druga warstwa konwolucyjna wykorzystywała wagi wygenerowane w zwykły sposób. Wytrenować starą i nową modeli na MNIST i porównać  wyniki obu modeli."
      ]
    },
    {
      "cell_type": "markdown",
      "metadata": {
        "id": "NRX-iLQrD1uq"
      },
      "source": [
        "## Categorisation of Hypernetworks"
      ]
    },
    {
      "cell_type": "markdown",
      "metadata": {
        "id": "s-I447UjD1ur"
      },
      "source": [
        "Istnieje podział na 5 kryteriów projektowania hipersieci:\n",
        "- input-based\n",
        "- output-based\n",
        "- variability of inputs\n",
        "- variability of outputs\n",
        "- architecture-based\n",
        "\n",
        "Za pomocą każdego z nich możemy lepiej zrozumieć działanie konkretnej hipersieci odpowiadając na pytania:\n",
        "\n",
        "![categorisation.png](./imgs/categorisation.png)"
      ]
    },
    {
      "cell_type": "markdown",
      "metadata": {
        "id": "E6l8BZWZD1ur"
      },
      "source": [
        "### Input-based hypernetworks\n",
        "\n",
        "Hypernetworki przyjmują wektor kontekstowy jako dane wejściowe i generują wagi docelowej sieci DNN jako wyjście. W zależności od użytego wektora kontekstowego możemy wyróżnić następujące typy hypernetworks:\n",
        "\n",
        "- **Task-conditioned hypernetworks**: Te sieci przyjmują informacje specyficzne dla zadania jako dane wejściowe. Sieć generuje wagi dostosowane do konkretnego zadania, co pozwala na dostosowanie jej zachowania i współdzielenie informacji między zadaniami.\n",
        "\n",
        "- **Data-conditioned hypernetworks**: Te sieci są warunkowane danymi, na których szkolona jest docelowa sieć. Sieć generuje wagi na podstawie charakterystyki danych wejściowych, co pozwala na dynamiczną adaptację modelu do konkretnych wzorców lub cech.\n",
        "\n",
        "- **Noise-conditioned hypernetworks**: Te sieci nie są warunkowane żadnymi danymi wejściowymi ani wskazówkami zadania, a raczej losowo wybranym szumem. Sprawia to, że są bardziej uniwersalne i pomagają w kwantyfikacji niepewności predykcyjnej dla DNN."
      ]
    },
    {
      "cell_type": "markdown",
      "metadata": {
        "id": "clv5uQ_0D1ur"
      },
      "source": [
        "### Output-based Hypernetworks\n",
        "\n",
        "W zależności od sposobu generowania wag, czyli strategii generacji wag, klasyfikujemy hypernetworki na te, które generują wszystkie wagi naraz, i te, które tego nie robią.\n",
        "\n",
        "- **Generate Once**: Te sieci generują wagi całej docelowej sieci DNN naraz. Wszystkie wygenerowane wagi są używane, a wagi każdej warstwy są generowane razem.\n",
        "\n",
        "- **Generate Multiple**: Te sieci mają wiele wyjsc do produkcji wag i ta metoda generowania wag może uzupełniać inne podejścia. Upraszcza to złożoność i redukuje liczbę wag wymaganych w ostatniej warstwie hypernetwork przez liczbę wyjsc.\n",
        "\n",
        "- **Generate Chunk-wise**: Sieci tego typu generują wagi docelowej sieci w częściach. Może to prowadzić do niewykorzystania niektórych wygenerowanych wag, ponieważ są one produkowane zgodnie z rozmiarem części, który może nie odpowiadać rozmiarom warstw.\n",
        "\n",
        "- **Generate Component-wise**: Ta strategia na oddzielnym tworzeniu wag dla każdego indywidualnego komponentu modelu docelowego. Jest to pomocne w generowaniu specyficznych wag, ponieważ różne warstwy lub kanały reprezentują różne cechy lub wzorce w sieci. Jednak podobnie jak w podejściu chunk-wise, sieci hypernetwork składowe wymagają osadzenia dla każdego komponentu, aby odróżnić różne komponenty i wytworzyć wagi specyficzne dla danego komponentu.\n"
      ]
    },
    {
      "cell_type": "markdown",
      "metadata": {
        "id": "ysgvra5fD1ur"
      },
      "source": [
        "### Variability of Inputs\n",
        "\n",
        "Możemy kategoryzować hipernety na podstawie zmienności danych wejściowych.\n",
        "\n",
        "- **Static Inputs**: Jeśli Dane wejściowe są predefiniowane i są stałe, hypernet jest nazywany statycznym w odniesieniu do danych wejściowych.\n",
        "\n",
        "\n",
        "- **Dynamic Inputs**: Jeśli Dane wejściowe zmieniają się i generalnie zależą od danych, na których trenowana jest sieć docelowa, następnie hypernet jest nazywany dynamicznym w odniesieniu do danych wejściowych."
      ]
    },
    {
      "cell_type": "markdown",
      "metadata": {
        "id": "ROH7cUIzD1ur"
      },
      "source": [
        "### Variability of Outputs\n",
        "\n",
        "Klasyfikując sieci hypernetwork na podstawie charakterystyki wag sieci docelowej, możemy podzielić je na dwa typy: statyczne i dynamiczne wyjścia.\n",
        "\n",
        "- **Static Outputs**: Jeśli wagi sieci docelowej mają stały rozmiar, to sieć hypernetwork nazywana jest statyczną względem wyjść. W takim przypadku sieć docelowa również jest statyczna.\n",
        "\n",
        "- **Dynamic Outputs**: Jeśli wagi sieci docelowej nie są stałe, architektura zmienia się w zależności od rozmiaru, to sieć hypernetworku nazywana jest dynamiczną względem wyjść, a sieć docelowa również jest siecią dynamiczną, ponieważ może mieć różną architekturę w zależności od wejścia sieci hypernetwork."
      ]
    },
    {
      "cell_type": "markdown",
      "metadata": {
        "id": "EiuMNkbBD1ur"
      },
      "source": [
        "### Dynamism in Hypernetworks\n",
        "\n",
        "- **Static Hypernets**: Jeśli wejście sieci hypernetwork jest stałe, a liczba wag generowanych przez sieć hypernetwork dla sieci docelowej jest stała, wówczas sieć hypernetwork nazywana jest statyczną.\n",
        "\n",
        "- **Dynamic Hypernets**: Jeśli wejście sieci hypernetwork opiera się na danych wejściowych sieci docelowej lub liczba wag generowanych przez sieć hypernetwork dla sieci docelowej jest zmienna, wówczas sieć hypernetwork nazywana jest dynamiczną."
      ]
    },
    {
      "cell_type": "markdown",
      "metadata": {
        "id": "9ZlR6FO4D1ur"
      },
      "source": [
        "### Architecture of Hypernetworks\n",
        "\n",
        "W klasyfikacji sieci hypernetwork na podstawie ich architektury możemy wyróżnić cztery główne typy:\n",
        "\n",
        "- **MLPs**:\n",
        "Sieci hypernetwork oparte na MLP wykorzystują gęstą i w pełni połączoną architekturę, co pozwala na kompleksowe generowanie wag, biorąc pod uwagę całą informację wejściową.\n",
        "\n",
        "- **CNNs**: Sieci hypernetwork oparte na CNN wykorzystują warstwy konwolucyjne do przechwytywania lokalnych wzorców i informacji przestrzennych, co sprawia, że są one skuteczne w zadaniach związanych z danymi przestrzennymi, takimi jak analiza obrazów czy wideo.\n",
        "\n",
        "- **RNNs**: Sieci hypernetwork oparte na RNN zawierają rekurencyjne połączenia w swojej architekturze, co umożliwia przetwarzanie informacji sekwencyjnych i dynamiczne generowanie wag na podstawie poprzednich stanów lub danych wejściowych, co czyni je odpowiednimi dla zadań związanych z danymi sekwencyjnymi.\n",
        "\n",
        "- **Attention-based hypernetworks**: Sieci hypernetwork oparte na mechanizmach uwagi selektywnie koncentrują się na istotnych cechach wejściowych, generując wagi dla sieci docelowej, co pozwala im uchwycić dalekosiężne zależności i poprawić jakość generowanych wyjść.\n"
      ]
    },
    {
      "cell_type": "markdown",
      "metadata": {
        "id": "ZlCcjyydD1ur"
      },
      "source": [
        "## ZASTOSOWANIA\n",
        "\n",
        "\n",
        "Hypernetworki zademonstrowały swoją użyteczność w szerokim zakresie zastosowań w deep learningu.\n",
        "\n",
        "\n",
        "**Continual Learning**\n",
        "* Model uczy się przez cały czas bez zapominania tego co został już nauczony.\n",
        "* W przeciwieństwie do tradycyjnego uczenia na batchach gdzie ilośc danych jest stała, dane napływają cały czas w rosnącej ilosci.\n",
        "* Modelując każdy dataset jako task i stosując task-conditioned hyperneta pozwoliło na współdzielenie informacji pomiedzy taskami\n",
        "* Probem catastrophic forgettingu został rozwiązany za pomocą regularyzatora operujacego na wagach w ramach jednego taska\\\n",
        "<b>Huang, Y., Xie, K., Bharadhwaj, H., and Shkurti, F. (2021). Continual model-based reinforcement learning with hypernetworks</b>\n",
        "\n",
        "**Federated Learning**\n",
        "* Model trenowany jest na wielu urządzeniach jednocześnie\n",
        "* Znajdujący się na centralnym serwerze hypernetwork odpowiada za aktualizowanie wag modelów\n",
        "* Każde urządzenie jest reprezentowane jako pojedynczy task a hypernet stosuje task conditioning \\\n",
        "<b>Shamsian, A., Navon, A., Fetaya, E., and Chechik, G. (2021). Personalized federated learning using hypernetworks. In International Conference on Machine Learning</b>\n",
        "\n",
        "**Few-shot Learning**\n",
        "* Hypernetwork oparty na encoderze-dekoderze, który uczy zależną od danych, generatywną reprezentację parametrów modelu, który dzieli informacje między różnymi zadaniami poprzez miękkie wagi.\n",
        "<b>Rusu, A. A., Rao, D., Sygnowski, J., Vinyals, O., Pascanu, R., Osindero, S., and Hadsell, R. (2019). Meta-learning \\\n",
        "with latent embedding optimization. In International Conference on Learning Representations.</b>\n",
        "    \n",
        "**Domain Adaptation**\n",
        " * Data conditioned hypernetworki gdzie przykłady z domen docelowych są używane jako dane wejściowe do hypernetu, który generuje\n",
        "    wagi dla sieci docelowej. Daje to hiper-sieciom możliwość uczenia się i dzielenia informacjami z istniejących domen z domeną docelową.\n",
        "    domeny docelowej poprzez wspólne uczenie. \\\n",
        "    <b>Volk, T., Ben-David, E., Amosy, O., Chechik, G., and Reichart, R. (2022). Example-based hypernetworks for out-of-distribution generalization</b>\n",
        "\n",
        "**Multitasking**\n",
        "*   Hypernety mogą być stosowane w kontekście multitasking w celu ułatwienia wspólnego\n",
        "    uczenia się wielu zadań poprzez dynamiczne generowanie lub dostosowywanie parametrów lub architektur modelu. W szczególności,\n",
        "    możemy trenować task conditioned hypernety, gdzie osadzanie tasku działa jako dane wejściowe do sieci, która\n",
        "    generuje wagi dla odpowiedniego zadania. Możemy albo wygenerować cały model dla każdego z zadań, albo tylko jego niewspółdzielone części.\\\n",
        "    <b>Mahabadi, R. K., Ruder, S., Dehghani, M., and Henderson, J. (2021). Parameter-efficient multi-task fine-tuning\n",
        "for transformers via shared hypernetworks. In Proceedings of the 59th Annual Meeting of the Association for\n",
        "Computational Linguistics and the 11th International Joint Conference on Natural Language Processing</b>\n",
        "\n",
        "**Reinforcement Learning**\n",
        "* Hypernety można zastosowac do dynamicznego generowania architektury sieci, parametrów w celu dopasowania sieci do konkretnego zastosowania. \\\n",
        "<b>Huang, Y., Xie, K., Bharadhwaj, H., and Shkurti, F. (2021). Continual model-based reinforcement learning with\n",
        "hypernetworks. In 2021 IEEE International Conference on Robotics and Automation (ICRA)</b>\n",
        "\n",
        "**INNE**\n",
        "* Usprawnienie procesu uczenia modelów AutoML, Manifold"
      ]
    },
    {
      "cell_type": "markdown",
      "metadata": {
        "id": "_Y1PBpe6D1ur"
      },
      "source": [
        "![Alt text](./imgs/image-1.png)"
      ]
    },
    {
      "cell_type": "markdown",
      "metadata": {
        "id": "Vgt3th-PD1us"
      },
      "source": [
        "## KIEDY UŻYĆ HYPERNETWORKA\n",
        "**CZY POTRZEBUJEMY ZEBY MODEL BYŁ W STANIE ADAPDTOWAĆ SIĘ DO DANYCH ?**\n",
        "* Jeżeli dane wejściowe będą ulegać regularnym zmianom możemy zastosować data conditioned hypernetwork, któya przyjmuje dane jako dane wejściowe i adaptacyjnie generuje parametry sieci docelowej.\n",
        "Podczas uczenia hipersieć pobiera dostępne dane i uczy się ich charakterystyki w celu wygenerowania sieci docelowej. Następnie, w razie potrzeby może pobierać nowe dane o nieco innej charakterystyce i generuje sieć docelową w oparciu o wyuczoną charakterystykę istniejących danych.\n",
        "\n",
        "**CZY POTRZEBUJEMY MÓC DYNAMICZNIE DOSTOSOWAĆ ARCHITEKTURĘ SIECI ?**\n",
        "* Jeżeli podczas uczenia modelu, jego architektura nie jest jescze znana, do jej znalezienia można wykorzystać hypernetwork, który pobiera informacje o obecnej architekturze sieci docelowej i odpowiednio generuje parametry. Przykładem mogą być sieci RNN gdzie hypernet określa liczbę stepów.\\\n",
        "<b>Ha, D., Dai, A. M., and Le, Q. V. (2017). Hypernetworks. In International Conference on Learning Representations.</b>\n",
        "\n",
        "**CZY POTRZEBUJEMY PRZYSPIESZYĆ PROCES UCZENIA / POPRAWIĆ DOKŁADNOŚĆ ?**"
      ]
    },
    {
      "cell_type": "markdown",
      "metadata": {
        "id": "E1dKFSD-D1us"
      },
      "source": [
        "## HYPENETTROCH\n",
        "\n",
        "Paczka zawierającą gotową implementacje hypernetworków w PyTorch.\n",
        "https://github.com/chrhenning/hypnettorch/tree/master\n",
        "\n",
        "Zapewnia łatwy w użyciu sposób implemetacji tego mechanizmu w sieciach"
      ]
    },
    {
      "cell_type": "code",
      "execution_count": 8,
      "metadata": {
        "id": "9Bjg2c8nD1us"
      },
      "outputs": [],
      "source": [
        "# Specify where to download the datasets\n",
        "data_dir = '.'"
      ]
    },
    {
      "cell_type": "code",
      "execution_count": 9,
      "metadata": {
        "id": "26H87sWnD1us"
      },
      "outputs": [],
      "source": [
        "def plot_samples_custom(title, inputs, outputs=None, predictions=None,\n",
        "                        num_samples_per_row=4, show=True, filename=None,\n",
        "                        interactive=False, figsize=(10, 8), **kwargs):\n",
        "\n",
        "    num_plots = inputs.shape[0]\n",
        "    num_cols = min(num_plots, num_samples_per_row)\n",
        "    num_rows = int(np.ceil(num_plots / num_samples_per_row))\n",
        "\n",
        "    fig, axes = plt.subplots(num_rows, num_cols, figsize=figsize)\n",
        "    fig.suptitle(title, size=20)\n",
        "\n",
        "    for i in range(num_rows):\n",
        "        for j in range(num_cols):\n",
        "            index = i * num_cols + j\n",
        "            ax = axes[i, j] if num_rows > 1 else axes[j]\n",
        "\n",
        "            if index < num_plots:\n",
        "                ax.imshow(inputs[index].reshape((28, 28)), cmap='gray', aspect='equal')\n",
        "                ax.axis('off')\n",
        "\n",
        "                if outputs is not None:\n",
        "                    ax.set_title(f'Actual: {np.argmax(outputs[index])}')\n",
        "\n",
        "                if predictions is not None:\n",
        "                    ax.set_xlabel(f'Prediction: {np.argmax(predictions[index])}')\n",
        "\n",
        "                    num_classes = predictions.shape[1]\n",
        "                    class_labels = np.arange(num_classes)\n",
        "                    ax2 = ax.inset_axes([0, -0.2, 1, 0.2], aspect='equal')\n",
        "                    ax2.bar(class_labels, predictions[index], alpha=0.7)\n",
        "                    ax2.set_xticks(class_labels)\n",
        "                    ax2.set_xticklabels([str(label) for label in class_labels])\n",
        "                    ax2.set_xlabel('Class')\n",
        "                    ax2.set_ylabel('Probability')\n",
        "\n",
        "    plt.tight_layout(rect=[0, 0.03, 1, 0.95])\n",
        "\n",
        "    if show:\n",
        "        plt.show()\n",
        "\n",
        "    if filename is not None:\n",
        "        plt.savefig(filename, bbox_inches='tight')"
      ]
    },
    {
      "cell_type": "markdown",
      "metadata": {
        "id": "V5-FHYeZD1us"
      },
      "source": [
        "Hypenettorch dostarcza api służące do obsługi datasetów, oraz gotowe implementacje najpouparniejszych, np MNIST, FashionMNIST, CelebA\n"
      ]
    },
    {
      "cell_type": "code",
      "execution_count": 10,
      "metadata": {
        "colab": {
          "base_uri": "https://localhost:8080/",
          "height": 834
        },
        "id": "XfU7lgx6D1us",
        "outputId": "316ab241-8ad6-45f4-d567-1fd9b09b5272"
      },
      "outputs": [
        {
          "name": "stdout",
          "output_type": "stream",
          "text": [
            "Reading MNIST dataset ...\n",
            "Creating directory \"./MNIST\" ...\n",
            "Downloading training images ...\n",
            "Downloading training labels ...\n",
            "Downloading test images ...\n",
            "Downloading test labels ...\n",
            "Reading labels from ./MNIST/train-labels-idx1-ubyte.gz.\n",
            "Number of labels in current file: 60000\n",
            "Reading labels from ./MNIST/t10k-labels-idx1-ubyte.gz.\n",
            "Number of labels in current file: 10000\n",
            "Reading images from ./MNIST/train-images-idx3-ubyte.gz.\n",
            "Number of images in current file: 60000\n",
            "Reading images from ./MNIST/t10k-images-idx3-ubyte.gz.\n",
            "Number of images in current file: 10000\n",
            "Elapsed time to read dataset: 9.527238 sec\n"
          ]
        },
        {
          "data": {
            "image/png": "[encoded data removed]",
            "text/plain": [
              "<Figure size 1000x800 with 4 Axes>"
            ]
          },
          "metadata": {},
          "output_type": "display_data"
        }
      ],
      "source": [
        "mnist = MNISTData(data_dir, use_one_hot=True, validation_size=0)\n",
        "mnist_inps, mnist_trgts = mnist.next_train_batch(4)\n",
        "plot_samples_custom('MNIST Examples', mnist_inps, outputs=mnist_trgts)"
      ]
    },
    {
      "cell_type": "markdown",
      "metadata": {
        "id": "4VjpVb44D1us"
      },
      "source": [
        "## SIEĆ DOCELOWA\n",
        "Na początku tworzymy sieć docelową, dla której hypenet będzie generował wagi. Paczka zawiera zawiera intefejs MainNetworkInterface do implementowania własnych sieci neuronowych a także gotowe implementacje kilku poularnych typów np MLP"
      ]
    },
    {
      "cell_type": "code",
      "execution_count": 11,
      "metadata": {
        "colab": {
          "base_uri": "https://localhost:8080/"
        },
        "id": "phyXePBBD1ut",
        "outputId": "b4539762-f102-4a95-cf07-b7b696990410"
      },
      "outputs": [
        {
          "name": "stdout",
          "output_type": "stream",
          "text": [
            "Creating a LeNet with 21840 weights.\n"
          ]
        }
      ],
      "source": [
        "from hypnettorch.mnets import LeNet\n",
        "\n",
        "mnet = LeNet(in_shape=mnist.in_shape, num_classes=mnist.num_classes,\n",
        "             arch='mnist_small', no_weights=True).to(device)"
      ]
    },
    {
      "cell_type": "markdown",
      "metadata": {
        "id": "nu7NCYZAD1ut"
      },
      "source": [
        "## TWORZENIE HYPERNETA"
      ]
    },
    {
      "cell_type": "code",
      "execution_count": 12,
      "metadata": {
        "colab": {
          "base_uri": "https://localhost:8080/"
        },
        "id": "Xmdv-ZVND1ut",
        "outputId": "8ddad0bd-bb79-43e5-8799-c5b91dae23ef"
      },
      "outputs": [
        {
          "name": "stdout",
          "output_type": "stream",
          "text": [
            "Created MLP Hypernet.\n",
            "Hypernetwork with 2216856 weights and 21840 outputs (compression ratio: 101.50).\n",
            "The network consists of 2216840 unconditional weights (2216840 internally maintained) and 16 conditional weights (16 internally maintained).\n",
            "\n",
            "The randomly initialized input embeddings are:\n",
            " [Parameter containing:\n",
            "tensor([-0.2878, -0.9025,  0.3079, -0.3797,  0.1198, -0.3691, -0.2934,  1.3498],\n",
            "       requires_grad=True), Parameter containing:\n",
            "tensor([ 0.6583,  0.9948, -0.8882, -0.3033,  0.9638,  0.1867,  0.1110,  0.3967],\n",
            "       requires_grad=True)]\n"
          ]
        }
      ],
      "source": [
        "from hypnettorch.hnets import HMLP\n",
        "\n",
        "hnet = HMLP(mnet.param_shapes, uncond_in_size=0, cond_in_size=8,\n",
        "            layers=[100, 100], num_cond_embs=2).to(device)\n",
        "\n",
        "print()\n",
        "print('The randomly initialized input embeddings are:\\n',\n",
        "      hnet.conditional_params)\n",
        "\n",
        "W0 = hnet.forward(cond_id=0)\n",
        "W0_tmp = hnet.forward(cond_input=hnet.conditional_params[0].view(1, -1))\n",
        "assert np.all([torch.equal(W0[i], W0_tmp[i]) for i in range(len(W0))])\n",
        "\n",
        "W_batch = hnet.forward(cond_id=[0, 0])\n",
        "assert np.all([torch.equal(W_batch[0][i], W_batch[1][i]) \\\n",
        "               for i in range(len(W0))])"
      ]
    },
    {
      "cell_type": "code",
      "execution_count": 13,
      "metadata": {
        "colab": {
          "base_uri": "https://localhost:8080/"
        },
        "id": "hHL_JQO4D1ut",
        "outputId": "da3f263d-7488-47ba-fb0c-2b4d6db1ec24"
      },
      "outputs": [
        {
          "name": "stdout",
          "output_type": "stream",
          "text": [
            "[1,   501] loss: 0.275, MNIST acc: 96.20%\n",
            "[1,  1001] loss: 0.149, MNIST acc: 97.68%\n",
            "[1,  1501] loss: 0.011, MNIST acc: 98.32%\n",
            "[2,   501] loss: 0.056, MNIST acc: 98.49%\n",
            "[2,  1001] loss: 0.022, MNIST acc: 98.51%\n",
            "[2,  1501] loss: 0.020, MNIST acc: 98.77%\n",
            "[3,   501] loss: 0.034, MNIST acc: 98.47%\n",
            "[3,  1001] loss: 0.002, MNIST acc: 98.54%\n",
            "[3,  1501] loss: 0.000, MNIST acc: 98.89%\n",
            "[4,   501] loss: 0.005, MNIST acc: 98.57%\n",
            "[4,  1001] loss: 0.001, MNIST acc: 99.01%\n",
            "[4,  1501] loss: 0.006, MNIST acc: 98.74%\n",
            "[5,   501] loss: 0.016, MNIST acc: 98.91%\n",
            "[5,  1001] loss: 0.003, MNIST acc: 98.86%\n",
            "[5,  1501] loss: 0.084, MNIST acc: 98.67%\n",
            "[6,   501] loss: 0.006, MNIST acc: 99.07%\n",
            "[6,  1001] loss: 0.000, MNIST acc: 98.91%\n",
            "[6,  1501] loss: 0.002, MNIST acc: 99.04%\n",
            "[7,   501] loss: 0.091, MNIST acc: 99.16%\n",
            "[7,  1001] loss: 0.004, MNIST acc: 99.10%\n",
            "[7,  1501] loss: 0.003, MNIST acc: 99.06%\n",
            "[8,   501] loss: 0.005, MNIST acc: 98.96%\n",
            "[8,  1001] loss: 0.000, MNIST acc: 98.70%\n",
            "[8,  1501] loss: 0.010, MNIST acc: 98.80%\n",
            "[9,   501] loss: 0.002, MNIST acc: 98.96%\n",
            "[9,  1001] loss: 0.004, MNIST acc: 98.76%\n",
            "[9,  1501] loss: 0.005, MNIST acc: 99.12%\n",
            "[10,   501] loss: 0.000, MNIST acc: 98.97%\n",
            "[10,  1001] loss: 0.002, MNIST acc: 99.17%\n",
            "[10,  1501] loss: 0.001, MNIST acc: 99.05%\n",
            "Training finished with test-accs: MNIST acc: 98.98%,\n"
          ]
        }
      ],
      "source": [
        "def calc_accuracy(data, mnet, mnet_weights):\n",
        "    \"\"\"Compute the test accuracy for a given dataset\"\"\"\n",
        "    with torch.no_grad():\n",
        "        # Process complete test set as one batch.\n",
        "        test_in = data.input_to_torch_tensor( \\\n",
        "            data.get_test_inputs(), device, mode='inference')\n",
        "        test_out = data.input_to_torch_tensor( \\\n",
        "            data.get_test_outputs(), device, mode='inference')\n",
        "        test_lbls = test_out.max(dim=1)[1]\n",
        "\n",
        "        logits = mnet(test_in, weights=mnet_weights)\n",
        "        pred_lbls = logits.max(dim=1)[1]\n",
        "\n",
        "        acc = torch.sum(test_lbls == pred_lbls) / test_lbls.numel() * 100.\n",
        "\n",
        "    return acc\n",
        "\n",
        "# Configure training.\n",
        "lr=1e-4\n",
        "batchsize=32\n",
        "nepochs=10\n",
        "\n",
        "# Adam usually works well in combination with hypernetwork training.\n",
        "optimizer = torch.optim.Adam(hnet.internal_params, lr=lr)\n",
        "criterion = nn.CrossEntropyLoss()\n",
        "\n",
        "for epoch in range(nepochs): # For each epoch.\n",
        "\n",
        "    # Iterate over the whole MNIST/FashionMNIST training set.\n",
        "    # Note, that both datasets have the same number of training samples.\n",
        "    i = 0\n",
        "    for curr_batchsize, mx, my in mnist.train_iterator(batchsize):\n",
        "        i += 1\n",
        "\n",
        "        # Current mini-batch of MNIST samples.\n",
        "        mnist_X = mnist.input_to_torch_tensor(mx, device, mode='train')\n",
        "        mnist_Y = mnist.output_to_torch_tensor(my, device, mode='train')\n",
        "\n",
        "        optimizer.zero_grad()\n",
        "\n",
        "        # Compute MNIST loss.\n",
        "        W_mnist = hnet(cond_id=0)\n",
        "        mnist_P = mnet.forward(mnist_X, weights=W_mnist)\n",
        "        loss_mnist = criterion(mnist_P, mnist_Y.max(dim=1)[1])\n",
        "\n",
        "\n",
        "        # The total loss is simply each task's loss combined.\n",
        "        loss = loss_mnist\n",
        "        loss.backward()\n",
        "        optimizer.step()\n",
        "\n",
        "        if i % 500 == 0:\n",
        "            print('[%d, %5d] loss: %.3f, MNIST acc: %.2f%%' %\n",
        "                  (epoch + 1, i + 1, loss.item(),\n",
        "                   calc_accuracy(mnist, mnet, W_mnist)))\n",
        "\n",
        "\n",
        "print('Training finished with test-accs: MNIST acc: %.2f%%,' % \\\n",
        "      (calc_accuracy(mnist, mnet, W_mnist)))"
      ]
    },
    {
      "cell_type": "code",
      "execution_count": 14,
      "metadata": {
        "colab": {
          "base_uri": "https://localhost:8080/",
          "height": 619
        },
        "id": "OM4aGf7pD1ut",
        "outputId": "522a2c5f-ec89-410f-d473-5a80fda233f0"
      },
      "outputs": [
        {
          "data": {
            "image/png": "[encoded data removed]",
            "text/plain": [
              "<Figure size 1000x800 with 4 Axes>"
            ]
          },
          "metadata": {},
          "output_type": "display_data"
        }
      ],
      "source": [
        "\n",
        "mnist_inps, mnist_trgts = mnist.next_test_batch(4)\n",
        "\n",
        "with torch.no_grad():\n",
        "    mnist_X = mnist.input_to_torch_tensor(mnist_inps, device, mode='inference')\n",
        "\n",
        "    W_mnist = hnet(cond_id=0)\n",
        "    mnist_preds = mnet.forward(mnist_X, weights=W_mnist)\n",
        "    mnist_preds = torch.softmax(mnist_preds, dim=1)\n",
        "    mnist_preds = mnist_preds.detach().cpu().numpy()\n",
        "\n",
        "plot_samples_custom('MNIST Examples', mnist_inps, outputs=mnist_trgts, predictions=mnist_preds)"
      ]
    },
    {
      "cell_type": "markdown",
      "metadata": {
        "id": "DRY5B0SvD1ut"
      },
      "source": [
        "## ZADANIE 1\n",
        "Wytrenuj model na datasetach MNIST i FashionMNIST"
      ]
    },
    {
      "cell_type": "code",
      "execution_count": 15,
      "metadata": {
        "colab": {
          "base_uri": "https://localhost:8080/",
          "height": 923
        },
        "id": "-x1cUUR8D1ut",
        "outputId": "aa2ae1c0-2b5c-4bcd-ae74-1ccd69dac646"
      },
      "outputs": [
        {
          "name": "stdout",
          "output_type": "stream",
          "text": [
            "Downloading http://fashion-mnist.s3-website.eu-central-1.amazonaws.com/train-images-idx3-ubyte.gz\n",
            "Downloading http://fashion-mnist.s3-website.eu-central-1.amazonaws.com/train-images-idx3-ubyte.gz to ./FashionMNIST/raw/train-images-idx3-ubyte.gz\n"
          ]
        },
        {
          "name": "stderr",
          "output_type": "stream",
          "text": [
            "100%|██████████| 26421880/26421880 [00:01<00:00, 20603517.61it/s]\n"
          ]
        },
        {
          "name": "stdout",
          "output_type": "stream",
          "text": [
            "Extracting ./FashionMNIST/raw/train-images-idx3-ubyte.gz to ./FashionMNIST/raw\n",
            "\n",
            "Downloading http://fashion-mnist.s3-website.eu-central-1.amazonaws.com/train-labels-idx1-ubyte.gz\n",
            "Downloading http://fashion-mnist.s3-website.eu-central-1.amazonaws.com/train-labels-idx1-ubyte.gz to ./FashionMNIST/raw/train-labels-idx1-ubyte.gz\n"
          ]
        },
        {
          "name": "stderr",
          "output_type": "stream",
          "text": [
            "100%|██████████| 29515/29515 [00:00<00:00, 337681.04it/s]\n"
          ]
        },
        {
          "name": "stdout",
          "output_type": "stream",
          "text": [
            "Extracting ./FashionMNIST/raw/train-labels-idx1-ubyte.gz to ./FashionMNIST/raw\n",
            "\n",
            "Downloading http://fashion-mnist.s3-website.eu-central-1.amazonaws.com/t10k-images-idx3-ubyte.gz\n",
            "Downloading http://fashion-mnist.s3-website.eu-central-1.amazonaws.com/t10k-images-idx3-ubyte.gz to ./FashionMNIST/raw/t10k-images-idx3-ubyte.gz\n"
          ]
        },
        {
          "name": "stderr",
          "output_type": "stream",
          "text": [
            "100%|██████████| 4422102/4422102 [00:00<00:00, 6139327.88it/s]\n"
          ]
        },
        {
          "name": "stdout",
          "output_type": "stream",
          "text": [
            "Extracting ./FashionMNIST/raw/t10k-images-idx3-ubyte.gz to ./FashionMNIST/raw\n",
            "\n",
            "Downloading http://fashion-mnist.s3-website.eu-central-1.amazonaws.com/t10k-labels-idx1-ubyte.gz\n",
            "Downloading http://fashion-mnist.s3-website.eu-central-1.amazonaws.com/t10k-labels-idx1-ubyte.gz to ./FashionMNIST/raw/t10k-labels-idx1-ubyte.gz\n"
          ]
        },
        {
          "name": "stderr",
          "output_type": "stream",
          "text": [
            "100%|██████████| 5148/5148 [00:00<00:00, 13788171.77it/s]\n"
          ]
        },
        {
          "name": "stdout",
          "output_type": "stream",
          "text": [
            "Extracting ./FashionMNIST/raw/t10k-labels-idx1-ubyte.gz to ./FashionMNIST/raw\n",
            "\n"
          ]
        },
        {
          "data": {
            "image/png": "[encoded data removed]",
            "text/plain": [
              "<Figure size 1000x800 with 4 Axes>"
            ]
          },
          "metadata": {},
          "output_type": "display_data"
        }
      ],
      "source": [
        "from hypnettorch.data import FashionMNISTData\n",
        "\n",
        "fmnist = FashionMNISTData(data_dir, use_one_hot=True, validation_size=0)\n",
        "fmnist_inps, fmnist_trgts = fmnist.next_train_batch(4)\n",
        "plot_samples_custom('FashionMNIST Examples', fmnist_inps, outputs=fmnist_trgts)\n"
      ]
    },
    {
      "cell_type": "code",
      "execution_count": null,
      "metadata": {
        "colab": {
          "base_uri": "https://localhost:8080/",
          "height": 399
        },
        "id": "sNQr0-sWD1ut",
        "outputId": "3a625e40-55d1-48ec-c4d6-01cf5aec71a1"
      },
      "outputs": [],
      "source": [
        "for epoch in range(nepochs): \n",
        "    i = 0\n",
        "    for curr_batchsize, mx, my in mnist.train_iterator(batchsize):\n",
        "        i += 1\n",
        "\n",
        "        mnist_X = mnist.input_to_torch_tensor(mx, device, mode='train')\n",
        "        mnist_Y = mnist.output_to_torch_tensor(my, device, mode='train')\n",
        "\n",
        "        # Current mini-batch of FashionMNIST samples.\n",
        "\n",
        "        optimizer.zero_grad()\n",
        "\n",
        "        W_mnist = hnet(cond_id=0)\n",
        "        mnist_P = mnet.forward(mnist_X, weights=W_mnist)\n",
        "        loss_mnist = criterion(mnist_P, mnist_Y.max(dim=1)[1])\n",
        "\n",
        "        # Compute FashionMNIST loss.\n",
        "\n",
        "        # The total loss is each task's loss combined.\n",
        "        loss = loss_mnist\n",
        "        loss.backward()\n",
        "        optimizer.step()\n",
        "\n",
        "        if i % 500 == 0:\n",
        "            print('[%d, %5d] loss: %.3f, MNIST acc: %.2f%%, FashionMNIST acc: %.2f%%' %\n",
        "                  (epoch + 1, i + 1, loss.item(),\n",
        "                   calc_accuracy(mnist, mnet, W_mnist),))\n",
        "\n",
        "\n",
        "print('Training finished with test-accs: MNIST acc: %.2f%%, FashionMNIST %.2f%%' % \\\n",
        "      (calc_accuracy(mnist, mnet, W_mnist)))"
      ]
    },
    {
      "cell_type": "code",
      "execution_count": null,
      "metadata": {
        "id": "RPFM5YvLD1ut",
        "outputId": "ac375d3a-f4f7-4745-a6c3-b3e392a719e7"
      },
      "outputs": [],
      "source": [
        "mnist_inps, mnist_trgts = mnist.next_test_batch(4)\n",
        "fmnist_inps, fmnist_trgts = fmnist.next_test_batch(4)\n",
        "\n",
        "with torch.no_grad():\n",
        "    mnist_X = mnist.input_to_torch_tensor(mnist_inps, device, mode='inference')\n",
        "\n",
        "    W_mnist = hnet(cond_id=0)\n",
        "    mnist_preds = mnet.forward(mnist_X, weights=W_mnist)\n",
        "\n",
        "    mnist_preds = torch.softmax(mnist_preds, dim=1)\n",
        "\n",
        "    mnist_preds = mnist_preds.detach().cpu().numpy()\n",
        "\n",
        "plot_samples_custom('MNIST Examples', mnist_inps, outputs=mnist_trgts, predictions=mnist_preds)"
      ]
    }
  ],
  "metadata": {
    "colab": {
      "provenance": []
    },
    "kernelspec": {
      "display_name": "Python 3",
      "language": "python",
      "name": "python3"
    },
    "language_info": {
      "codemirror_mode": {
        "name": "ipython",
        "version": 3
      },
      "file_extension": ".py",
      "mimetype": "text/x-python",
      "name": "python",
      "nbconvert_exporter": "python",
      "pygments_lexer": "ipython3",
      "version": "3.10.13"
    }
  },
  "nbformat": 4,
  "nbformat_minor": 0
}
