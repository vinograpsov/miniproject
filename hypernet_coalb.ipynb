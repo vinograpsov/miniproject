{
  "cells": [
    {
      "cell_type": "markdown",
      "metadata": {
        "id": "ckFZXl5X2ZOR"
      },
      "source": [
        "# HYPERNETWORK"
      ]
    },
    {
      "cell_type": "markdown",
      "metadata": {
        "id": "Rzst1mnh2ZOS"
      },
      "source": [
        "### INTRODUCTIOIN"
      ]
    },
    {
      "cell_type": "markdown",
      "metadata": {
        "id": "OtoLQyDF2ZOT"
      },
      "source": [
        "Hipernety lub w skrócie hipernety to Sieci neuronowe, które generują wagi dla innej sieci neuronowej, znanej jako sieć docelowa.\n",
        "(Pojawiły się jako potężna technika głębokiego uczenia, która pozwala na większą elastyczność, zdolność adaptacji, dynamikę, szybsze szkolenie, wymianę informacji i kompresję modelu itp.)"
      ]
    },
    {
      "cell_type": "markdown",
      "metadata": {
        "id": "B4okOuSb2ZOT"
      },
      "source": [
        "(Deep learning (DL) zrewolucjonizował dziedzinę sztucznej inteligencji umożliwiając niezwykłe postępy w różnych dzidzinach, w tym wizja komputerowa, przetwarzanie języka naturalnego, wnioskowanie przyczynowe, i reinforcement learningu itp.)\n",
        "\n",
        "\n",
        "(Jednak pomimo ich sukcesu standardowe DNN pozostają restrykcyjne w pewnych warunkach. Na przykład, gdy DNN jest pzetrenowany, jego wagi, a także architektura są stałe i wszelkie zmiany w wagach lub architekturze wymagają ponownego przetrenowania DNN)\n",
        "\n",
        "\n",
        "(Ten brak zdolności adaptacyjnych i dynamizmu ogranicza elastyczność\n",
        "DNN, co czyni je mniej odpowiednimi do scenariuszy, w których wymagane są dynamiczne korekty lub adaptacja danych)\n",
        "\n",
        "\n",
        "\n",
        "(Hypernetworks pojawiły się jako obiecujący paradygmat architektoniczny w celu zwiększenia elastyczności poprzez adaptacyjność danych i architektury dynamicznie oraz wydajność DNN. Hipernety to klasa sieci neuronowych\n",
        "które generują wagi innej sieci neuronowej zwanej siecią docelową/główną/podstawową, gdzie zarówno sieci są szkolone w sposób end-to-end)"
      ]
    },
    {
      "cell_type": "markdown",
      "metadata": {
        "id": "Bp6A2Jcr2ZOT"
      },
      "source": [
        "Kluczowe cechy i zalety hipernetów, które oferują aplikacje w różnych ustawieniach problemów:\n",
        "\n",
        "* Soft weight sharing: Hipernetworks można trenować do generowania wag wielu DNN do rozwiązywania powiązanych zadań. Nazywa się to soft weight sharing, ponieważ w przeciwieństwie do hard weight sharing, który obejmuje wspólne warstwy między zadaniami (np. w multitasking), tutaj różne DNN są generowane przez wspólną hipernetę poprzez warunkowanie zadań. Jest to pomocne przy dzieleniu się informacjami między zadaniami i może być wykorzystywane do uczenia się transferowego lub dynamicznego udostępniania informacji.\n",
        "\n",
        "\n",
        "* Dynamic architectures: Hipernetworks mogą być używane do generowania wag sieci o architekturze dynamicznej, w której liczba warstw lub struktura sieci zmienia się podczas szkolenia lub wnioskowania. Może to być szczególnie przydatne w przypadku zadań, w których docelowa struktura sieci nie jest znana w czasie szkolenia.\n",
        "\n",
        "\n",
        "* Data-adaptive DNN: w przeciwieństwie do standardowego DNN, którego wagi są ustalane w czasie wnioskowania, HyperDNN można opracować w celu generowania sieci docelowej dostosowanej do potrzeb danych. W takich przypadkach hipernety są uwarunkowane danymi wejściowymi w celu dostosowania się do danych.\n",
        "\n",
        "\n",
        "* Uncertainty quantification: Hipernety mogą skutecznie trenować DNN ktore świadome o niepewności, wykorzystując techniki jak multiple inputs z rozkładu szumów lub włączenie przerywania w hipernetach sami. Generując wiele zestawów wag dla sieci głównej, hipernety tworzą zespół modeli, każdy z różnymi konfiguracjami parametrów. To podejście oparte na zespole pomaga w szacowaniu niepewność w przewidywaniach modelu, kluczowy aspekt dla zastosowań krytycznych dla bezpieczeństwa, takich jak opieka zdrowotna, gdzie niezbędna jest miara zaufania do prognoz\n",
        "\n",
        "\n",
        "* Parameter efficiency: DNN przeszkolony w hipernetach może mieć mniej wag niż\n",
        "standardowe DNNs, powodujące z kompresji wag. Może to być szczególnie przydatne, gdy\n",
        "cos diziala z ograniczonymi zasobami, ograniczonymi danymi lub w przypadku danych o dużych wymiarach i może skutkować szybszy trening niż zlykle DNN."
      ]
    },
    {
      "cell_type": "markdown",
      "metadata": {
        "id": "BaVFwsqC2ZOT"
      },
      "source": [
        "### ARCHITECTURE"
      ]
    },
    {
      "cell_type": "markdown",
      "metadata": {
        "id": "afoNDnzM2ZOU"
      },
      "source": [
        "#### Main Network"
      ]
    },
    {
      "cell_type": "markdown",
      "metadata": {
        "id": "6fL68qF62ZOU"
      },
      "source": [
        "Struktura i rola: Main Network to typowa sieć neuronowa, którą można zaprojektować do dowolnego zadania głębokiego uczenia, takiego jak klasyfikacja obrazu, przetwarzanie języka naturalnego lub inne zadania. Struktura tej sieci może się różnić w zależności od konkretnego zadania: może to być splotowa sieć neuronowa (CNN) do przetwarzania obrazu, powtarzająca się sieć neuronowa (RNN) do przetwarzania sekwencji danych i tak dalej."
      ]
    },
    {
      "cell_type": "markdown",
      "metadata": {
        "id": "hpEAL3ZJ2ZOU"
      },
      "source": [
        "Uczenie: w normalnej sytuacji wagi tej sieci są inicjowane losowo, a następnie optymalizowane w procesie uczenia się, aby rozwiązać dany problem."
      ]
    },
    {
      "cell_type": "markdown",
      "metadata": {
        "id": "gob7aiG02ZOU"
      },
      "source": [
        "#### Hypernetwork"
      ]
    },
    {
      "cell_type": "markdown",
      "metadata": {
        "id": "IFtDUVCv2ZOU"
      },
      "source": [
        "Struktura i rola: Hypernetwork to oddzielna sieć neuronowa, której celem jest generowanie wag dla sieci głównej. Ta sieć jest zwykle mniejsza i może być zaprojektowana tak, aby uwzględniać pewne cechy zadania, do którego szkolona jest sieć główna."
      ]
    },
    {
      "cell_type": "markdown",
      "metadata": {
        "id": "OZwR_aYk2ZOU"
      },
      "source": [
        "Interakcja z siecią główną: Hypernetwork pobiera dane wejściowe, które mogą zawierać informacje o stanie lub strukturze sieci głównej i na podstawie tych danych generuje wagi dla sieci głównej. Oznacza to, że wagi głównej sieci nie są bezpośrednio optymalizowane za pomocą standardowych metod szkoleniowych, takich jak propagacja wsteczna błędu, ale są generowane i zmieniane dynamicznie dzięki Hypernetwork."
      ]
    },
    {
      "cell_type": "markdown",
      "metadata": {
        "id": "veE87bqu2ZOU"
      },
      "source": []
    },
    {
      "cell_type": "markdown",
      "metadata": {
        "id": "oMxDlVib2ZOU"
      },
      "source": [
        "## Categorisation of Hypernetworks"
      ]
    },
    {
      "cell_type": "markdown",
      "metadata": {
        "id": "hEDl5-qY2ZOV"
      },
      "source": [
        "Существует разделение на 5 критериев дезайна гиперсетей\n",
        "- input-based\n",
        "- output-based\n",
        "- variability of inputs\n",
        "- variability of outputs\n",
        "- architecture-based\n",
        "\n",
        "с помощью каждого из них можно можно подробнее понять работы конкретной гиперсети отвечая на вопросы:\n",
        "\n",
        "![categorisation.png](./imgs/categorisation.png)"
      ]
    },
    {
      "cell_type": "markdown",
      "metadata": {
        "id": "YatSqszQ2ZOV"
      },
      "source": []
    },
    {
      "cell_type": "markdown",
      "metadata": {
        "id": "Es522MeP2ZOV"
      },
      "source": []
    },
    {
      "cell_type": "markdown",
      "metadata": {
        "id": "Xm-fuS7d2ZOV"
      },
      "source": []
    },
    {
      "cell_type": "markdown",
      "metadata": {
        "id": "exw3xhrM2ZOV"
      },
      "source": []
    },
    {
      "cell_type": "markdown",
      "metadata": {
        "id": "Rx9Z7wWE2ZOV"
      },
      "source": [
        "## Input-based hypernetworks\n",
        "Hypernetworks take a context vector as an input and generate weights of the target DNN as output. Depending on what\n",
        "context vector is used, we can have the following types of hypernetworks\n",
        "\n",
        "\n",
        "\n",
        "- Task-conditioned hypernetworks: These hypernetworks take task-specific information as input. The task information\n",
        "can be in the form of task identity/embedding, hyperparameters, architectures, or any other task-specific cues. The\n",
        "hypernetwork generates weights that are tailored to the specific task. This allows the hypernet to adapt its behavior\n",
        "accordingly and allows information sharing, through soft weight sharing of hypernets, among the tasks, resulting in\n",
        "better performance on the tasks\n",
        "\n",
        "- Data-conditioned hypernetworks: These hypernetworks are conditioned on the data that the target network is being\n",
        "trained on. The hypernetwork generates weights based on the characteristics of the input data. This enables the neural\n",
        "network to dynamically adjust its behavior based on the specific input pattern or features, leading to more flexible and\n",
        "adaptive models, and resulting in better generalization to unseen data.\n",
        "\n",
        "\n",
        "- Noise-conditioned hypernetworks: These hypernetworks are not conditioned on any input data or task cues, but rather\n",
        "on randomly sampled noise. This makes them more general-purpose and helps in predictive uncertainty quantification\n",
        "for DNNs, but it also means that they may not perform as well as task-conditioned or data-conditioned hypernetworks\n",
        "on multiple tasks or datasets."
      ]
    },
    {
      "cell_type": "markdown",
      "metadata": {
        "id": "pXMCAEEY2ZOV"
      },
      "source": [
        "### Output-based Hypernetworks\n",
        "\n",
        "\n",
        "Based on the outputs of hypernets, i.e., weight generation strategy, we classify hypernetworks according to whether\n",
        "all weights are generated together or not. This classification of hypernetworks is important because it controls the\n",
        "scalability and complexity of the hypernetworks, as typically DNNs have a large number of weights, and producing all\n",
        "of them together can make the size of the last layer of hypernets large.\n",
        "\n",
        "\n",
        "\n",
        "- Generate Once: These hypernetworks generate weights of the entire target DNN altogether. This approach uses all\n",
        "the generated weights, and weights of each layer are generated together, unlike the other weight generation strategies.\n",
        "However, this weight generation approach is not suitable for large target networks because that can lead to complex\n",
        "hypernets\n",
        "\n",
        "\n",
        "\n",
        "- Generate Multiple: These hypernetworks have multiple heads for producing weights (sometimes referred to as\n",
        "split/multi-head hypernets) and this weight generation approach can complement the other approaches. This simplifies\n",
        "the complexity and reduces the number of weights required in the last layer of the hypernets by the number of head\n",
        "times. This approach does not need additional embeddings, and in general, uses all the generated weights, unlike component-wise and chunk-wise weight generation approaches where some weights remain unused.\n",
        "\n",
        "\n",
        "- Generate Chunk-wise: Chunk-wise hypernetworks generate weights of the target network in chunks. This can lead to\n",
        "not using some of the generated weights because the weights are generated as per the chunk size, which may not match\n",
        "the layer sizes. If the chunk size is smaller than the layer size, then all the weights of a layer may not be generated\n",
        "together. Moreover, these hypernets need additional embeddings to distinguish different chunks and to produce specific\n",
        "weights for the chunks. However, overall chunk-wise weight generation leads to reducing complexity and improving\n",
        "the scalability of hypernets.\n",
        "\n",
        "\n",
        "- Generate Component-wise: Component-wise weights generation strategy generates weights for each individual\n",
        "component (such as layer or channel) of the target model separately. This is helpful in generating specific weights\n",
        "because different layers or channels represent different features or patterns in the network. However, similar to the\n",
        "chunk-wise approach, component-wise hypernets need an embedding for each component to distinguish among different\n",
        "components and produce weights specific to that component. They also help to reduce the complexity and improve the\n",
        "scalability of hypernets. Since the weights are generated as per the size of the largest layer so this weight generation\n",
        "approach can lead to not using some of weights in smaller layers. This strategy can be seen as a special case of a\n",
        "chunk-wise weight generation approach, where one chunk is equal to the size of one component.\n",
        "\n"
      ]
    },
    {
      "cell_type": "markdown",
      "metadata": {
        "id": "ppoM_XCG2ZOV"
      },
      "source": [
        "### Variability of Inputs\n",
        "\n",
        "We can categorize hypernets based on the variability of the inputs. We have two classes, static inputs and dynamic\n",
        "inputs, as discussed below.\n",
        "\n",
        "- Static Inputs: If the inputs are predefined and are fixed then the hypernet is called static with respect to the inputs. For\n",
        "example, multitasking [42] has fixed number of tasks leading to fixed number of inputs. It is to be noted that here fixed\n",
        "input only means fixed tasks identities, however hypernets can learn embeddings for different tasks.\n",
        "\n",
        "\n",
        "- Dynamic Inputs: If the inputs change and generally are dependent on data on which the target network is trained,\n",
        "then the hypernet is called dynamic with respect to the inputs. Dynamic inputs help hypernetworks to introduce a new\n",
        "level of adaptability by dynamically generating the weights of the target network. This dynamic weight generation\n",
        "enables hypernetworks to respond to input-dependent context and adjust their behavior accordingly. By generating\n",
        "network weights based on specific inputs, hypernetworks can capture intricate patterns and dependencies that may vary\n",
        "across different instances of data. This adaptability leads to enhanced model performance, especially in scenarios with\n",
        "complex and evolving data distributions\n",
        "\n"
      ]
    },
    {
      "cell_type": "markdown",
      "metadata": {
        "id": "X-hd8Ekw2ZOV"
      },
      "source": [
        "### Variability of Outputs\n",
        "\n",
        "When classifying hypernetworks based on the nature of the target network’s weights, we can categorize them into two\n",
        "types, static outputs or dynamic outputs, as discussed below.\n",
        "\n",
        "\n",
        "- Static Outputs: If weights of the target network are fixed in size, then the hypernet is called static with respect to the\n",
        "outputs. In this case, the target network is also static. For example, Pan et al. [49], Szatkowski et al. [69] produce static weights.\n",
        "\n",
        "\n",
        "- Dynamic Outputs: If weights of the target network are not fixed, i.e., the architecture varies in size, then the hypernet\n",
        "is called dynamic with respect to the outputs, and the target network is also a dynamic network as it can have different\n",
        "architecture depending on the input of the hypernet. The dynamic weights can be generated, mainly, in two situations,\n",
        "first when the hypernet architecture is dynamic, e.g.,"
      ]
    },
    {
      "cell_type": "markdown",
      "metadata": {
        "id": "7ksPV4S72ZOV"
      },
      "source": [
        "### Dynamism in Hypernetworks\n",
        "\n",
        "This is a super categorization of Subsection 3.3 and 3.4 into broader category based on the dynamism in inputs or\n",
        "outputs of the hypernets, as discussed below.\n",
        "\n",
        "- Static Hypernets: If input of a hypernet is fixed, i.e., predefined and number of weights produced by hypernet for\n",
        "the target network are fixed, i.e., the architecture is fixed, then the hypernet is called as a static hypernet. This kind of\n",
        "hypernets work with predefined inputs, e.g., task identities, which can be learned as embeddings, but the tasks being\n",
        "solved remain same\n",
        "\n",
        "- Dynamic Hypernets: If input of a hypernet is based on input of target network, i.e., input data, or number of weights\n",
        "produced by hypernet for the target network are variable, i.e., the architecture is dynamic, then the hypernet is called\n",
        "as a dynamic hypernet. F"
      ]
    },
    {
      "cell_type": "markdown",
      "metadata": {
        "id": "zVBhGWhE2ZOV"
      },
      "source": [
        "### Architecture of Hypernetworks\n",
        "\n",
        "In the categorization of hypernetworks based on their architectures, we can classify them into four major types:\n",
        "multi-layer perceptrons (MLPs), convolutional neural networks (CNNs), recurrent neural networks (RNNs), and\n",
        "attention-based networks, as given below.\n",
        "\n",
        "\n",
        "- MLPs: MLP based hypernetworks employ a dense and fully connected architecture, allowing every input neuron to\n",
        "connect with every output neuron. This architecture enables a comprehensive weight generation process by considering\n",
        "the entire input information, e.g., [14].\n",
        "\n",
        "\n",
        "- CNNs: CNN hypernetworks, on the other hand, leverage convolutional layers to capture local patterns and spatial\n",
        "information. These hypernetworks excel in tasks involving spatial data, such as an image or video analysis, by extracting\n",
        "features from the input and generating weights or parameters accordingly, e.g., Nirkin et al. [46] employed MLP to\n",
        "implement hypernets.\n",
        "\n",
        "\n",
        "- RNNs: RNN hypernetworks incorporate recurrent connections in their architecture, facilitating feedback loops and\n",
        "sequential information processing. They dynamically generate weights or parameters based on previous states or inputs,\n",
        "making them well-suited for tasks involving sequential data, such as natural language processing or time series analysis,\n",
        "e.g., Ha et al. [23] employed RNN to implement hypernets.\n",
        "\n",
        "\n",
        "- Attention Attention-based hypernetworks incorporate attention mechanisms [72] into their architecture. By selectively\n",
        "focusing on relevant input features, these hypernetworks generate weights for the target network, allowing them to\n",
        "capture long-range dependencies and improve the quality of generated outputs, e.g., Volk et al. [73] employed attention\n",
        "to implement hypernets\n"
      ]
    },
    {
      "cell_type": "markdown",
      "metadata": {
        "id": "i2QhYImc2ZOV"
      },
      "source": [
        "ZASTOSOWANIA\n",
        "Hypernetworki zademonstrowały swoją użyteczność w szerokim zakresie zastosowań w deep learningu.\n",
        "* Continual Learning\n",
        "    * Model uczy się przez cały czas bez zapominania tego co został już nauczony.\n",
        "    * W przeciwieństwie do tradycyjnego uczenia na batchach gdzie ilośc danych jest stała, dane napływają cały czas w rosnącej ilosci.\n",
        "    * Modelując każdy dataset jako task i stosując task-conditioned hyperneta pozwoliło na współdzielenie informacji pomiedzy taskami\n",
        "    * Probem catastrophic forgettingu został rozwiązany za pomocą regularyzatora operujacego na wagach w ramach jednego taska\n",
        "    * (Huang, Y., Xie, K., Bharadhwaj, H., and Shkurti, F. (2021). Continual model-based reinforcement learning with hypernetworks)\n",
        "* Federated Learning\n",
        "    * Model trenowany jest na wielu urządzeniach jednocześnie\n",
        "    * Znajdujący się na centralnym serwerze hypernetwork odpowiada za aktualizowanie wag modelów\n",
        "    * Każde urządzenie jest reprezentowane jako pojedynczy task a hypernet stosuje task conditioning\n",
        "    * Shamsian, A., Navon, A., Fetaya, E., and Chechik, G. (2021). Personalized federated learning using hypernetworks. In International Conference on Machine Learning\n",
        "* Few-shot Learning\n",
        "    * Hypernetwork oparty na encoderze-dekoderze, który uczy zależną od danych, generatywną reprezentację parametrów modelu, który dzieli informacje między różnymi zadaniami poprzez miękkie wagi.\n",
        "    \n",
        "* Domain Adaptation\n",
        "    * Data conditioned hypernetworki gdzie przykłady z domen docelowych są używane jako dane wejściowe do hyperneru, który generuje\n",
        "    wagi dla sieci docelowej. Daje to hiper-sieciom możliwość uczenia się i dzielenia informacjami z istniejących domen z domeną docelową.\n",
        "    domeny docelowej poprzez wspólne uczenie.\n",
        "\n",
        "* Causal Inference\n",
        "    * apply hypernets to heterogeneous treatment effects\n",
        "    (HTE) estimation problem [14]. We applied task-conditioned hypernets where each potential outcome (PO) function\n",
        "    is considered as a task. Embeddings of PO functions are used as input to hypernet that generates parameters for the\n",
        "    corresponding PO function, i.e., factual and counterfactual models. Based on soft weight sharing of hypernets, this\n",
        "    work presents the first general mechanism to train HTE learners that enables end-to-end inter-treatment information\n",
        "    sharing among the PO functions and helps to get reliable estimates, especially with limited-size observational data. The\n",
        "    proposed framework also incorporates dropout in the hypernet that allows to generate multiple sets of parameters for\n",
        "    the PO functions and helps in uncertainty quantification\n",
        "\n",
        "* Uncertainty Quantification\n",
        "    * Hypernets can effectively train uncertainty aware DNNs by leveraging techniques\n",
        "    like sampling multiple inputs from the noise distribution [32] or incorporating dropout within the hypernets themselves\n",
        "    [14]. By generating multiple sets of weights for the main network, hypernets create an ensemble of models, each\n",
        "    with different parameter configurations. This ensemble-based approach aids in estimating uncertainty in the model\n",
        "    predictions.\n",
        "\n",
        "* Multitasking\n",
        "    *   Hypernety mogą być stosowane w kontekście multitasking w celu ułatwienia wspólnego\n",
        "        uczenia się wielu zadań poprzez dynamiczne generowanie lub dostosowywanie parametrów lub architektur modelu. W szczególności,\n",
        "        możemy trenować task conditioned hypernety, gdzie osadzanie tasku działa jako dane wejściowe do sieci, która\n",
        "        generuje wagi dla odpowiedniego zadania. Możemy albo wygenerować cały model dla każdego z zadań, albo tylko jego niewspółdzielone części.\n",
        "\n",
        "* Reinforcement Learning\n",
        "    * Hypernets can be used to dynamically generate or adapt network architectures, model parameters, or exploration strategies in RL agents. By\n",
        "    using a hypernetwork, the RL agent can effectively learn to customize its internal representations or policies based on\n",
        "    the specific characteristics of the environment or task.\n",
        "\n",
        "* Computer Vision\n",
        "    * Data conditioned hypernet gdzie obraz jest inputem do hypernetu do wyostrzania zdjęć\n",
        "    * Noise conditioned hypernet do klasfikacji obrazów\n",
        "    * Rozwiązania stosowane do problemów AutoML, Continual Learning i Federated Learning też mogą być zastosowane\n",
        "\n",
        "* Usprawnienie procesu uczenia modelów AutoML, Manifold"
      ]
    },
    {
      "cell_type": "markdown",
      "metadata": {
        "id": "vlcY6dfQ2ZOW"
      },
      "source": [
        "KIEDY UŻYĆ HYPERNETWORKA\n",
        "* Are there any related components in the problem setting under consideration?\n",
        "* Do we need a data-adaptive neural network?\n",
        "* Do we need a dynamic neural network architecture?\n",
        "* Do we need faster training/ parameter efficiency?\n",
        "* Do we need uncertainty quantification?"
      ]
    },
    {
      "cell_type": "markdown",
      "metadata": {
        "id": "S3HZUuUC2ZOW"
      },
      "source": [
        "PRZYKŁADYHYPENETTROCH\n",
        "Paczka zawierającą gotową implementacje hypernetworków w PyTorch.\n",
        "https://github.com/chrhenning/hypnettorch/tree/master\n",
        "\n",
        "Zapewnia łatwy w użyciu sposób implemetacji tego mechanizmu w sieciach"
      ]
    },
    {
      "cell_type": "markdown",
      "metadata": {
        "id": "YuoKTJc92ZOW"
      },
      "source": [
        "PRZYKŁAD:KLASYFIKATOR MINST"
      ]
    },
    {
      "cell_type": "code",
      "execution_count": 1,
      "metadata": {
        "colab": {
          "base_uri": "https://localhost:8080/"
        },
        "id": "V0NCkBmW2ZOW",
        "outputId": "9e2b1726-3867-4a27-edbf-75599a03bfc6",
        "vscode": {
          "languageId": "plaintext"
        }
      },
      "outputs": [
        {
          "name": "stdout",
          "output_type": "stream",
          "text": [
            "Collecting hypnettorch\n",
            "  Downloading hypnettorch-0.0.4-py3-none-any.whl (456 kB)\n",
            "\u001b[2K     \u001b[90m━━━━━━━━━━━━━━━━━━━━━━━━━━━━━━━━━━━━━━━━\u001b[0m \u001b[32m456.9/456.9 kB\u001b[0m \u001b[31m6.7 MB/s\u001b[0m eta \u001b[36m0:00:00\u001b[0m\n",
            "\u001b[?25hInstalling collected packages: hypnettorch\n",
            "Successfully installed hypnettorch-0.0.4\n"
          ]
        }
      ],
      "source": [
        "!python3 -m pip install hypnettorch"
      ]
    },
    {
      "cell_type": "code",
      "execution_count": 2,
      "metadata": {
        "id": "TiRvB6yE2ZOW",
        "vscode": {
          "languageId": "plaintext"
        }
      },
      "outputs": [],
      "source": [
        "from IPython.display import display, Markdown, Latex\n",
        "import numpy as np\n",
        "import torch\n",
        "from torch import nn\n",
        "\n",
        "device = 'cuda' if torch.cuda.is_available() else 'cpu'"
      ]
    },
    {
      "cell_type": "code",
      "execution_count": 3,
      "metadata": {
        "id": "KwgI_TgJ2ZOW",
        "vscode": {
          "languageId": "plaintext"
        }
      },
      "outputs": [],
      "source": [
        "# Specify where to download the datasets?\n",
        "data_dir = '.'"
      ]
    },
    {
      "cell_type": "code",
      "execution_count": 4,
      "metadata": {
        "id": "2mPEIWDm2lBD"
      },
      "outputs": [],
      "source": [
        "import numpy as np\n",
        "import matplotlib.pyplot as plt\n",
        "\n",
        "def plot_samples_custom(title, inputs, outputs=None, predictions=None,\n",
        "                        num_samples_per_row=4, show=True, filename=None,\n",
        "                        interactive=False, figsize=(10, 8), **kwargs):\n",
        "    \"\"\"Plot samples.\n",
        "\n",
        "    Args:\n",
        "        title (str): The title of the whole figure.\n",
        "        inputs (numpy.ndarray): A 2D numpy array, where each row is an input sample.\n",
        "        outputs (numpy.ndarray, optional): A 2D numpy array of actual dataset targets.\n",
        "        predictions (numpy.ndarray, optional): A 2D numpy array of predicted output samples.\n",
        "        num_samples_per_row (int): Maximum number of samples plotted per row in the generated figure.\n",
        "        show (bool): Whether the plot should be shown.\n",
        "        filename (str, optional): If provided, the figure will be stored under this filename.\n",
        "        interactive (bool): Turn on interactive mode.\n",
        "        figsize (tuple): A tuple determining the size of the figure in inches.\n",
        "        **kwargs (optional): Optional keyword arguments that can be dataset-dependent.\n",
        "    \"\"\"\n",
        "    num_plots = inputs.shape[0]\n",
        "    num_cols = min(num_plots, num_samples_per_row)\n",
        "    num_rows = int(np.ceil(num_plots / num_samples_per_row))\n",
        "\n",
        "    fig, axes = plt.subplots(num_rows, num_cols, figsize=figsize)\n",
        "    fig.suptitle(title, size=20)\n",
        "\n",
        "    for i in range(num_rows):\n",
        "        for j in range(num_cols):\n",
        "            index = i * num_cols + j\n",
        "            ax = axes[i, j] if num_rows > 1 else axes[j]\n",
        "\n",
        "            if index < num_plots:\n",
        "                ax.imshow(inputs[index].reshape((28, 28)), cmap='gray', aspect='equal')\n",
        "                ax.axis('off')\n",
        "\n",
        "                if outputs is not None:\n",
        "                    ax.set_title(f'Actual: {np.argmax(outputs[index])}')\n",
        "\n",
        "                if predictions is not None:\n",
        "                    ax.set_xlabel(f'Prediction: {np.argmax(predictions[index])}')\n",
        "\n",
        "                    # Display probability distribution\n",
        "                    num_classes = predictions.shape[1]\n",
        "                    class_labels = np.arange(num_classes)\n",
        "                    ax2 = ax.inset_axes([0, -0.2, 1, 0.2], aspect='equal')  # Set aspect ratio to 'equal'\n",
        "                    ax2.bar(class_labels, predictions[index], alpha=0.7)\n",
        "                    ax2.set_xticks(class_labels)\n",
        "                    ax2.set_xticklabels([str(label) for label in class_labels])\n",
        "                    ax2.set_xlabel('Class')\n",
        "                    ax2.set_ylabel('Probability')\n",
        "\n",
        "    plt.tight_layout(rect=[0, 0.03, 1, 0.95])\n",
        "\n",
        "    if show:\n",
        "        plt.show()\n",
        "\n",
        "    if filename is not None:\n",
        "        plt.savefig(filename, bbox_inches='tight')"
      ]
    },
    {
      "cell_type": "markdown",
      "metadata": {
        "id": "LHBiB8XP2ZOW"
      },
      "source": [
        "Hypenettorch dostarcza api służące do obsługi datasetów, oraz gotowe implementacje najpouparniejszych, np MNIST, FashionMNIST, CelebA\n"
      ]
    },
    {
      "cell_type": "code",
      "execution_count": 5,
      "metadata": {
        "colab": {
          "base_uri": "https://localhost:8080/",
          "height": 826
        },
        "id": "tlDO2aPv2ZOW",
        "outputId": "c2a4724b-67cf-4662-ef43-11d6505001e8",
        "vscode": {
          "languageId": "plaintext"
        }
      },
      "outputs": [
        {
          "name": "stdout",
          "output_type": "stream",
          "text": [
            "Reading MNIST dataset ...\n",
            "Creating directory \"./MNIST\" ...\n",
            "Downloading training images ...\n",
            "Downloading training labels ...\n",
            "Downloading test images ...\n",
            "Downloading test labels ...\n",
            "Reading labels from ./MNIST/train-labels-idx1-ubyte.gz.\n",
            "Number of labels in current file: 60000\n",
            "Reading labels from ./MNIST/t10k-labels-idx1-ubyte.gz.\n",
            "Number of labels in current file: 10000\n",
            "Reading images from ./MNIST/train-images-idx3-ubyte.gz.\n",
            "Number of images in current file: 60000\n",
            "Reading images from ./MNIST/t10k-images-idx3-ubyte.gz.\n",
            "Number of images in current file: 10000\n",
            "Elapsed time to read dataset: 9.917877 sec\n"
          ]
        },
        {
          "data": {
            "image/png": "[encoded data removed]",
            "text/plain": [
              "<Figure size 1000x800 with 4 Axes>"
            ]
          },
          "metadata": {},
          "output_type": "display_data"
        }
      ],
      "source": [
        "from hypnettorch.data import MNISTData\n",
        "\n",
        "mnist = MNISTData(data_dir, use_one_hot=True, validation_size=0)\n",
        "\n",
        "mnist_inps, mnist_trgts = mnist.next_train_batch(4)\n",
        "\n",
        "plot_samples_custom('MNIST Examples', mnist_inps, outputs=mnist_trgts)"
      ]
    },
    {
      "cell_type": "markdown",
      "metadata": {
        "id": "V2gfOB6P2ZOX"
      },
      "source": [
        "SIEĆ DOCELOWA\n",
        "Na początku tworzymy sieć docelową, dla której hypenet będzie generował wagi. Paczka zawiera zawiera intefejs MainNetworkInterface do implementowania własnych sieci neuronowych a także gotowe implementacje kilku poularnych typów np MLP"
      ]
    },
    {
      "cell_type": "code",
      "execution_count": 6,
      "metadata": {
        "colab": {
          "base_uri": "https://localhost:8080/",
          "height": 331
        },
        "id": "JFCxqyqz2ZOX",
        "outputId": "d4901950-816d-4eee-ea91-95cc7e4266ba",
        "vscode": {
          "languageId": "plaintext"
        }
      },
      "outputs": [
        {
          "name": "stdout",
          "output_type": "stream",
          "text": [
            "Creating an MLP with 478410 weights.\n",
            "Creating an MLP with 478410 weights.\n"
          ]
        },
        {
          "data": {
            "text/markdown": [
              "**MLP with weights**"
            ],
            "text/plain": [
              "<IPython.core.display.Markdown object>"
            ]
          },
          "metadata": {},
          "output_type": "display_data"
        },
        {
          "name": "stdout",
          "output_type": "stream",
          "text": [
            "Num internal weights 478410, num total 478410.\n",
            "Number of parameter tensors: 6\n",
            "Predicted classes:  tensor([7, 6, 7, 7])\n"
          ]
        },
        {
          "data": {
            "text/markdown": [
              "**MLP without weights**"
            ],
            "text/plain": [
              "<IPython.core.display.Markdown object>"
            ]
          },
          "metadata": {},
          "output_type": "display_data"
        },
        {
          "name": "stdout",
          "output_type": "stream",
          "text": [
            "Num internal weights 0, num total 478410.\n",
            "Number of parameter tensors: 0\n"
          ]
        },
        {
          "data": {
            "text/markdown": [
              "An **error** occured during the forward pass."
            ],
            "text/plain": [
              "<IPython.core.display.Markdown object>"
            ]
          },
          "metadata": {},
          "output_type": "display_data"
        },
        {
          "name": "stdout",
          "output_type": "stream",
          "text": [
            "Traceback (most recent call last):\n",
            "  File \"<ipython-input-6-5b3e9f923273>\", line 31, in <cell line: 14>\n",
            "    Y = net.forward(X, weights=None)\n",
            "  File \"/usr/local/lib/python3.10/dist-packages/hypnettorch/mnets/mlp.py\", line 527, in forward\n",
            "    raise Exception('Network was generated without weights. ' +\n",
            "Exception: Network was generated without weights. Hence, \"weights\" option may not be None.\n"
          ]
        }
      ],
      "source": [
        "from hypnettorch.mnets import MLP\n",
        "import sys\n",
        "import traceback\n",
        "\n",
        "num_pixel = np.prod(mnist.in_shape)\n",
        "\n",
        "# Create a fully-connected network with and without internal parameters.\n",
        "mlp_with = MLP(n_in=num_pixel, n_out=10, hidden_layers=[400,400],\n",
        "               no_weights=False).to(device)\n",
        "\n",
        "mlp_without = MLP(n_in=num_pixel, n_out=10, hidden_layers=[400,400],\n",
        "                  no_weights=True).to(device)\n",
        "\n",
        "for name, net in [('MLP with weights', mlp_with),\n",
        "                  ('MLP without weights', mlp_without)]:\n",
        "    display(Markdown('**%s**' % name))\n",
        "\n",
        "    print('Num internal weights %d, num total %d.' % \\\n",
        "          (net.num_internal_params, net.num_params))\n",
        "\n",
        "    print('Number of parameter tensors: %d' % \\\n",
        "          len(list(net.parameters())))\n",
        "\n",
        "    ### Example forward pass (with randomly initialized network).\n",
        "    # Note, the data handler returns the data as a numpy array, which\n",
        "    # has to be translated to a torch tensor.\n",
        "    mnist_inps, _ = mnist.next_train_batch(4)\n",
        "    X = mnist.input_to_torch_tensor(mnist_inps, device, mode='train')\n",
        "\n",
        "    try:\n",
        "        Y = net.forward(X, weights=None)\n",
        "        print('Predicted classes: ', Y.max(dim=1)[1])\n",
        "    except:\n",
        "        display(Markdown('An **error** occured during the forward pass.'))\n",
        "        traceback.print_exc(file=sys.stdout)"
      ]
    },
    {
      "cell_type": "markdown",
      "metadata": {
        "id": "lm3RsAEp2ZOX"
      },
      "source": [
        "TWORZENIE HYPERNETA\n",
        "O HUJ CHODZI Z LENETEM???"
      ]
    },
    {
      "cell_type": "code",
      "execution_count": 7,
      "metadata": {
        "colab": {
          "base_uri": "https://localhost:8080/"
        },
        "id": "yrRaIc_k2ZOX",
        "outputId": "30b2e2be-87c9-498d-ec1f-3ea394259fe3",
        "vscode": {
          "languageId": "plaintext"
        }
      },
      "outputs": [
        {
          "name": "stdout",
          "output_type": "stream",
          "text": [
            "Creating a LeNet with 21840 weights.\n"
          ]
        }
      ],
      "source": [
        "from hypnettorch.mnets import LeNet\n",
        "\n",
        "mnet = LeNet(in_shape=mnist.in_shape, num_classes=mnist.num_classes,\n",
        "             arch='mnist_small', no_weights=True).to(device)"
      ]
    },
    {
      "cell_type": "code",
      "execution_count": 8,
      "metadata": {
        "colab": {
          "base_uri": "https://localhost:8080/"
        },
        "id": "UwoEO6NW2ZOX",
        "outputId": "6f81dc1d-a398-4e0e-f9ca-123e32f7d8b4",
        "vscode": {
          "languageId": "plaintext"
        }
      },
      "outputs": [
        {
          "name": "stdout",
          "output_type": "stream",
          "text": [
            "Created MLP Hypernet.\n",
            "Hypernetwork with 2216856 weights and 21840 outputs (compression ratio: 101.50).\n",
            "The network consists of 2216840 unconditional weights (2216840 internally maintained) and 16 conditional weights (16 internally maintained).\n",
            "\n",
            "The randomly initialized input embeddings are:\n",
            " [Parameter containing:\n",
            "tensor([-0.4123, -1.1423,  1.0893,  0.9293, -0.6952, -0.6794,  2.7921,  0.7447],\n",
            "       requires_grad=True), Parameter containing:\n",
            "tensor([-2.3446, -0.6967, -1.5048,  1.4686,  0.3056, -0.0276, -0.2507,  0.3611],\n",
            "       requires_grad=True)]\n"
          ]
        }
      ],
      "source": [
        "from hypnettorch.hnets import HMLP\n",
        "\n",
        "hnet = HMLP(mnet.param_shapes, uncond_in_size=0, cond_in_size=8,\n",
        "            layers=[100, 100], num_cond_embs=2).to(device)\n",
        "\n",
        "print()\n",
        "print('The randomly initialized input embeddings are:\\n',\n",
        "      hnet.conditional_params)\n",
        "\n",
        "# To produce main network weights for condition `0`, we can either pass\n",
        "# the corresponding condition ID, or the corresponding (internally maintained)\n",
        "# embedding to the `forward` of the hypernetwork.\n",
        "W0 = hnet.forward(cond_id=0)\n",
        "W0_tmp = hnet.forward(cond_input=hnet.conditional_params[0].view(1, -1))\n",
        "assert np.all([torch.equal(W0[i], W0_tmp[i]) for i in range(len(W0))])\n",
        "\n",
        "# Hypernetworks also allow batch processing.\n",
        "W_batch = hnet.forward(cond_id=[0, 0])\n",
        "assert np.all([torch.equal(W_batch[0][i], W_batch[1][i]) \\\n",
        "               for i in range(len(W0))])"
      ]
    },
    {
      "cell_type": "code",
      "execution_count": 9,
      "metadata": {
        "id": "JuKYFJhL2ZOb",
        "vscode": {
          "languageId": "plaintext"
        }
      },
      "outputs": [],
      "source": [
        "hnet.apply_hyperfan_init(mnet=mnet)"
      ]
    },
    {
      "cell_type": "code",
      "execution_count": 10,
      "metadata": {
        "colab": {
          "base_uri": "https://localhost:8080/"
        },
        "id": "5OhBIEVF2ZOb",
        "outputId": "f5583dda-1b8d-449c-9917-0b59e44a093d",
        "vscode": {
          "languageId": "plaintext"
        }
      },
      "outputs": [
        {
          "name": "stdout",
          "output_type": "stream",
          "text": [
            "Predicted classes for condition 0:  tensor([1, 1, 1, 1])\n",
            "Predicted classes for condition 1:  tensor([6, 6, 6, 0])\n"
          ]
        }
      ],
      "source": [
        "# Get a batch of main network inputs.\n",
        "mnist_inps, _ = mnist.next_train_batch(4)\n",
        "X = mnist.input_to_torch_tensor(mnist_inps, device, mode='train')\n",
        "\n",
        "# Generate the main network weights for both conditions.\n",
        "W = hnet.forward(cond_id=[0, 1])\n",
        "\n",
        "Y0 = mnet.forward(X, weights=W[0])\n",
        "print('Predicted classes for condition 0: ', Y0.max(dim=1)[1])\n",
        "\n",
        "Y1 = mnet.forward(X, weights=W[1])\n",
        "print('Predicted classes for condition 1: ', Y1.max(dim=1)[1])"
      ]
    },
    {
      "cell_type": "code",
      "execution_count": 11,
      "metadata": {
        "colab": {
          "base_uri": "https://localhost:8080/"
        },
        "id": "nn6vQQ_s2ZOc",
        "outputId": "77ba3097-1564-4c51-abe2-a54e3dd7fd34",
        "vscode": {
          "languageId": "plaintext"
        }
      },
      "outputs": [
        {
          "name": "stdout",
          "output_type": "stream",
          "text": [
            "[1,   501] loss: 0.062, MNIST acc: 94.82%\n",
            "[1,  1001] loss: 0.047, MNIST acc: 95.73%\n",
            "[1,  1501] loss: 0.063, MNIST acc: 97.66%\n",
            "[2,   501] loss: 0.165, MNIST acc: 97.41%\n",
            "[2,  1001] loss: 0.271, MNIST acc: 97.73%\n",
            "[2,  1501] loss: 0.176, MNIST acc: 97.44%\n",
            "[3,   501] loss: 0.035, MNIST acc: 96.65%\n",
            "[3,  1001] loss: 0.128, MNIST acc: 98.27%\n",
            "[3,  1501] loss: 0.026, MNIST acc: 98.30%\n",
            "[4,   501] loss: 0.042, MNIST acc: 98.48%\n",
            "[4,  1001] loss: 0.016, MNIST acc: 98.52%\n",
            "[4,  1501] loss: 0.061, MNIST acc: 98.35%\n",
            "[5,   501] loss: 0.007, MNIST acc: 98.44%\n",
            "[5,  1001] loss: 0.031, MNIST acc: 98.47%\n",
            "[5,  1501] loss: 0.018, MNIST acc: 98.50%\n",
            "[6,   501] loss: 0.001, MNIST acc: 98.49%\n",
            "[6,  1001] loss: 0.003, MNIST acc: 98.37%\n",
            "[6,  1501] loss: 0.000, MNIST acc: 98.54%\n",
            "[7,   501] loss: 0.046, MNIST acc: 98.62%\n",
            "[7,  1001] loss: 0.001, MNIST acc: 98.84%\n",
            "[7,  1501] loss: 0.002, MNIST acc: 98.46%\n",
            "[8,   501] loss: 0.017, MNIST acc: 98.90%\n",
            "[8,  1001] loss: 0.035, MNIST acc: 98.42%\n",
            "[8,  1501] loss: 0.014, MNIST acc: 98.37%\n",
            "[9,   501] loss: 0.095, MNIST acc: 98.49%\n",
            "[9,  1001] loss: 0.003, MNIST acc: 98.82%\n",
            "[9,  1501] loss: 0.000, MNIST acc: 98.78%\n",
            "[10,   501] loss: 0.037, MNIST acc: 98.98%\n",
            "[10,  1001] loss: 0.011, MNIST acc: 98.45%\n",
            "[10,  1501] loss: 0.001, MNIST acc: 98.94%\n",
            "Training finished with test-accs: MNIST acc: 98.49%,\n"
          ]
        }
      ],
      "source": [
        "def calc_accuracy(data, mnet, mnet_weights):\n",
        "    \"\"\"Compute the test accuracy for a given dataset\"\"\"\n",
        "    with torch.no_grad():\n",
        "        # Process complete test set as one batch.\n",
        "        test_in = data.input_to_torch_tensor( \\\n",
        "            data.get_test_inputs(), device, mode='inference')\n",
        "        test_out = data.input_to_torch_tensor( \\\n",
        "            data.get_test_outputs(), device, mode='inference')\n",
        "        test_lbls = test_out.max(dim=1)[1]\n",
        "\n",
        "        logits = mnet(test_in, weights=mnet_weights)\n",
        "        pred_lbls = logits.max(dim=1)[1]\n",
        "\n",
        "        acc = torch.sum(test_lbls == pred_lbls) / test_lbls.numel() * 100.\n",
        "\n",
        "    return acc\n",
        "\n",
        "# Configure training.\n",
        "lr=1e-4\n",
        "batchsize=32\n",
        "nepochs=10\n",
        "\n",
        "# Adam usually works well in combination with hypernetwork training.\n",
        "optimizer = torch.optim.Adam(hnet.internal_params, lr=lr)\n",
        "criterion = nn.CrossEntropyLoss()\n",
        "\n",
        "for epoch in range(nepochs): # For each epoch.\n",
        "\n",
        "    # Iterate over the whole MNIST/FashionMNIST training set.\n",
        "    # Note, that both datasets have the same number of training samples.\n",
        "    i = 0\n",
        "    for curr_batchsize, mx, my in mnist.train_iterator(batchsize):\n",
        "        i += 1\n",
        "\n",
        "        # Current mini-batch of MNIST samples.\n",
        "        mnist_X = mnist.input_to_torch_tensor(mx, device, mode='train')\n",
        "        mnist_Y = mnist.output_to_torch_tensor(my, device, mode='train')\n",
        "\n",
        "        optimizer.zero_grad()\n",
        "\n",
        "        # Compute MNIST loss.\n",
        "        W_mnist = hnet(cond_id=0)\n",
        "        mnist_P = mnet.forward(mnist_X, weights=W_mnist)\n",
        "        loss_mnist = criterion(mnist_P, mnist_Y.max(dim=1)[1])\n",
        "\n",
        "\n",
        "        # The total loss is simply each task's loss combined.\n",
        "        loss = loss_mnist\n",
        "        loss.backward()\n",
        "        optimizer.step()\n",
        "\n",
        "        if i % 500 == 0:\n",
        "            print('[%d, %5d] loss: %.3f, MNIST acc: %.2f%%' %\n",
        "                  (epoch + 1, i + 1, loss.item(),\n",
        "                   calc_accuracy(mnist, mnet, W_mnist)))\n",
        "\n",
        "\n",
        "print('Training finished with test-accs: MNIST acc: %.2f%%,' % \\\n",
        "      (calc_accuracy(mnist, mnet, W_mnist)))"
      ]
    },
    {
      "cell_type": "code",
      "execution_count": 13,
      "metadata": {
        "colab": {
          "base_uri": "https://localhost:8080/",
          "height": 619
        },
        "id": "_guE5UYL2ZOc",
        "outputId": "0fae3418-6a30-4805-f30c-5e639c3f5e2a",
        "vscode": {
          "languageId": "plaintext"
        }
      },
      "outputs": [
        {
          "data": {
            "image/png": "[encoded data removed]",
            "text/plain": [
              "<Figure size 1000x800 with 4 Axes>"
            ]
          },
          "metadata": {},
          "output_type": "display_data"
        }
      ],
      "source": [
        "# Get a batch of test samples from each data handler.\n",
        "mnist_inps, mnist_trgts = mnist.next_test_batch(4)\n",
        "\n",
        "# Compute predictions for test batches above.\n",
        "with torch.no_grad():\n",
        "    mnist_X = mnist.input_to_torch_tensor(mnist_inps, device, mode='inference')\n",
        "\n",
        "    W_mnist = hnet(cond_id=0)\n",
        "    mnist_preds = mnet.forward(mnist_X, weights=W_mnist)\n",
        "\n",
        "    # Note, the network outputs are logits, and thus not normalized.\n",
        "    mnist_preds = torch.softmax(mnist_preds, dim=1)\n",
        "    mnist_preds = mnist_preds.detach().cpu().numpy()\n",
        "\n",
        "plot_samples_custom('MNIST Examples', mnist_inps, outputs=mnist_trgts, predictions=mnist_preds)"
      ]
    },
    {
      "cell_type": "markdown",
      "metadata": {
        "id": "doGepTrN2ZOc"
      },
      "source": [
        "ZADANIE 1\n",
        "MNIST+FASHION MNIST"
      ]
    },
    {
      "cell_type": "code",
      "execution_count": 14,
      "metadata": {
        "colab": {
          "base_uri": "https://localhost:8080/",
          "height": 566
        },
        "id": "V4ROOaPb3_1z",
        "outputId": "8f1516ce-da79-4725-db38-eeaf17398b60"
      },
      "outputs": [
        {
          "data": {
            "image/png": "[encoded data removed]",
            "text/plain": [
              "<Figure size 1000x800 with 4 Axes>"
            ]
          },
          "metadata": {},
          "output_type": "display_data"
        }
      ],
      "source": [
        "from hypnettorch.data import FashionMNISTData\n",
        "\n",
        "fmnist = FashionMNISTData(data_dir, use_one_hot=True, validation_size=0)\n",
        "fmnist_inps, fmnist_trgts = fmnist.next_train_batch(4)\n",
        "plot_samples_custom('FashionMNIST Examples', fmnist_inps, outputs=fmnist_trgts)\n"
      ]
    },
    {
      "cell_type": "code",
      "execution_count": 15,
      "metadata": {
        "colab": {
          "base_uri": "https://localhost:8080/"
        },
        "id": "Dl1I6MTM5rM0",
        "outputId": "1d2425bf-384a-4146-9740-42b66b278f1c"
      },
      "outputs": [
        {
          "name": "stdout",
          "output_type": "stream",
          "text": [
            "[1,   501] loss: 0.407, MNIST acc: 98.79%, FashionMNIST acc: 81.31%\n",
            "[1,  1001] loss: 0.538, MNIST acc: 98.86%, FashionMNIST acc: 83.18%\n",
            "[1,  1501] loss: 0.413, MNIST acc: 98.73%, FashionMNIST acc: 85.32%\n",
            "[2,   501] loss: 0.336, MNIST acc: 98.89%, FashionMNIST acc: 86.19%\n",
            "[2,  1001] loss: 0.287, MNIST acc: 98.69%, FashionMNIST acc: 86.69%\n",
            "[2,  1501] loss: 0.190, MNIST acc: 98.85%, FashionMNIST acc: 87.23%\n",
            "[3,   501] loss: 0.323, MNIST acc: 98.97%, FashionMNIST acc: 86.42%\n",
            "[3,  1001] loss: 0.218, MNIST acc: 98.80%, FashionMNIST acc: 87.68%\n",
            "[3,  1501] loss: 0.365, MNIST acc: 98.78%, FashionMNIST acc: 86.49%\n",
            "[4,   501] loss: 0.262, MNIST acc: 98.85%, FashionMNIST acc: 87.30%\n",
            "[4,  1001] loss: 0.306, MNIST acc: 98.81%, FashionMNIST acc: 87.72%\n",
            "[4,  1501] loss: 0.464, MNIST acc: 98.82%, FashionMNIST acc: 87.40%\n",
            "[5,   501] loss: 0.133, MNIST acc: 98.63%, FashionMNIST acc: 87.96%\n",
            "[5,  1001] loss: 0.250, MNIST acc: 98.73%, FashionMNIST acc: 87.53%\n",
            "[5,  1501] loss: 0.228, MNIST acc: 98.94%, FashionMNIST acc: 87.84%\n",
            "[6,   501] loss: 0.056, MNIST acc: 98.76%, FashionMNIST acc: 88.14%\n",
            "[6,  1001] loss: 0.351, MNIST acc: 98.68%, FashionMNIST acc: 88.47%\n",
            "[6,  1501] loss: 0.392, MNIST acc: 98.76%, FashionMNIST acc: 88.36%\n",
            "[7,   501] loss: 0.224, MNIST acc: 98.97%, FashionMNIST acc: 88.39%\n",
            "[7,  1001] loss: 0.202, MNIST acc: 98.65%, FashionMNIST acc: 88.66%\n",
            "[7,  1501] loss: 0.160, MNIST acc: 98.83%, FashionMNIST acc: 88.84%\n",
            "[8,   501] loss: 0.293, MNIST acc: 98.76%, FashionMNIST acc: 87.69%\n",
            "[8,  1001] loss: 0.303, MNIST acc: 98.70%, FashionMNIST acc: 88.81%\n",
            "[8,  1501] loss: 0.212, MNIST acc: 98.72%, FashionMNIST acc: 88.86%\n",
            "[9,   501] loss: 0.104, MNIST acc: 98.81%, FashionMNIST acc: 89.18%\n",
            "[9,  1001] loss: 0.453, MNIST acc: 98.52%, FashionMNIST acc: 89.12%\n",
            "[9,  1501] loss: 0.251, MNIST acc: 98.83%, FashionMNIST acc: 88.82%\n",
            "[10,   501] loss: 0.376, MNIST acc: 98.90%, FashionMNIST acc: 89.09%\n",
            "[10,  1001] loss: 0.125, MNIST acc: 98.82%, FashionMNIST acc: 89.26%\n",
            "[10,  1501] loss: 0.401, MNIST acc: 98.70%, FashionMNIST acc: 89.02%\n",
            "Training finished with test-accs: MNIST acc: 98.66%, FashionMNIST 89.33%\n"
          ]
        }
      ],
      "source": [
        "for epoch in range(nepochs): # For each epoch.\n",
        "\n",
        "    # Iterate over the whole MNIST/FashionMNIST training set.\n",
        "    # Note, that both datasets have the same number of training samples.\n",
        "    i = 0\n",
        "    for curr_batchsize, mx, my in mnist.train_iterator(batchsize):\n",
        "        i += 1\n",
        "\n",
        "        # Current mini-batch of MNIST samples.\n",
        "        mnist_X = mnist.input_to_torch_tensor(mx, device, mode='train')\n",
        "        mnist_Y = mnist.output_to_torch_tensor(my, device, mode='train')\n",
        "\n",
        "        # Current mini-batch of FashionMNIST samples.\n",
        "        fx, fy = fmnist.next_train_batch(curr_batchsize)\n",
        "        fmnist_X = fmnist.input_to_torch_tensor(fx, device, mode='train')\n",
        "        fmnist_Y = fmnist.output_to_torch_tensor(fy, device, mode='train')\n",
        "\n",
        "        optimizer.zero_grad()\n",
        "\n",
        "        # Compute MNIST loss.\n",
        "        W_mnist = hnet(cond_id=0)\n",
        "        mnist_P = mnet.forward(mnist_X, weights=W_mnist)\n",
        "        loss_mnist = criterion(mnist_P, mnist_Y.max(dim=1)[1])\n",
        "\n",
        "        # Compute FashionMNIST loss.\n",
        "        W_fmnist = hnet(cond_id=1)\n",
        "        fmnist_P = mnet.forward(fmnist_X, weights=W_fmnist)\n",
        "        loss_fmnist = criterion(fmnist_P, fmnist_Y.max(dim=1)[1])\n",
        "\n",
        "        # The total loss is simply each task's loss combined.\n",
        "        loss = loss_mnist + loss_fmnist\n",
        "        loss.backward()\n",
        "        optimizer.step()\n",
        "\n",
        "        if i % 500 == 0:\n",
        "            print('[%d, %5d] loss: %.3f, MNIST acc: %.2f%%, FashionMNIST acc: %.2f%%' %\n",
        "                  (epoch + 1, i + 1, loss.item(),\n",
        "                   calc_accuracy(mnist, mnet, W_mnist),\n",
        "                   calc_accuracy(fmnist, mnet, W_fmnist)))\n",
        "\n",
        "\n",
        "print('Training finished with test-accs: MNIST acc: %.2f%%, FashionMNIST %.2f%%' % \\\n",
        "      (calc_accuracy(mnist, mnet, W_mnist),\n",
        "       calc_accuracy(fmnist, mnet, W_fmnist)))"
      ]
    },
    {
      "cell_type": "code",
      "execution_count": 16,
      "metadata": {
        "colab": {
          "base_uri": "https://localhost:8080/",
          "height": 1000
        },
        "id": "z7TvzNnz5yPo",
        "outputId": "5fbd16ff-97db-4c65-828b-4b1f77f145ec"
      },
      "outputs": [
        {
          "data": {
            "image/png": "[encoded data removed]",
            "text/plain": [
              "<Figure size 1000x800 with 4 Axes>"
            ]
          },
          "metadata": {},
          "output_type": "display_data"
        },
        {
          "data": {
            "image/png": "[encoded data removed]",
            "text/plain": [
              "<Figure size 1000x800 with 4 Axes>"
            ]
          },
          "metadata": {},
          "output_type": "display_data"
        }
      ],
      "source": [
        "mnist_inps, mnist_trgts = mnist.next_test_batch(4)\n",
        "fmnist_inps, fmnist_trgts = fmnist.next_test_batch(4)\n",
        "\n",
        "# Compute predictions for test batches above.\n",
        "with torch.no_grad():\n",
        "    mnist_X = mnist.input_to_torch_tensor(mnist_inps, device, mode='inference')\n",
        "    fmnist_X = mnist.input_to_torch_tensor(fmnist_inps, device, mode='inference')\n",
        "\n",
        "    W_mnist = hnet(cond_id=0)\n",
        "    mnist_preds = mnet.forward(mnist_X, weights=W_mnist)\n",
        "\n",
        "    W_fmnist = hnet(cond_id=1)\n",
        "    fmnist_preds = mnet.forward(fmnist_X, weights=W_fmnist)\n",
        "\n",
        "    # Note, the network outputs are logits, and thus not normalized.\n",
        "    mnist_preds = torch.softmax(mnist_preds, dim=1)\n",
        "    fmnist_preds = torch.softmax(fmnist_preds, dim=1)\n",
        "\n",
        "    mnist_preds = mnist_preds.detach().cpu().numpy()\n",
        "    fmnist_preds = fmnist_preds.detach().cpu().numpy()\n",
        "\n",
        "plot_samples_custom('MNIST Examples', mnist_inps, outputs=mnist_trgts, predictions=mnist_preds)\n",
        "plot_samples_custom('FashionMNIST Examples', fmnist_inps, outputs=fmnist_trgts, predictions=fmnist_preds)"
      ]
    },
    {
      "cell_type": "markdown",
      "metadata": {
        "id": "RnDvAZgd30TI"
      },
      "source": []
    },
    {
      "cell_type": "code",
      "execution_count": null,
      "metadata": {
        "id": "qvhaegK42ZOc",
        "vscode": {
          "languageId": "plaintext"
        }
      },
      "outputs": [],
      "source": [
        "ZADANIE 2 prownanie hyperney i bez"
      ]
    },
    {
      "cell_type": "code",
      "execution_count": 34,
      "metadata": {
        "colab": {
          "base_uri": "https://localhost:8080/",
          "height": 558
        },
        "id": "neygKPEbCa5i",
        "outputId": "23beffa5-9b9e-4b36-aa08-23bad6d94c0c"
      },
      "outputs": [
        {
          "name": "stdout",
          "output_type": "stream",
          "text": [
            "Creating a LeNet with 21840 weights.\n",
            "Epoch 1/10, Loss: 0.1867721676826477\n",
            "Epoch 2/10, Loss: 0.2470570057630539\n",
            "Epoch 3/10, Loss: 0.04524121433496475\n",
            "Epoch 4/10, Loss: 0.0424773246049881\n",
            "Epoch 5/10, Loss: 0.08458201587200165\n",
            "Epoch 6/10, Loss: 0.01602908968925476\n",
            "Epoch 7/10, Loss: 0.23715807497501373\n",
            "Epoch 8/10, Loss: 0.06764163076877594\n",
            "Epoch 9/10, Loss: 0.023100322112441063\n",
            "Epoch 10/10, Loss: 0.04357562214136124\n"
          ]
        },
        {
          "ename": "AttributeError",
          "evalue": "ignored",
          "output_type": "error",
          "traceback": [
            "\u001b[0;31m---------------------------------------------------------------------------\u001b[0m",
            "\u001b[0;31mAttributeError\u001b[0m                            Traceback (most recent call last)",
            "\u001b[0;32m<ipython-input-34-f2fad7f666c9>\u001b[0m in \u001b[0;36m<cell line: 40>\u001b[0;34m()\u001b[0m\n\u001b[1;32m     38\u001b[0m     \u001b[0;32mreturn\u001b[0m \u001b[0maccuracy\u001b[0m\u001b[0;34m\u001b[0m\u001b[0;34m\u001b[0m\u001b[0m\n\u001b[1;32m     39\u001b[0m \u001b[0;34m\u001b[0m\u001b[0m\n\u001b[0;32m---> 40\u001b[0;31m \u001b[0mtest_accuracy\u001b[0m \u001b[0;34m=\u001b[0m \u001b[0mcalc_accuracy\u001b[0m\u001b[0;34m(\u001b[0m\u001b[0mmnist\u001b[0m\u001b[0;34m,\u001b[0m \u001b[0mmnet\u001b[0m\u001b[0;34m)\u001b[0m\u001b[0;34m\u001b[0m\u001b[0;34m\u001b[0m\u001b[0m\n\u001b[0m\u001b[1;32m     41\u001b[0m \u001b[0;34m\u001b[0m\u001b[0m\n\u001b[1;32m     42\u001b[0m \u001b[0mprint\u001b[0m\u001b[0;34m(\u001b[0m\u001b[0;34mf'Training finished with test accuracy: MNIST acc: {test_accuracy:.2f}%'\u001b[0m\u001b[0;34m)\u001b[0m\u001b[0;34m\u001b[0m\u001b[0;34m\u001b[0m\u001b[0m\n",
            "\u001b[0;32m<ipython-input-34-f2fad7f666c9>\u001b[0m in \u001b[0;36mcalc_accuracy\u001b[0;34m(data, mnet)\u001b[0m\n\u001b[1;32m     30\u001b[0m \u001b[0;32mdef\u001b[0m \u001b[0mcalc_accuracy\u001b[0m\u001b[0;34m(\u001b[0m\u001b[0mdata\u001b[0m\u001b[0;34m,\u001b[0m \u001b[0mmnet\u001b[0m\u001b[0;34m)\u001b[0m\u001b[0;34m:\u001b[0m\u001b[0;34m\u001b[0m\u001b[0;34m\u001b[0m\u001b[0m\n\u001b[1;32m     31\u001b[0m     \u001b[0;32mwith\u001b[0m \u001b[0mtorch\u001b[0m\u001b[0;34m.\u001b[0m\u001b[0mno_grad\u001b[0m\u001b[0;34m(\u001b[0m\u001b[0;34m)\u001b[0m\u001b[0;34m:\u001b[0m\u001b[0;34m\u001b[0m\u001b[0;34m\u001b[0m\u001b[0m\n\u001b[0;32m---> 32\u001b[0;31m         \u001b[0mmnist_inps\u001b[0m\u001b[0;34m,\u001b[0m \u001b[0mmnist_trgts\u001b[0m \u001b[0;34m=\u001b[0m \u001b[0mdata\u001b[0m\u001b[0;34m.\u001b[0m\u001b[0mnext_test_batch\u001b[0m\u001b[0;34m(\u001b[0m\u001b[0mdata\u001b[0m\u001b[0;34m.\u001b[0m\u001b[0mtest_size\u001b[0m\u001b[0;34m)\u001b[0m\u001b[0;34m\u001b[0m\u001b[0;34m\u001b[0m\u001b[0m\n\u001b[0m\u001b[1;32m     33\u001b[0m         \u001b[0minputs\u001b[0m \u001b[0;34m=\u001b[0m \u001b[0mtorch\u001b[0m\u001b[0;34m.\u001b[0m\u001b[0mtensor\u001b[0m\u001b[0;34m(\u001b[0m\u001b[0mmnist_inps\u001b[0m\u001b[0;34m,\u001b[0m \u001b[0mdtype\u001b[0m\u001b[0;34m=\u001b[0m\u001b[0mtorch\u001b[0m\u001b[0;34m.\u001b[0m\u001b[0mfloat32\u001b[0m\u001b[0;34m)\u001b[0m\u001b[0;34m.\u001b[0m\u001b[0mview\u001b[0m\u001b[0;34m(\u001b[0m\u001b[0;34m-\u001b[0m\u001b[0;36m1\u001b[0m\u001b[0;34m,\u001b[0m \u001b[0;36m28\u001b[0m\u001b[0;34m*\u001b[0m\u001b[0;36m28\u001b[0m\u001b[0;34m)\u001b[0m\u001b[0;34m.\u001b[0m\u001b[0mto\u001b[0m\u001b[0;34m(\u001b[0m\u001b[0mdevice\u001b[0m\u001b[0;34m)\u001b[0m\u001b[0;34m\u001b[0m\u001b[0;34m\u001b[0m\u001b[0m\n\u001b[1;32m     34\u001b[0m         \u001b[0mlabels\u001b[0m \u001b[0;34m=\u001b[0m \u001b[0mtorch\u001b[0m\u001b[0;34m.\u001b[0m\u001b[0mtensor\u001b[0m\u001b[0;34m(\u001b[0m\u001b[0mmnist_trgts\u001b[0m\u001b[0;34m.\u001b[0m\u001b[0margmax\u001b[0m\u001b[0;34m(\u001b[0m\u001b[0maxis\u001b[0m\u001b[0;34m=\u001b[0m\u001b[0;36m1\u001b[0m\u001b[0;34m)\u001b[0m\u001b[0;34m,\u001b[0m \u001b[0mdtype\u001b[0m\u001b[0;34m=\u001b[0m\u001b[0mtorch\u001b[0m\u001b[0;34m.\u001b[0m\u001b[0mlong\u001b[0m\u001b[0;34m)\u001b[0m\u001b[0;34m.\u001b[0m\u001b[0mto\u001b[0m\u001b[0;34m(\u001b[0m\u001b[0mdevice\u001b[0m\u001b[0;34m)\u001b[0m\u001b[0;34m\u001b[0m\u001b[0;34m\u001b[0m\u001b[0m\n",
            "\u001b[0;31mAttributeError\u001b[0m: 'MNISTData' object has no attribute 'test_size'"
          ]
        }
      ],
      "source": [
        "mnet = LeNet(in_shape=mnist.in_shape, num_classes=mnist.num_classes,\n",
        "             arch='mnist_small', no_weights=False).to(device)\n",
        "\n",
        "# Configure training\n",
        "lr = 1e-4\n",
        "batch_size = 32\n",
        "n_epochs = 10\n",
        "\n",
        "optimizer = torch.optim.Adam(mnet.parameters(), lr=lr)\n",
        "criterion = nn.CrossEntropyLoss()\n",
        "\n",
        "\n",
        "# Training loop\n",
        "for epoch in range(n_epochs):\n",
        "    for curr_batchsize, mx, my in mnist.train_iterator(batchsize):\n",
        "        mnist_inps, mnist_trgts = mnist.next_train_batch(batch_size)\n",
        "        inputs = torch.tensor(mnist_inps, dtype=torch.float32).view(-1, 28*28).to(device)\n",
        "        labels = torch.tensor(mnist_trgts.argmax(axis=1), dtype=torch.long).to(device)\n",
        "\n",
        "        optimizer.zero_grad()\n",
        "\n",
        "        outputs = mnet(inputs)\n",
        "        loss = criterion(outputs, labels)\n",
        "        loss.backward()\n",
        "        optimizer.step()\n",
        "\n",
        "    print(f'Epoch {epoch + 1}/{n_epochs}, Loss: {loss.item()}')\n",
        "\n",
        "# Evaluate accuracy on the test set using the provided calc_accuracy function\n",
        "def calc_accuracy(data, mnet):\n",
        "    with torch.no_grad():\n",
        "        mnist_inps, mnist_trgts = data.next_test_batch(data.test_size)\n",
        "        inputs = torch.tensor(mnist_inps, dtype=torch.float32).view(-1, 28*28).to(device)\n",
        "        labels = torch.tensor(mnist_trgts.argmax(axis=1), dtype=torch.long).to(device)\n",
        "        outputs = mnet(inputs)\n",
        "        _, predicted = torch.max(outputs, 1)\n",
        "        accuracy = torch.sum(predicted == labels).item() / labels.size(0) * 100.0\n",
        "    return accuracy\n",
        "\n",
        "test_accuracy = calc_accuracy(mnist, mnet)\n",
        "\n",
        "print(f'Training finished with test accuracy: MNIST acc: {test_accuracy:.2f}%')\n"
      ]
    }
  ],
  "metadata": {
    "colab": {
      "provenance": []
    },
    "kernelspec": {
      "display_name": "Python 3",
      "language": "python",
      "name": "python3"
    },
    "language_info": {
      "codemirror_mode": {
        "name": "ipython",
        "version": 3
      },
      "file_extension": ".py",
      "mimetype": "text/x-python",
      "name": "python",
      "nbconvert_exporter": "python",
      "pygments_lexer": "ipython3",
      "version": "3.10.13"
    }
  },
  "nbformat": 4,
  "nbformat_minor": 0
}
