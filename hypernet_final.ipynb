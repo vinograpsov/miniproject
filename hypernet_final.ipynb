{
 "cells": [
  {
   "cell_type": "code",
   "execution_count": null,
   "metadata": {},
   "outputs": [],
   "source": [
    "!python3 -m pip install hypnettorch"
   ]
  },
  {
   "cell_type": "code",
   "execution_count": 9,
   "metadata": {},
   "outputs": [],
   "source": [
    "import torch\n",
    "import torch.nn as nn\n",
    "import torch.nn.functional as F\n",
    "import torch.optim as optim\n",
    "from torchvision import datasets, transforms\n",
    "from torch.utils.data import DataLoader\n",
    "from HyperNet import CustomHyperNet, CustomHyperConvLayer\n",
    "from MNISTModel import MNISTHyperNetModel, StandardCNNModel\n",
    "import matplotlib.pyplot as plt\n",
    "\n",
    "from IPython.display import display, Markdown, Latex\n",
    "import numpy as np\n",
    "from torch import nn\n",
    "from hypnettorch.data import MNISTData\n",
    "from hypnettorch.mnets import MLP\n",
    "import sys\n",
    "import traceback\n"
   ]
  },
  {
   "cell_type": "markdown",
   "metadata": {},
   "source": [
    "# HYPERNETWORK"
   ]
  },
  {
   "cell_type": "markdown",
   "metadata": {},
   "source": [
    "### INTRODUCTIOIN"
   ]
  },
  {
   "cell_type": "markdown",
   "metadata": {},
   "source": [
    "**Hipernetworki** lub w skrócie **hipernety** to sieci neuronowe, które generują wagi dla innej sieci neuronowej, znanej jako sieć docelowa."
   ]
  },
  {
   "cell_type": "markdown",
   "metadata": {},
   "source": [
    "Kluczowe cechy i zalety hipernetów, które oferują aplikacje w różnych ustawieniach problemów:\n",
    "\n",
    "* Soft weight sharing: Hipernetworki można trenować do generowania wag wielu DNN do rozwiązywania powiązanych zadań.\n",
    "\n",
    "* Dynamic architectures: Hipernetworki mogą być używane do generowania wag sieci o architekturze dynamicznej, w której liczba warstw lub struktura sieci zmienia się podczas szkolenia lub wnioskowania. Może to być szczególnie przydatne w przypadku zadań, w których docelowa struktura sieci nie jest znana w czasie szkolenia.\n",
    "\n",
    "* Data-adaptive DNN: w przeciwieństwie do standardowego DNN, którego wagi są ustalane w czasie wnioskowania, HyperDNN można opracować w celu generowania sieci docelowej dostosowanej do potrzeb danych. W takich przypadkach hipernety są uwarunkowane danymi wejściowymi w celu dostosowania się do danych.\n",
    "\n",
    "* Uncertainty quantification: Hipernety mogą skutecznie trenować DNN ktore świadome o niepewności, wykorzystując techniki jak multiple inputs z rozkładu szumów lub włączenie przerywania w hipernetach sami.\n",
    "\n",
    "* Parameter efficiency: DNN przeszkolony w hipernetach może mieć mniej wag niż\n",
    "standardowe DNNs, powodujące z kompresji wag. Może to być szczególnie przydatne, gdy\n",
    "cos dziala z ograniczonymi zasobami, ograniczonymi danymi lub w przypadku danych o dużych wymiarach i może skutkować szybszy trening niż zlykle DNN."
   ]
  },
  {
   "cell_type": "markdown",
   "metadata": {},
   "source": [
    "### ARCHITECTURE"
   ]
  },
  {
   "cell_type": "markdown",
   "metadata": {},
   "source": [
    "#### Main Network"
   ]
  },
  {
   "cell_type": "markdown",
   "metadata": {},
   "source": [
    "**Struktura i rola**: Main Network to typowa sieć neuronowa, którą można zaprojektować do dowolnego zadania głębokiego uczenia, takiego jak klasyfikacja obrazu, przetwarzanie języka naturalnego lub inne zadania. Struktura tej sieci może się różnić w zależności od konkretnego zadania: może to być splotowa sieć neuronowa (CNN) do przetwarzania obrazu, powtarzająca się sieć neuronowa (RNN) do przetwarzania sekwencji danych i tak dalej.\n",
    "\n",
    "**Uczenie**: w normalnej sytuacji wagi tej sieci są inicjowane losowo, a następnie optymalizowane w procesie uczenia się, aby rozwiązać dany problem."
   ]
  },
  {
   "cell_type": "markdown",
   "metadata": {},
   "source": [
    "#### Hypernetwork"
   ]
  },
  {
   "cell_type": "markdown",
   "metadata": {},
   "source": [
    "**Struktura i rola**: Hypernetwork to oddzielna sieć neuronowa, której celem jest generowanie wag dla sieci głównej. Ta sieć jest zwykle mniejsza i może być zaprojektowana tak, aby uwzględniać pewne cechy zadania, do którego szkolona jest sieć główna.\n",
    "\n",
    "**Interakcja z primary network**: Hypernetwork pobiera dane wejściowe, które mogą zawierać informacje o stanie lub strukturze sieci głównej i na podstawie tych danych generuje wagi dla sieci głównej. "
   ]
  },
  {
   "cell_type": "code",
   "execution_count": 2,
   "metadata": {},
   "outputs": [],
   "source": [
    "def load_data():\n",
    "    transform = transforms.Compose([transforms.ToTensor(), transforms.Normalize((0.1307,), (0.3081,))])\n",
    "    train_dataset = datasets.MNIST('./data', train=True, download=True, transform=transform)\n",
    "    test_dataset = datasets.MNIST('./data', train=False, transform=transform)\n",
    "    train_loader = DataLoader(train_dataset, batch_size=64, shuffle=True)\n",
    "    test_loader = DataLoader(test_dataset, batch_size=1000, shuffle=False)\n",
    "    return train_loader, test_loader"
   ]
  },
  {
   "cell_type": "code",
   "execution_count": 3,
   "metadata": {},
   "outputs": [],
   "source": [
    "def train(model, device, train_loader, optimizer, epoch):\n",
    "    model.train()\n",
    "    total_loss, total_correct = 0, 0\n",
    "    for data, target in train_loader:\n",
    "        data, target = data.to(device), target.to(device)\n",
    "        optimizer.zero_grad()\n",
    "        output = model(data)\n",
    "        loss = F.nll_loss(output, target)\n",
    "        loss.backward()\n",
    "        optimizer.step()\n",
    "        total_loss += loss.item()\n",
    "        total_correct += output.argmax(dim=1).eq(target).sum().item()\n",
    "\n",
    "    avg_loss = total_loss / len(train_loader.dataset)\n",
    "    accuracy = 100. * total_correct / len(train_loader.dataset)\n",
    "    print(f'Train Epoch: {epoch} \\tLoss: {avg_loss:.6f} \\tAccuracy: {accuracy:.2f}%')\n",
    "    return avg_loss, accuracy"
   ]
  },
  {
   "cell_type": "code",
   "execution_count": 4,
   "metadata": {},
   "outputs": [],
   "source": [
    "def test(model, device, test_loader):\n",
    "    model.eval()\n",
    "    total_loss, total_correct = 0, 0\n",
    "    with torch.no_grad():\n",
    "        for data, target in test_loader:\n",
    "            data, target = data.to(device), target.to(device)\n",
    "            output = model(data)\n",
    "            total_loss += F.nll_loss(output, target, reduction='sum').item()\n",
    "            total_correct += output.argmax(dim=1).eq(target).sum().item()\n",
    "\n",
    "    avg_loss = total_loss / len(test_loader.dataset)\n",
    "    accuracy = 100. * total_correct / len(test_loader.dataset)\n",
    "    print(f'\\nTest set: Average loss: {avg_loss:.4f}, Accuracy: {total_correct}/{len(test_loader.dataset)} ({accuracy:.2f}%)\\n')\n",
    "    return avg_loss, accuracy\n"
   ]
  },
  {
   "cell_type": "code",
   "execution_count": 5,
   "metadata": {},
   "outputs": [],
   "source": [
    "def plot_results(train_losses, train_accuracies, test_losses, test_accuracies):\n",
    "    plt.figure(figsize=(12, 5))\n",
    "    plt.subplot(1, 2, 1)\n",
    "    plt.plot(train_losses, label=\"Train Loss\")\n",
    "    plt.plot(test_losses, label=\"Test Loss\")\n",
    "    plt.xlabel(\"Epoch\")\n",
    "    plt.ylabel(\"Loss\")\n",
    "    plt.title(\"Loss over epochs\")\n",
    "    plt.legend()\n",
    "\n",
    "    plt.subplot(1, 2, 2)\n",
    "    plt.plot(train_accuracies, label=\"Train Accuracy\")\n",
    "    plt.plot(test_accuracies, label=\"Test Accuracy\")\n",
    "    plt.xlabel(\"Epoch\")\n",
    "    plt.ylabel(\"Accuracy\")\n",
    "    plt.title(\"Accuracy over epochs\")\n",
    "    plt.legend()\n",
    "\n",
    "    plt.show()"
   ]
  },
  {
   "cell_type": "code",
   "execution_count": 6,
   "metadata": {},
   "outputs": [],
   "source": [
    "device = torch.device(\"cuda\" if torch.cuda.is_available() else \"cpu\")\n",
    "model = MNISTHyperNetModel().to(device)\n",
    "optimizer = optim.Adam(model.parameters(), lr=0.001)\n",
    "\n",
    "train_loader, test_loader = load_data()\n",
    "\n",
    "train_losses, train_accuracies = [], []\n",
    "test_losses, test_accuracies = [], []"
   ]
  },
  {
   "cell_type": "code",
   "execution_count": 7,
   "metadata": {},
   "outputs": [
    {
     "name": "stdout",
     "output_type": "stream",
     "text": [
      "Train Epoch: 1 \tLoss: 0.009186 \tAccuracy: 88.04%\n",
      "\n",
      "Test set: Average loss: 0.1349, Accuracy: 9571/10000 (95.71%)\n",
      "\n",
      "Train Epoch: 2 \tLoss: 0.001882 \tAccuracy: 96.26%\n",
      "\n",
      "Test set: Average loss: 0.0986, Accuracy: 9666/10000 (96.66%)\n",
      "\n",
      "Train Epoch: 3 \tLoss: 0.001376 \tAccuracy: 97.27%\n",
      "\n",
      "Test set: Average loss: 0.0810, Accuracy: 9751/10000 (97.51%)\n",
      "\n",
      "Train Epoch: 4 \tLoss: 0.001151 \tAccuracy: 97.75%\n",
      "\n",
      "Test set: Average loss: 0.0759, Accuracy: 9755/10000 (97.55%)\n",
      "\n",
      "Train Epoch: 5 \tLoss: 0.000967 \tAccuracy: 98.04%\n",
      "\n",
      "Test set: Average loss: 0.0667, Accuracy: 9806/10000 (98.06%)\n",
      "\n",
      "Train Epoch: 6 \tLoss: 0.000881 \tAccuracy: 98.27%\n",
      "\n",
      "Test set: Average loss: 0.0799, Accuracy: 9768/10000 (97.68%)\n",
      "\n",
      "Train Epoch: 7 \tLoss: 0.000787 \tAccuracy: 98.44%\n",
      "\n",
      "Test set: Average loss: 0.0775, Accuracy: 9805/10000 (98.05%)\n",
      "\n",
      "Train Epoch: 8 \tLoss: 0.000742 \tAccuracy: 98.53%\n",
      "\n",
      "Test set: Average loss: 0.0641, Accuracy: 9797/10000 (97.97%)\n",
      "\n",
      "Train Epoch: 9 \tLoss: 0.000665 \tAccuracy: 98.67%\n",
      "\n",
      "Test set: Average loss: 0.0897, Accuracy: 9767/10000 (97.67%)\n",
      "\n",
      "Train Epoch: 10 \tLoss: 0.000616 \tAccuracy: 98.78%\n",
      "\n",
      "Test set: Average loss: 0.0749, Accuracy: 9789/10000 (97.89%)\n",
      "\n"
     ]
    }
   ],
   "source": [
    "for epoch in range(1, 11):\n",
    "    train_loss, train_accuracy = train(model, device, train_loader, optimizer, epoch)\n",
    "    test_loss, test_accuracy = test(model, device, test_loader)\n",
    "    train_losses.append(train_loss)\n",
    "    train_accuracies.append(train_accuracy)\n",
    "    test_losses.append(test_loss)\n",
    "    test_accuracies.append(test_accuracy)"
   ]
  },
  {
   "cell_type": "code",
   "execution_count": 8,
   "metadata": {},
   "outputs": [
    {
     "data": {
      "image/png": "[encoded data removed]",
      "text/plain": [
       "<Figure size 1200x500 with 2 Axes>"
      ]
     },
     "metadata": {},
     "output_type": "display_data"
    }
   ],
   "source": [
    "plot_results(train_losses, train_accuracies, test_losses, test_accuracies)"
   ]
  },
  {
   "cell_type": "markdown",
   "metadata": {},
   "source": [
    "## Zadanie 1"
   ]
  },
  {
   "cell_type": "markdown",
   "metadata": {},
   "source": [
    "Wytrenowac model MNISTHyperNetModel na Fashion MNIST i wyświetlaj przebiegu uczenia."
   ]
  },
  {
   "cell_type": "markdown",
   "metadata": {},
   "source": [
    "## Zadanie 2"
   ]
  },
  {
   "cell_type": "markdown",
   "metadata": {},
   "source": [
    "Spróbuj opisać hypernet który został użyty w przykładzie MNISTHyperNetModel według kryteriów które są opisane w części \"Categorisation of Hypernetworks\""
   ]
  },
  {
   "cell_type": "markdown",
   "metadata": {},
   "source": [
    "## Zadanie 3"
   ]
  },
  {
   "cell_type": "markdown",
   "metadata": {},
   "source": [
    "Zmodyfikować MNISTHyperNetModel tak, aby pierwsza warstwa konwolucyjna wykorzystywała wag wygenerowanych przez hypernet, a druga warstwa konwolucyjna wykorzystywała wagi wygenerowane w zwykły sposób. Wytrenować starą i nową modeli na MNIST i porównać  wyniki obu modeli."
   ]
  },
  {
   "cell_type": "markdown",
   "metadata": {},
   "source": [
    "## Categorisation of Hypernetworks"
   ]
  },
  {
   "cell_type": "markdown",
   "metadata": {},
   "source": [
    "Istnieje podział na 5 kryteriów projektowania hipersieci:\n",
    "- input-based \n",
    "- output-based\n",
    "- variability of inputs \n",
    "- variability of outputs\n",
    "- architecture-based\n",
    "\n",
    "Za pomocą każdego z nich możemy lepiej zrozumieć działanie konkretnej hipersieci odpowiadając na pytania:\n",
    "\n",
    "![categorisation.png](./imgs/categorisation.png)"
   ]
  },
  {
   "cell_type": "markdown",
   "metadata": {},
   "source": [
    "### Input-based hypernetworks\n",
    "\n",
    "Hypernetworki przyjmują wektor kontekstowy jako dane wejściowe i generują wagi docelowej sieci DNN jako wyjście. W zależności od użytego wektora kontekstowego możemy wyróżnić następujące typy hypernetworks:\n",
    "\n",
    "- **Task-conditioned hypernetworks**: Te sieci przyjmują informacje specyficzne dla zadania jako dane wejściowe. Sieć generuje wagi dostosowane do konkretnego zadania, co pozwala na dostosowanie jej zachowania i współdzielenie informacji między zadaniami.\n",
    "\n",
    "- **Data-conditioned hypernetworks**: Te sieci są warunkowane danymi, na których szkolona jest docelowa sieć. Sieć generuje wagi na podstawie charakterystyki danych wejściowych, co pozwala na dynamiczną adaptację modelu do konkretnych wzorców lub cech.\n",
    "\n",
    "- **Noise-conditioned hypernetworks**: Te sieci nie są warunkowane żadnymi danymi wejściowymi ani wskazówkami zadania, a raczej losowo wybranym szumem. Sprawia to, że są bardziej uniwersalne i pomagają w kwantyfikacji niepewności predykcyjnej dla DNN."
   ]
  },
  {
   "cell_type": "markdown",
   "metadata": {},
   "source": [
    "### Output-based Hypernetworks\n",
    "\n",
    "W zależności od sposobu generowania wag, czyli strategii generacji wag, klasyfikujemy hypernetworki na te, które generują wszystkie wagi naraz, i te, które tego nie robią. \n",
    "\n",
    "- **Generate Once**: Te sieci generują wagi całej docelowej sieci DNN naraz. Wszystkie wygenerowane wagi są używane, a wagi każdej warstwy są generowane razem.\n",
    "\n",
    "- **Generate Multiple**: Te sieci mają wiele wyjsc do produkcji wag i ta metoda generowania wag może uzupełniać inne podejścia. Upraszcza to złożoność i redukuje liczbę wag wymaganych w ostatniej warstwie hypernetwork przez liczbę wyjsc.\n",
    "\n",
    "- **Generate Chunk-wise**: Sieci tego typu generują wagi docelowej sieci w częściach. Może to prowadzić do niewykorzystania niektórych wygenerowanych wag, ponieważ są one produkowane zgodnie z rozmiarem części, który może nie odpowiadać rozmiarom warstw.\n",
    "\n",
    "- **Generate Component-wise**: Ta strategia na oddzielnym tworzeniu wag dla każdego indywidualnego komponentu modelu docelowego. Jest to pomocne w generowaniu specyficznych wag, ponieważ różne warstwy lub kanały reprezentują różne cechy lub wzorce w sieci. Jednak podobnie jak w podejściu chunk-wise, sieci hypernetwork składowe wymagają osadzenia dla każdego komponentu, aby odróżnić różne komponenty i wytworzyć wagi specyficzne dla danego komponentu. \n"
   ]
  },
  {
   "cell_type": "markdown",
   "metadata": {},
   "source": [
    "### Variability of Inputs\n",
    "\n",
    "Możemy kategoryzować hipernety na podstawie zmienności danych wejściowych.\n",
    "\n",
    "- **Static Inputs**: Jeśli Dane wejściowe są predefiniowane i są stałe, hypernet jest nazywany statycznym w odniesieniu do danych wejściowych.\n",
    "\n",
    "\n",
    "- **Dynamic Inputs**: Jeśli Dane wejściowe zmieniają się i generalnie zależą od danych, na których trenowana jest sieć docelowa, następnie hypernet jest nazywany dynamicznym w odniesieniu do danych wejściowych. "
   ]
  },
  {
   "cell_type": "markdown",
   "metadata": {},
   "source": [
    "### Variability of Outputs\n",
    "\n",
    "Klasyfikując sieci hypernetwork na podstawie charakterystyki wag sieci docelowej, możemy podzielić je na dwa typy: statyczne i dynamiczne wyjścia.\n",
    "\n",
    "- **Static Outputs**: Jeśli wagi sieci docelowej mają stały rozmiar, to sieć hypernetwork nazywana jest statyczną względem wyjść. W takim przypadku sieć docelowa również jest statyczna.\n",
    "\n",
    "- **Dynamic Outputs**: Jeśli wagi sieci docelowej nie są stałe, architektura zmienia się w zależności od rozmiaru, to sieć hypernetworku nazywana jest dynamiczną względem wyjść, a sieć docelowa również jest siecią dynamiczną, ponieważ może mieć różną architekturę w zależności od wejścia sieci hypernetwork."
   ]
  },
  {
   "cell_type": "markdown",
   "metadata": {},
   "source": [
    "### Dynamism in Hypernetworks\n",
    "\n",
    "- **Static Hypernets**: Jeśli wejście sieci hypernetwork jest stałe, a liczba wag generowanych przez sieć hypernetwork dla sieci docelowej jest stała, wówczas sieć hypernetwork nazywana jest statyczną.\n",
    "\n",
    "- **Dynamic Hypernets**: Jeśli wejście sieci hypernetwork opiera się na danych wejściowych sieci docelowej lub liczba wag generowanych przez sieć hypernetwork dla sieci docelowej jest zmienna, wówczas sieć hypernetwork nazywana jest dynamiczną."
   ]
  },
  {
   "cell_type": "markdown",
   "metadata": {},
   "source": [
    "### Architecture of Hypernetworks\n",
    "\n",
    "W klasyfikacji sieci hypernetwork na podstawie ich architektury możemy wyróżnić cztery główne typy:\n",
    "\n",
    "- **MLPs**: \n",
    "Sieci hypernetwork oparte na MLP wykorzystują gęstą i w pełni połączoną architekturę, co pozwala na kompleksowe generowanie wag, biorąc pod uwagę całą informację wejściową.\n",
    "\n",
    "- **CNNs**: Sieci hypernetwork oparte na CNN wykorzystują warstwy konwolucyjne do przechwytywania lokalnych wzorców i informacji przestrzennych, co sprawia, że są one skuteczne w zadaniach związanych z danymi przestrzennymi, takimi jak analiza obrazów czy wideo.\n",
    "\n",
    "- **RNNs**: Sieci hypernetwork oparte na RNN zawierają rekurencyjne połączenia w swojej architekturze, co umożliwia przetwarzanie informacji sekwencyjnych i dynamiczne generowanie wag na podstawie poprzednich stanów lub danych wejściowych, co czyni je odpowiednimi dla zadań związanych z danymi sekwencyjnymi.\n",
    "\n",
    "- **Attention-based hypernetworks**: Sieci hypernetwork oparte na mechanizmach uwagi selektywnie koncentrują się na istotnych cechach wejściowych, generując wagi dla sieci docelowej, co pozwala im uchwycić dalekosiężne zależności i poprawić jakość generowanych wyjść.\n"
   ]
  },
  {
   "cell_type": "markdown",
   "metadata": {},
   "source": [
    "![Alt text](image.png)"
   ]
  },
  {
   "cell_type": "markdown",
   "metadata": {},
   "source": [
    "## ZASTOSOWANIA\n",
    "\n",
    "\n",
    "Hypernetworki zademonstrowały swoją użyteczność w szerokim zakresie zastosowań w deep learningu.\n",
    "\n",
    "\n",
    "**Continual Learning**\n",
    "* Model uczy się przez cały czas bez zapominania tego co został już nauczony.\n",
    "* W przeciwieństwie do tradycyjnego uczenia na batchach gdzie ilośc danych jest stała, dane napływają cały czas w rosnącej ilosci.\n",
    "* Modelując każdy dataset jako task i stosując task-conditioned hyperneta pozwoliło na współdzielenie informacji pomiedzy taskami\n",
    "* Probem catastrophic forgettingu został rozwiązany za pomocą regularyzatora operujacego na wagach w ramach jednego taska\\\n",
    "<b>Huang, Y., Xie, K., Bharadhwaj, H., and Shkurti, F. (2021). Continual model-based reinforcement learning with hypernetworks</b> \n",
    "\n",
    "**Federated Learning**\n",
    "* Model trenowany jest na wielu urządzeniach jednocześnie\n",
    "* Znajdujący się na centralnym serwerze hypernetwork odpowiada za aktualizowanie wag modelów\n",
    "* Każde urządzenie jest reprezentowane jako pojedynczy task a hypernet stosuje task conditioning \\\n",
    "<b>Shamsian, A., Navon, A., Fetaya, E., and Chechik, G. (2021). Personalized federated learning using hypernetworks. In International Conference on Machine Learning</b>\n",
    "\n",
    "**Few-shot Learning**\n",
    "* Hypernetwork oparty na encoderze-dekoderze, który uczy zależną od danych, generatywną reprezentację parametrów modelu, który dzieli informacje między różnymi zadaniami poprzez miękkie wagi.\n",
    "<b>Rusu, A. A., Rao, D., Sygnowski, J., Vinyals, O., Pascanu, R., Osindero, S., and Hadsell, R. (2019). Meta-learning \\\n",
    "with latent embedding optimization. In International Conference on Learning Representations.</b>\n",
    "    \n",
    "**Domain Adaptation**\n",
    " * Data conditioned hypernetworki gdzie przykłady z domen docelowych są używane jako dane wejściowe do hypernetu, który generuje\n",
    "    wagi dla sieci docelowej. Daje to hiper-sieciom możliwość uczenia się i dzielenia informacjami z istniejących domen z domeną docelową.\n",
    "    domeny docelowej poprzez wspólne uczenie. \\\n",
    "    <b>Volk, T., Ben-David, E., Amosy, O., Chechik, G., and Reichart, R. (2022). Example-based hypernetworks for out-of-distribution generalization</b>\n",
    "\n",
    "**Multitasking**\n",
    "*   Hypernety mogą być stosowane w kontekście multitasking w celu ułatwienia wspólnego\n",
    "    uczenia się wielu zadań poprzez dynamiczne generowanie lub dostosowywanie parametrów lub architektur modelu. W szczególności,\n",
    "    możemy trenować task conditioned hypernety, gdzie osadzanie tasku działa jako dane wejściowe do sieci, która\n",
    "    generuje wagi dla odpowiedniego zadania. Możemy albo wygenerować cały model dla każdego z zadań, albo tylko jego niewspółdzielone części.\\\n",
    "    <b>Mahabadi, R. K., Ruder, S., Dehghani, M., and Henderson, J. (2021). Parameter-efficient multi-task fine-tuning\n",
    "for transformers via shared hypernetworks. In Proceedings of the 59th Annual Meeting of the Association for \n",
    "Computational Linguistics and the 11th International Joint Conference on Natural Language Processing</b>\n",
    "\n",
    "**Reinforcement Learning**\n",
    "* Hypernety można zastosowac do dynamicznego generowania architektury sieci, parametrów w celu dopasowania sieci do konkretnego zastosowania. \\\n",
    "<b>Huang, Y., Xie, K., Bharadhwaj, H., and Shkurti, F. (2021). Continual model-based reinforcement learning with\n",
    "hypernetworks. In 2021 IEEE International Conference on Robotics and Automation (ICRA)</b>\n",
    "\n",
    "**INNE**\n",
    "* Usprawnienie procesu uczenia modelów AutoML, Manifold"
   ]
  },
  {
   "cell_type": "markdown",
   "metadata": {},
   "source": [
    "![Alt text](image-1.png)"
   ]
  },
  {
   "cell_type": "markdown",
   "metadata": {},
   "source": [
    "## KIEDY UŻYĆ HYPERNETWORKA\n",
    "**CZY POTRZEBUJEMY ZEBY MODEL BYŁ W STANIE ADAPDTOWAĆ SIĘ DO DANYCH ?**\n",
    "* Jeżeli dane wejściowe będą ulegać regularnym zmianom możemy zastosować data conditioned hypernetwork, któya przyjmuje dane jako dane wejściowe i adaptacyjnie generuje parametry sieci docelowej.\n",
    "Podczas uczenia hipersieć pobiera dostępne dane i uczy się ich charakterystyki w celu wygenerowania sieci docelowej. Następnie, w razie potrzeby może pobierać nowe dane o nieco innej charakterystyce i generuje sieć docelową w oparciu o wyuczoną charakterystykę istniejących danych.\n",
    "\n",
    "**CZY POTRZEBUJEMY MÓC DYNAMICZNIE DOSTOSOWAĆ ARCHITEKTURĘ SIECI ?**\n",
    "* Jeżeli podczas uczenia modelu, jego architektura nie jest jescze znana, do jej znalezienia można wykorzystać hypernetwork, który pobiera informacje o obecnej architekturze sieci docelowej i odpowiednio generuje parametry. Przykładem mogą być sieci RNN gdzie hypernet określa liczbę stepów.\\\n",
    "<b>Ha, D., Dai, A. M., and Le, Q. V. (2017). Hypernetworks. In International Conference on Learning Representations.</b>\n",
    "\n",
    "**CZY POTRZEBUJEMY PRZYSPIESZYĆ PROCES UCZENIA / POPRAWIĆ DOKŁADNOŚĆ ?**"
   ]
  },
  {
   "cell_type": "markdown",
   "metadata": {},
   "source": [
    "## HYPENETTROCH\n",
    "\n",
    "Paczka zawierającą gotową implementacje hypernetworków w PyTorch.\n",
    "https://github.com/chrhenning/hypnettorch/tree/master\n",
    "\n",
    "Zapewnia łatwy w użyciu sposób implemetacji tego mechanizmu w sieciach"
   ]
  },
  {
   "cell_type": "code",
   "execution_count": 10,
   "metadata": {},
   "outputs": [],
   "source": [
    "# Specify where to download the datasets\n",
    "data_dir = '.'"
   ]
  },
  {
   "cell_type": "code",
   "execution_count": 11,
   "metadata": {},
   "outputs": [],
   "source": [
    "def plot_samples_custom(title, inputs, outputs=None, predictions=None,\n",
    "                        num_samples_per_row=4, show=True, filename=None,\n",
    "                        interactive=False, figsize=(10, 8), **kwargs):\n",
    "    \n",
    "    num_plots = inputs.shape[0]\n",
    "    num_cols = min(num_plots, num_samples_per_row)\n",
    "    num_rows = int(np.ceil(num_plots / num_samples_per_row))\n",
    "\n",
    "    fig, axes = plt.subplots(num_rows, num_cols, figsize=figsize)\n",
    "    fig.suptitle(title, size=20)\n",
    "\n",
    "    for i in range(num_rows):\n",
    "        for j in range(num_cols):\n",
    "            index = i * num_cols + j\n",
    "            ax = axes[i, j] if num_rows > 1 else axes[j]\n",
    "\n",
    "            if index < num_plots:\n",
    "                ax.imshow(inputs[index].reshape((28, 28)), cmap='gray', aspect='equal')\n",
    "                ax.axis('off')\n",
    "\n",
    "                if outputs is not None:\n",
    "                    ax.set_title(f'Actual: {np.argmax(outputs[index])}')\n",
    "\n",
    "                if predictions is not None:\n",
    "                    ax.set_xlabel(f'Prediction: {np.argmax(predictions[index])}')\n",
    "\n",
    "                    # Display probability distribution\n",
    "                    num_classes = predictions.shape[1]\n",
    "                    class_labels = np.arange(num_classes)\n",
    "                    ax2 = ax.inset_axes([0, -0.2, 1, 0.2], aspect='equal')  \n",
    "                    ax2.bar(class_labels, predictions[index], alpha=0.7)\n",
    "                    ax2.set_xticks(class_labels)\n",
    "                    ax2.set_xticklabels([str(label) for label in class_labels])\n",
    "                    ax2.set_xlabel('Class')\n",
    "                    ax2.set_ylabel('Probability')\n",
    "\n",
    "    plt.tight_layout(rect=[0, 0.03, 1, 0.95])\n",
    "\n",
    "    if show:\n",
    "        plt.show()\n",
    "\n",
    "    if filename is not None:\n",
    "        plt.savefig(filename, bbox_inches='tight')"
   ]
  },
  {
   "cell_type": "markdown",
   "metadata": {},
   "source": [
    "Hypenettorch dostarcza api służące do obsługi datasetów, oraz gotowe implementacje najpouparniejszych, np MNIST, FashionMNIST, CelebA\n"
   ]
  },
  {
   "cell_type": "code",
   "execution_count": 13,
   "metadata": {},
   "outputs": [
    {
     "ename": "NameError",
     "evalue": "name 'MNISTData' is not defined",
     "output_type": "error",
     "traceback": [
      "\u001b[1;31m---------------------------------------------------------------------------\u001b[0m",
      "\u001b[1;31mNameError\u001b[0m                                 Traceback (most recent call last)",
      "\u001b[1;32mf:\\uj\\masters degree\\1 semester\\dl_miniproject\\final_version\\hypernet_final.ipynb Cell 39\u001b[0m line \u001b[0;36m1\n\u001b[1;32m----> <a href='vscode-notebook-cell:/f%3A/uj/masters%20degree/1%20semester/dl_miniproject/final_version/hypernet_final.ipynb#Y102sZmlsZQ%3D%3D?line=0'>1</a>\u001b[0m mnist \u001b[39m=\u001b[39m MNISTData(data_dir, use_one_hot\u001b[39m=\u001b[39m\u001b[39mTrue\u001b[39;00m, validation_size\u001b[39m=\u001b[39m\u001b[39m0\u001b[39m)\n\u001b[0;32m      <a href='vscode-notebook-cell:/f%3A/uj/masters%20degree/1%20semester/dl_miniproject/final_version/hypernet_final.ipynb#Y102sZmlsZQ%3D%3D?line=1'>2</a>\u001b[0m mnist_inps, mnist_trgts \u001b[39m=\u001b[39m mnist\u001b[39m.\u001b[39mnext_train_batch(\u001b[39m4\u001b[39m)\n\u001b[0;32m      <a href='vscode-notebook-cell:/f%3A/uj/masters%20degree/1%20semester/dl_miniproject/final_version/hypernet_final.ipynb#Y102sZmlsZQ%3D%3D?line=2'>3</a>\u001b[0m plot_samples_custom(\u001b[39m'\u001b[39m\u001b[39mMNIST Examples\u001b[39m\u001b[39m'\u001b[39m, mnist_inps, outputs\u001b[39m=\u001b[39mmnist_trgts)\n",
      "\u001b[1;31mNameError\u001b[0m: name 'MNISTData' is not defined"
     ]
    }
   ],
   "source": [
    "mnist = MNISTData(data_dir, use_one_hot=True, validation_size=0)\n",
    "mnist_inps, mnist_trgts = mnist.next_train_batch(4)\n",
    "plot_samples_custom('MNIST Examples', mnist_inps, outputs=mnist_trgts)"
   ]
  },
  {
   "cell_type": "markdown",
   "metadata": {},
   "source": [
    "## SIEĆ DOCELOWA\n",
    "Na początku tworzymy sieć docelową, dla której hypenet będzie generował wagi. Paczka zawiera zawiera intefejs MainNetworkInterface do implementowania własnych sieci neuronowych a także gotowe implementacje kilku poularnych typów np MLP"
   ]
  },
  {
   "cell_type": "code",
   "execution_count": null,
   "metadata": {},
   "outputs": [],
   "source": [
    "from hypnettorch.mnets import LeNet\n",
    "\n",
    "mnet = LeNet(in_shape=mnist.in_shape, num_classes=mnist.num_classes,\n",
    "             arch='mnist_small', no_weights=True).to(device)"
   ]
  },
  {
   "cell_type": "markdown",
   "metadata": {},
   "source": [
    "## TWORZENIE HYPERNETA"
   ]
  },
  {
   "cell_type": "code",
   "execution_count": 15,
   "metadata": {},
   "outputs": [
    {
     "ename": "NameError",
     "evalue": "name 'mnet' is not defined",
     "output_type": "error",
     "traceback": [
      "\u001b[1;31m---------------------------------------------------------------------------\u001b[0m",
      "\u001b[1;31mNameError\u001b[0m                                 Traceback (most recent call last)",
      "\u001b[1;32mf:\\uj\\masters degree\\1 semester\\dl_miniproject\\final_version\\hypernet_final.ipynb Cell 44\u001b[0m line \u001b[0;36m3\n\u001b[0;32m      <a href='vscode-notebook-cell:/f%3A/uj/masters%20degree/1%20semester/dl_miniproject/final_version/hypernet_final.ipynb#Y116sZmlsZQ%3D%3D?line=0'>1</a>\u001b[0m \u001b[39mfrom\u001b[39;00m \u001b[39mhypnettorch\u001b[39;00m\u001b[39m.\u001b[39;00m\u001b[39mhnets\u001b[39;00m \u001b[39mimport\u001b[39;00m HMLP\n\u001b[1;32m----> <a href='vscode-notebook-cell:/f%3A/uj/masters%20degree/1%20semester/dl_miniproject/final_version/hypernet_final.ipynb#Y116sZmlsZQ%3D%3D?line=2'>3</a>\u001b[0m hnet \u001b[39m=\u001b[39m HMLP(mnet\u001b[39m.\u001b[39mparam_shapes, uncond_in_size\u001b[39m=\u001b[39m\u001b[39m0\u001b[39m, cond_in_size\u001b[39m=\u001b[39m\u001b[39m8\u001b[39m,\n\u001b[0;32m      <a href='vscode-notebook-cell:/f%3A/uj/masters%20degree/1%20semester/dl_miniproject/final_version/hypernet_final.ipynb#Y116sZmlsZQ%3D%3D?line=3'>4</a>\u001b[0m             layers\u001b[39m=\u001b[39m[\u001b[39m100\u001b[39m, \u001b[39m100\u001b[39m], num_cond_embs\u001b[39m=\u001b[39m\u001b[39m2\u001b[39m)\u001b[39m.\u001b[39mto(device)\n\u001b[0;32m      <a href='vscode-notebook-cell:/f%3A/uj/masters%20degree/1%20semester/dl_miniproject/final_version/hypernet_final.ipynb#Y116sZmlsZQ%3D%3D?line=5'>6</a>\u001b[0m \u001b[39mprint\u001b[39m()\n\u001b[0;32m      <a href='vscode-notebook-cell:/f%3A/uj/masters%20degree/1%20semester/dl_miniproject/final_version/hypernet_final.ipynb#Y116sZmlsZQ%3D%3D?line=6'>7</a>\u001b[0m \u001b[39mprint\u001b[39m(\u001b[39m'\u001b[39m\u001b[39mThe randomly initialized input embeddings are:\u001b[39m\u001b[39m\\n\u001b[39;00m\u001b[39m'\u001b[39m,\n\u001b[0;32m      <a href='vscode-notebook-cell:/f%3A/uj/masters%20degree/1%20semester/dl_miniproject/final_version/hypernet_final.ipynb#Y116sZmlsZQ%3D%3D?line=7'>8</a>\u001b[0m       hnet\u001b[39m.\u001b[39mconditional_params)\n",
      "\u001b[1;31mNameError\u001b[0m: name 'mnet' is not defined"
     ]
    }
   ],
   "source": [
    "from hypnettorch.hnets import HMLP\n",
    "\n",
    "hnet = HMLP(mnet.param_shapes, uncond_in_size=0, cond_in_size=8,\n",
    "            layers=[100, 100], num_cond_embs=2).to(device)\n",
    "\n",
    "print()\n",
    "print('The randomly initialized input embeddings are:\\n',\n",
    "      hnet.conditional_params)\n",
    "\n",
    "W0 = hnet.forward(cond_id=0)\n",
    "W0_tmp = hnet.forward(cond_input=hnet.conditional_params[0].view(1, -1))\n",
    "assert np.all([torch.equal(W0[i], W0_tmp[i]) for i in range(len(W0))])\n",
    "\n",
    "W_batch = hnet.forward(cond_id=[0, 0])\n",
    "assert np.all([torch.equal(W_batch[0][i], W_batch[1][i]) \\\n",
    "               for i in range(len(W0))])"
   ]
  },
  {
   "cell_type": "code",
   "execution_count": 18,
   "metadata": {},
   "outputs": [
    {
     "ename": "NameError",
     "evalue": "name 'hnet' is not defined",
     "output_type": "error",
     "traceback": [
      "\u001b[1;31m---------------------------------------------------------------------------\u001b[0m",
      "\u001b[1;31mNameError\u001b[0m                                 Traceback (most recent call last)",
      "\u001b[1;32mf:\\uj\\masters degree\\1 semester\\dl_miniproject\\final_version\\hypernet_final.ipynb Cell 47\u001b[0m line \u001b[0;36m2\n\u001b[0;32m     <a href='vscode-notebook-cell:/f%3A/uj/masters%20degree/1%20semester/dl_miniproject/final_version/hypernet_final.ipynb#Y122sZmlsZQ%3D%3D?line=20'>21</a>\u001b[0m nepochs\u001b[39m=\u001b[39m\u001b[39m10\u001b[39m\n\u001b[0;32m     <a href='vscode-notebook-cell:/f%3A/uj/masters%20degree/1%20semester/dl_miniproject/final_version/hypernet_final.ipynb#Y122sZmlsZQ%3D%3D?line=22'>23</a>\u001b[0m \u001b[39m# Adam usually works well in combination with hypernetwork training.\u001b[39;00m\n\u001b[1;32m---> <a href='vscode-notebook-cell:/f%3A/uj/masters%20degree/1%20semester/dl_miniproject/final_version/hypernet_final.ipynb#Y122sZmlsZQ%3D%3D?line=23'>24</a>\u001b[0m optimizer \u001b[39m=\u001b[39m torch\u001b[39m.\u001b[39moptim\u001b[39m.\u001b[39mAdam(hnet\u001b[39m.\u001b[39minternal_params, lr\u001b[39m=\u001b[39mlr)\n\u001b[0;32m     <a href='vscode-notebook-cell:/f%3A/uj/masters%20degree/1%20semester/dl_miniproject/final_version/hypernet_final.ipynb#Y122sZmlsZQ%3D%3D?line=24'>25</a>\u001b[0m criterion \u001b[39m=\u001b[39m nn\u001b[39m.\u001b[39mCrossEntropyLoss()\n\u001b[0;32m     <a href='vscode-notebook-cell:/f%3A/uj/masters%20degree/1%20semester/dl_miniproject/final_version/hypernet_final.ipynb#Y122sZmlsZQ%3D%3D?line=26'>27</a>\u001b[0m \u001b[39mfor\u001b[39;00m epoch \u001b[39min\u001b[39;00m \u001b[39mrange\u001b[39m(nepochs): \u001b[39m# For each epoch.\u001b[39;00m\n\u001b[0;32m     <a href='vscode-notebook-cell:/f%3A/uj/masters%20degree/1%20semester/dl_miniproject/final_version/hypernet_final.ipynb#Y122sZmlsZQ%3D%3D?line=27'>28</a>\u001b[0m \n\u001b[0;32m     <a href='vscode-notebook-cell:/f%3A/uj/masters%20degree/1%20semester/dl_miniproject/final_version/hypernet_final.ipynb#Y122sZmlsZQ%3D%3D?line=28'>29</a>\u001b[0m     \u001b[39m# Iterate over the whole MNIST/FashionMNIST training set.\u001b[39;00m\n\u001b[0;32m     <a href='vscode-notebook-cell:/f%3A/uj/masters%20degree/1%20semester/dl_miniproject/final_version/hypernet_final.ipynb#Y122sZmlsZQ%3D%3D?line=29'>30</a>\u001b[0m     \u001b[39m# Note, that both datasets have the same number of training samples.\u001b[39;00m\n",
      "\u001b[1;31mNameError\u001b[0m: name 'hnet' is not defined"
     ]
    }
   ],
   "source": [
    "def calc_accuracy(data, mnet, mnet_weights):\n",
    "    with torch.no_grad():\n",
    "        test_in = data.input_to_torch_tensor( \\\n",
    "            data.get_test_inputs(), device, mode='inference')\n",
    "        test_out = data.input_to_torch_tensor( \\\n",
    "            data.get_test_outputs(), device, mode='inference')\n",
    "        test_lbls = test_out.max(dim=1)[1]\n",
    "\n",
    "        logits = mnet(test_in, weights=mnet_weights)\n",
    "        pred_lbls = logits.max(dim=1)[1]\n",
    "\n",
    "        acc = torch.sum(test_lbls == pred_lbls) / test_lbls.numel() * 100.\n",
    "\n",
    "    return acc\n",
    "\n",
    "lr=1e-4\n",
    "batchsize=32\n",
    "nepochs=10\n",
    "\n",
    "optimizer = torch.optim.Adam(hnet.internal_params, lr=lr)\n",
    "criterion = nn.CrossEntropyLoss()\n",
    "\n",
    "for epoch in range(nepochs): # For each epoch.\n",
    "    i = 0\n",
    "    for curr_batchsize, mx, my in mnist.train_iterator(batchsize):\n",
    "        i += 1\n",
    "\n",
    "        mnist_X = mnist.input_to_torch_tensor(mx, device, mode='train')\n",
    "        mnist_Y = mnist.output_to_torch_tensor(my, device, mode='train')\n",
    "\n",
    "        optimizer.zero_grad()\n",
    "\n",
    "        W_mnist = hnet(cond_id=0)\n",
    "        mnist_P = mnet.forward(mnist_X, weights=W_mnist)\n",
    "        loss_mnist = criterion(mnist_P, mnist_Y.max(dim=1)[1])\n",
    "\n",
    "        loss = loss_mnist\n",
    "        loss.backward()\n",
    "        optimizer.step()\n",
    "\n",
    "        if i % 500 == 0:\n",
    "            print('[%d, %5d] loss: %.3f, MNIST acc: %.2f%%' %\n",
    "                  (epoch + 1, i + 1, loss.item(),\n",
    "                   calc_accuracy(mnist, mnet, W_mnist)))\n",
    "\n",
    "\n",
    "print('Training finished with test-accs: MNIST acc: %.2f%%,' % \\\n",
    "      (calc_accuracy(mnist, mnet, W_mnist)))"
   ]
  },
  {
   "cell_type": "code",
   "execution_count": 19,
   "metadata": {},
   "outputs": [
    {
     "ename": "NameError",
     "evalue": "name 'mnist' is not defined",
     "output_type": "error",
     "traceback": [
      "\u001b[1;31m---------------------------------------------------------------------------\u001b[0m",
      "\u001b[1;31mNameError\u001b[0m                                 Traceback (most recent call last)",
      "\u001b[1;32mf:\\uj\\masters degree\\1 semester\\dl_miniproject\\final_version\\hypernet_final.ipynb Cell 48\u001b[0m line \u001b[0;36m2\n\u001b[0;32m      <a href='vscode-notebook-cell:/f%3A/uj/masters%20degree/1%20semester/dl_miniproject/final_version/hypernet_final.ipynb#Y123sZmlsZQ%3D%3D?line=0'>1</a>\u001b[0m \u001b[39m# Get a batch of test samples from each data handler.\u001b[39;00m\n\u001b[1;32m----> <a href='vscode-notebook-cell:/f%3A/uj/masters%20degree/1%20semester/dl_miniproject/final_version/hypernet_final.ipynb#Y123sZmlsZQ%3D%3D?line=1'>2</a>\u001b[0m mnist_inps, mnist_trgts \u001b[39m=\u001b[39m mnist\u001b[39m.\u001b[39mnext_test_batch(\u001b[39m4\u001b[39m)\n\u001b[0;32m      <a href='vscode-notebook-cell:/f%3A/uj/masters%20degree/1%20semester/dl_miniproject/final_version/hypernet_final.ipynb#Y123sZmlsZQ%3D%3D?line=3'>4</a>\u001b[0m \u001b[39m# Compute predictions for test batches above.\u001b[39;00m\n\u001b[0;32m      <a href='vscode-notebook-cell:/f%3A/uj/masters%20degree/1%20semester/dl_miniproject/final_version/hypernet_final.ipynb#Y123sZmlsZQ%3D%3D?line=4'>5</a>\u001b[0m \u001b[39mwith\u001b[39;00m torch\u001b[39m.\u001b[39mno_grad():\n",
      "\u001b[1;31mNameError\u001b[0m: name 'mnist' is not defined"
     ]
    }
   ],
   "source": [
    "\n",
    "mnist_inps, mnist_trgts = mnist.next_test_batch(4)\n",
    "\n",
    "with torch.no_grad():\n",
    "    mnist_X = mnist.input_to_torch_tensor(mnist_inps, device, mode='inference')\n",
    "\n",
    "    W_mnist = hnet(cond_id=0)\n",
    "    mnist_preds = mnet.forward(mnist_X, weights=W_mnist)\n",
    "    mnist_preds = torch.softmax(mnist_preds, dim=1)\n",
    "    mnist_preds = mnist_preds.detach().cpu().numpy()\n",
    "\n",
    "plot_samples_custom('MNIST Examples', mnist_inps, outputs=mnist_trgts, predictions=mnist_preds)"
   ]
  },
  {
   "cell_type": "markdown",
   "metadata": {},
   "source": [
    "## ZADANIE 1\n",
    "Uzupełnij poniższy kod, tak aby wytrenować model na datasetach MNIST i FashionMNIST"
   ]
  },
  {
   "cell_type": "code",
   "execution_count": 23,
   "metadata": {},
   "outputs": [
    {
     "ename": "KeyboardInterrupt",
     "evalue": "",
     "output_type": "error",
     "traceback": [
      "\u001b[1;31m---------------------------------------------------------------------------\u001b[0m",
      "\u001b[1;31mKeyboardInterrupt\u001b[0m                         Traceback (most recent call last)",
      "\u001b[1;32mf:\\uj\\masters degree\\1 semester\\dl_miniproject\\final_version\\hypernet_final.ipynb Cell 50\u001b[0m line \u001b[0;36m1\n\u001b[1;32m----> <a href='vscode-notebook-cell:/f%3A/uj/masters%20degree/1%20semester/dl_miniproject/final_version/hypernet_final.ipynb#Y125sZmlsZQ%3D%3D?line=0'>1</a>\u001b[0m \u001b[39mfrom\u001b[39;00m \u001b[39mhypnettorch\u001b[39;00m\u001b[39m.\u001b[39;00m\u001b[39mdata\u001b[39;00m \u001b[39mimport\u001b[39;00m FashionMNISTData\n\u001b[0;32m      <a href='vscode-notebook-cell:/f%3A/uj/masters%20degree/1%20semester/dl_miniproject/final_version/hypernet_final.ipynb#Y125sZmlsZQ%3D%3D?line=2'>3</a>\u001b[0m fmnist \u001b[39m=\u001b[39m FashionMNISTData(data_dir, use_one_hot\u001b[39m=\u001b[39m\u001b[39mTrue\u001b[39;00m, validation_size\u001b[39m=\u001b[39m\u001b[39m0\u001b[39m)\n\u001b[0;32m      <a href='vscode-notebook-cell:/f%3A/uj/masters%20degree/1%20semester/dl_miniproject/final_version/hypernet_final.ipynb#Y125sZmlsZQ%3D%3D?line=3'>4</a>\u001b[0m fmnist_inps, fmnist_trgts \u001b[39m=\u001b[39m fmnist\u001b[39m.\u001b[39mnext_train_batch(\u001b[39m4\u001b[39m)\n",
      "File \u001b[1;32mf:\\uj\\masters degree\\1 semester\\dl_miniproject\\hypernet\\lib\\site-packages\\hypnettorch\\data\\__init__.py:1\u001b[0m\n\u001b[1;32m----> 1\u001b[0m \u001b[39mfrom\u001b[39;00m \u001b[39m.\u001b[39;00m\u001b[39mdataset\u001b[39;00m \u001b[39mimport\u001b[39;00m Dataset\n\u001b[0;32m      2\u001b[0m \u001b[39mfrom\u001b[39;00m \u001b[39m.\u001b[39;00m\u001b[39mlarge_img_dataset\u001b[39;00m \u001b[39mimport\u001b[39;00m LargeImgDataset\n\u001b[0;32m      3\u001b[0m \u001b[39mfrom\u001b[39;00m \u001b[39m.\u001b[39;00m\u001b[39msequential_dataset\u001b[39;00m \u001b[39mimport\u001b[39;00m SequentialDataset\n",
      "File \u001b[1;32mf:\\uj\\masters degree\\1 semester\\dl_miniproject\\hypernet\\lib\\site-packages\\hypnettorch\\data\\dataset.py:69\u001b[0m\n\u001b[0;32m     67\u001b[0m \u001b[39mfrom\u001b[39;00m \u001b[39mabc\u001b[39;00m \u001b[39mimport\u001b[39;00m ABC, abstractmethod\n\u001b[0;32m     68\u001b[0m \u001b[39mimport\u001b[39;00m \u001b[39mnumpy\u001b[39;00m \u001b[39mas\u001b[39;00m \u001b[39mnp\u001b[39;00m\n\u001b[1;32m---> 69\u001b[0m \u001b[39mfrom\u001b[39;00m \u001b[39msklearn\u001b[39;00m\u001b[39m.\u001b[39;00m\u001b[39mpreprocessing\u001b[39;00m \u001b[39mimport\u001b[39;00m OneHotEncoder\n\u001b[0;32m     70\u001b[0m \u001b[39mimport\u001b[39;00m \u001b[39mmatplotlib\u001b[39;00m\u001b[39m.\u001b[39;00m\u001b[39mpyplot\u001b[39;00m \u001b[39mas\u001b[39;00m \u001b[39mplt\u001b[39;00m\n\u001b[0;32m     71\u001b[0m \u001b[39mimport\u001b[39;00m \u001b[39mmatplotlib\u001b[39;00m\u001b[39m.\u001b[39;00m\u001b[39mgridspec\u001b[39;00m \u001b[39mas\u001b[39;00m \u001b[39mgridspec\u001b[39;00m\n",
      "File \u001b[1;32mf:\\uj\\masters degree\\1 semester\\dl_miniproject\\hypernet\\lib\\site-packages\\sklearn\\__init__.py:83\u001b[0m\n\u001b[0;32m     69\u001b[0m     \u001b[39m# We are not importing the rest of scikit-learn during the build\u001b[39;00m\n\u001b[0;32m     70\u001b[0m     \u001b[39m# process, as it may not be compiled yet\u001b[39;00m\n\u001b[0;32m     71\u001b[0m \u001b[39melse\u001b[39;00m:\n\u001b[1;32m   (...)\u001b[0m\n\u001b[0;32m     77\u001b[0m     \u001b[39m# later is linked to the OpenMP runtime to make it possible to introspect\u001b[39;00m\n\u001b[0;32m     78\u001b[0m     \u001b[39m# it and importing it first would fail if the OpenMP dll cannot be found.\u001b[39;00m\n\u001b[0;32m     79\u001b[0m     \u001b[39mfrom\u001b[39;00m \u001b[39m.\u001b[39;00m \u001b[39mimport\u001b[39;00m (\n\u001b[0;32m     80\u001b[0m         __check_build,  \u001b[39m# noqa: F401\u001b[39;00m\n\u001b[0;32m     81\u001b[0m         _distributor_init,  \u001b[39m# noqa: F401\u001b[39;00m\n\u001b[0;32m     82\u001b[0m     )\n\u001b[1;32m---> 83\u001b[0m     \u001b[39mfrom\u001b[39;00m \u001b[39m.\u001b[39;00m\u001b[39mbase\u001b[39;00m \u001b[39mimport\u001b[39;00m clone\n\u001b[0;32m     84\u001b[0m     \u001b[39mfrom\u001b[39;00m \u001b[39m.\u001b[39;00m\u001b[39mutils\u001b[39;00m\u001b[39m.\u001b[39;00m\u001b[39m_show_versions\u001b[39;00m \u001b[39mimport\u001b[39;00m show_versions\n\u001b[0;32m     86\u001b[0m     __all__ \u001b[39m=\u001b[39m [\n\u001b[0;32m     87\u001b[0m         \u001b[39m\"\u001b[39m\u001b[39mcalibration\u001b[39m\u001b[39m\"\u001b[39m,\n\u001b[0;32m     88\u001b[0m         \u001b[39m\"\u001b[39m\u001b[39mcluster\u001b[39m\u001b[39m\"\u001b[39m,\n\u001b[1;32m   (...)\u001b[0m\n\u001b[0;32m    129\u001b[0m         \u001b[39m\"\u001b[39m\u001b[39mshow_versions\u001b[39m\u001b[39m\"\u001b[39m,\n\u001b[0;32m    130\u001b[0m     ]\n",
      "File \u001b[1;32mf:\\uj\\masters degree\\1 semester\\dl_miniproject\\hypernet\\lib\\site-packages\\sklearn\\base.py:19\u001b[0m\n\u001b[0;32m     17\u001b[0m \u001b[39mfrom\u001b[39;00m \u001b[39m.\u001b[39;00m\u001b[39m_config\u001b[39;00m \u001b[39mimport\u001b[39;00m config_context, get_config\n\u001b[0;32m     18\u001b[0m \u001b[39mfrom\u001b[39;00m \u001b[39m.\u001b[39;00m\u001b[39mexceptions\u001b[39;00m \u001b[39mimport\u001b[39;00m InconsistentVersionWarning\n\u001b[1;32m---> 19\u001b[0m \u001b[39mfrom\u001b[39;00m \u001b[39m.\u001b[39;00m\u001b[39mutils\u001b[39;00m \u001b[39mimport\u001b[39;00m _IS_32BIT\n\u001b[0;32m     20\u001b[0m \u001b[39mfrom\u001b[39;00m \u001b[39m.\u001b[39;00m\u001b[39mutils\u001b[39;00m\u001b[39m.\u001b[39;00m\u001b[39m_estimator_html_repr\u001b[39;00m \u001b[39mimport\u001b[39;00m estimator_html_repr\n\u001b[0;32m     21\u001b[0m \u001b[39mfrom\u001b[39;00m \u001b[39m.\u001b[39;00m\u001b[39mutils\u001b[39;00m\u001b[39m.\u001b[39;00m\u001b[39m_metadata_requests\u001b[39;00m \u001b[39mimport\u001b[39;00m _MetadataRequester\n",
      "File \u001b[1;32mf:\\uj\\masters degree\\1 semester\\dl_miniproject\\hypernet\\lib\\site-packages\\sklearn\\utils\\__init__.py:22\u001b[0m\n\u001b[0;32m     20\u001b[0m \u001b[39mfrom\u001b[39;00m \u001b[39m.\u001b[39;00m\u001b[39m_bunch\u001b[39;00m \u001b[39mimport\u001b[39;00m Bunch\n\u001b[0;32m     21\u001b[0m \u001b[39mfrom\u001b[39;00m \u001b[39m.\u001b[39;00m\u001b[39m_estimator_html_repr\u001b[39;00m \u001b[39mimport\u001b[39;00m estimator_html_repr\n\u001b[1;32m---> 22\u001b[0m \u001b[39mfrom\u001b[39;00m \u001b[39m.\u001b[39;00m\u001b[39m_param_validation\u001b[39;00m \u001b[39mimport\u001b[39;00m Interval, validate_params\n\u001b[0;32m     23\u001b[0m \u001b[39mfrom\u001b[39;00m \u001b[39m.\u001b[39;00m\u001b[39mclass_weight\u001b[39;00m \u001b[39mimport\u001b[39;00m compute_class_weight, compute_sample_weight\n\u001b[0;32m     24\u001b[0m \u001b[39mfrom\u001b[39;00m \u001b[39m.\u001b[39;00m\u001b[39mdeprecation\u001b[39;00m \u001b[39mimport\u001b[39;00m deprecated\n",
      "File \u001b[1;32mf:\\uj\\masters degree\\1 semester\\dl_miniproject\\hypernet\\lib\\site-packages\\sklearn\\utils\\_param_validation.py:15\u001b[0m\n\u001b[0;32m     12\u001b[0m \u001b[39mfrom\u001b[39;00m \u001b[39mscipy\u001b[39;00m\u001b[39m.\u001b[39;00m\u001b[39msparse\u001b[39;00m \u001b[39mimport\u001b[39;00m csr_matrix, issparse\n\u001b[0;32m     14\u001b[0m \u001b[39mfrom\u001b[39;00m \u001b[39m.\u001b[39;00m\u001b[39m.\u001b[39;00m\u001b[39m_config\u001b[39;00m \u001b[39mimport\u001b[39;00m config_context, get_config\n\u001b[1;32m---> 15\u001b[0m \u001b[39mfrom\u001b[39;00m \u001b[39m.\u001b[39;00m\u001b[39mvalidation\u001b[39;00m \u001b[39mimport\u001b[39;00m _is_arraylike_not_scalar\n\u001b[0;32m     18\u001b[0m \u001b[39mclass\u001b[39;00m \u001b[39mInvalidParameterError\u001b[39;00m(\u001b[39mValueError\u001b[39;00m, \u001b[39mTypeError\u001b[39;00m):\n\u001b[0;32m     19\u001b[0m \u001b[39m    \u001b[39m\u001b[39m\"\"\"Custom exception to be raised when the parameter of a class/method/function\u001b[39;00m\n\u001b[0;32m     20\u001b[0m \u001b[39m    does not have a valid type or value.\u001b[39;00m\n\u001b[0;32m     21\u001b[0m \u001b[39m    \"\"\"\u001b[39;00m\n",
      "File \u001b[1;32mf:\\uj\\masters degree\\1 semester\\dl_miniproject\\hypernet\\lib\\site-packages\\sklearn\\utils\\validation.py:25\u001b[0m\n\u001b[0;32m     23\u001b[0m \u001b[39mfrom\u001b[39;00m \u001b[39m.\u001b[39;00m\u001b[39m.\u001b[39;00m \u001b[39mimport\u001b[39;00m get_config \u001b[39mas\u001b[39;00m _get_config\n\u001b[0;32m     24\u001b[0m \u001b[39mfrom\u001b[39;00m \u001b[39m.\u001b[39;00m\u001b[39m.\u001b[39;00m\u001b[39mexceptions\u001b[39;00m \u001b[39mimport\u001b[39;00m DataConversionWarning, NotFittedError, PositiveSpectrumWarning\n\u001b[1;32m---> 25\u001b[0m \u001b[39mfrom\u001b[39;00m \u001b[39m.\u001b[39;00m\u001b[39m.\u001b[39;00m\u001b[39mutils\u001b[39;00m\u001b[39m.\u001b[39;00m\u001b[39m_array_api\u001b[39;00m \u001b[39mimport\u001b[39;00m _asarray_with_order, _is_numpy_namespace, get_namespace\n\u001b[0;32m     26\u001b[0m \u001b[39mfrom\u001b[39;00m \u001b[39m.\u001b[39;00m\u001b[39m.\u001b[39;00m\u001b[39mutils\u001b[39;00m\u001b[39m.\u001b[39;00m\u001b[39mfixes\u001b[39;00m \u001b[39mimport\u001b[39;00m ComplexWarning\n\u001b[0;32m     27\u001b[0m \u001b[39mfrom\u001b[39;00m \u001b[39m.\u001b[39;00m\u001b[39m_isfinite\u001b[39;00m \u001b[39mimport\u001b[39;00m FiniteStatus, cy_isfinite\n",
      "File \u001b[1;32mf:\\uj\\masters degree\\1 semester\\dl_miniproject\\hypernet\\lib\\site-packages\\sklearn\\utils\\_array_api.py:9\u001b[0m\n\u001b[0;32m      6\u001b[0m \u001b[39mimport\u001b[39;00m \u001b[39mscipy\u001b[39;00m\u001b[39m.\u001b[39;00m\u001b[39mspecial\u001b[39;00m \u001b[39mas\u001b[39;00m \u001b[39mspecial\u001b[39;00m\n\u001b[0;32m      8\u001b[0m \u001b[39mfrom\u001b[39;00m \u001b[39m.\u001b[39;00m\u001b[39m.\u001b[39;00m\u001b[39m_config\u001b[39;00m \u001b[39mimport\u001b[39;00m get_config\n\u001b[1;32m----> 9\u001b[0m \u001b[39mfrom\u001b[39;00m \u001b[39m.\u001b[39;00m\u001b[39mfixes\u001b[39;00m \u001b[39mimport\u001b[39;00m parse_version\n\u001b[0;32m     12\u001b[0m \u001b[39mdef\u001b[39;00m \u001b[39m_check_array_api_dispatch\u001b[39m(array_api_dispatch):\n\u001b[0;32m     13\u001b[0m \u001b[39m    \u001b[39m\u001b[39m\"\"\"Check that array_api_compat is installed and NumPy version is compatible.\u001b[39;00m\n\u001b[0;32m     14\u001b[0m \n\u001b[0;32m     15\u001b[0m \u001b[39m    array_api_compat follows NEP29, which has a higher minimum NumPy version than\u001b[39;00m\n\u001b[0;32m     16\u001b[0m \u001b[39m    scikit-learn.\u001b[39;00m\n\u001b[0;32m     17\u001b[0m \u001b[39m    \"\"\"\u001b[39;00m\n",
      "File \u001b[1;32mf:\\uj\\masters degree\\1 semester\\dl_miniproject\\hypernet\\lib\\site-packages\\sklearn\\utils\\fixes.py:19\u001b[0m\n\u001b[0;32m     17\u001b[0m \u001b[39mimport\u001b[39;00m \u001b[39mscipy\u001b[39;00m\n\u001b[0;32m     18\u001b[0m \u001b[39mimport\u001b[39;00m \u001b[39mscipy\u001b[39;00m\u001b[39m.\u001b[39;00m\u001b[39msparse\u001b[39;00m\u001b[39m.\u001b[39;00m\u001b[39mlinalg\u001b[39;00m\n\u001b[1;32m---> 19\u001b[0m \u001b[39mimport\u001b[39;00m \u001b[39mscipy\u001b[39;00m\u001b[39m.\u001b[39;00m\u001b[39mstats\u001b[39;00m\n\u001b[0;32m     20\u001b[0m \u001b[39mimport\u001b[39;00m \u001b[39mthreadpoolctl\u001b[39;00m\n\u001b[0;32m     22\u001b[0m \u001b[39mimport\u001b[39;00m \u001b[39msklearn\u001b[39;00m\n",
      "File \u001b[1;32mf:\\uj\\masters degree\\1 semester\\dl_miniproject\\hypernet\\lib\\site-packages\\scipy\\stats\\__init__.py:608\u001b[0m\n\u001b[0;32m      1\u001b[0m \u001b[39m\"\"\"\u001b[39;00m\n\u001b[0;32m      2\u001b[0m \u001b[39m.. _statsrefmanual:\u001b[39;00m\n\u001b[0;32m      3\u001b[0m \n\u001b[1;32m   (...)\u001b[0m\n\u001b[0;32m    603\u001b[0m \n\u001b[0;32m    604\u001b[0m \u001b[39m\"\"\"\u001b[39;00m\n\u001b[0;32m    606\u001b[0m \u001b[39mfrom\u001b[39;00m \u001b[39m.\u001b[39;00m\u001b[39m_warnings_errors\u001b[39;00m \u001b[39mimport\u001b[39;00m (ConstantInputWarning, NearConstantInputWarning,\n\u001b[0;32m    607\u001b[0m                                DegenerateDataWarning, FitError)\n\u001b[1;32m--> 608\u001b[0m \u001b[39mfrom\u001b[39;00m \u001b[39m.\u001b[39;00m\u001b[39m_stats_py\u001b[39;00m \u001b[39mimport\u001b[39;00m \u001b[39m*\u001b[39m\n\u001b[0;32m    609\u001b[0m \u001b[39mfrom\u001b[39;00m \u001b[39m.\u001b[39;00m\u001b[39m_variation\u001b[39;00m \u001b[39mimport\u001b[39;00m variation\n\u001b[0;32m    610\u001b[0m \u001b[39mfrom\u001b[39;00m \u001b[39m.\u001b[39;00m\u001b[39mdistributions\u001b[39;00m \u001b[39mimport\u001b[39;00m \u001b[39m*\u001b[39m\n",
      "File \u001b[1;32mf:\\uj\\masters degree\\1 semester\\dl_miniproject\\hypernet\\lib\\site-packages\\scipy\\stats\\_stats_py.py:46\u001b[0m\n\u001b[0;32m     44\u001b[0m \u001b[39mimport\u001b[39;00m \u001b[39mscipy\u001b[39;00m\u001b[39m.\u001b[39;00m\u001b[39mspecial\u001b[39;00m \u001b[39mas\u001b[39;00m \u001b[39mspecial\u001b[39;00m\n\u001b[0;32m     45\u001b[0m \u001b[39mfrom\u001b[39;00m \u001b[39mscipy\u001b[39;00m \u001b[39mimport\u001b[39;00m linalg\n\u001b[1;32m---> 46\u001b[0m \u001b[39mfrom\u001b[39;00m \u001b[39m.\u001b[39;00m \u001b[39mimport\u001b[39;00m distributions\n\u001b[0;32m     47\u001b[0m \u001b[39mfrom\u001b[39;00m \u001b[39m.\u001b[39;00m \u001b[39mimport\u001b[39;00m _mstats_basic \u001b[39mas\u001b[39;00m mstats_basic\n\u001b[0;32m     48\u001b[0m \u001b[39mfrom\u001b[39;00m \u001b[39m.\u001b[39;00m\u001b[39m_stats_mstats_common\u001b[39;00m \u001b[39mimport\u001b[39;00m (_find_repeats, linregress, theilslopes,\n\u001b[0;32m     49\u001b[0m                                    siegelslopes)\n",
      "File \u001b[1;32mf:\\uj\\masters degree\\1 semester\\dl_miniproject\\hypernet\\lib\\site-packages\\scipy\\stats\\distributions.py:11\u001b[0m\n\u001b[0;32m      8\u001b[0m \u001b[39mfrom\u001b[39;00m \u001b[39m.\u001b[39;00m\u001b[39m_distn_infrastructure\u001b[39;00m \u001b[39mimport\u001b[39;00m (rv_discrete, rv_continuous, rv_frozen)  \u001b[39m# noqa: F401\u001b[39;00m\n\u001b[0;32m     10\u001b[0m \u001b[39mfrom\u001b[39;00m \u001b[39m.\u001b[39;00m \u001b[39mimport\u001b[39;00m _continuous_distns\n\u001b[1;32m---> 11\u001b[0m \u001b[39mfrom\u001b[39;00m \u001b[39m.\u001b[39;00m \u001b[39mimport\u001b[39;00m _discrete_distns\n\u001b[0;32m     13\u001b[0m \u001b[39mfrom\u001b[39;00m \u001b[39m.\u001b[39;00m\u001b[39m_continuous_distns\u001b[39;00m \u001b[39mimport\u001b[39;00m \u001b[39m*\u001b[39m\n\u001b[0;32m     14\u001b[0m \u001b[39mfrom\u001b[39;00m \u001b[39m.\u001b[39;00m\u001b[39m_levy_stable\u001b[39;00m \u001b[39mimport\u001b[39;00m levy_stable\n",
      "File \u001b[1;32mf:\\uj\\masters degree\\1 semester\\dl_miniproject\\hypernet\\lib\\site-packages\\scipy\\stats\\_discrete_distns.py:10\u001b[0m\n\u001b[0;32m      8\u001b[0m \u001b[39mfrom\u001b[39;00m \u001b[39mscipy\u001b[39;00m\u001b[39m.\u001b[39;00m\u001b[39mspecial\u001b[39;00m \u001b[39mimport\u001b[39;00m entr, logsumexp, betaln, gammaln \u001b[39mas\u001b[39;00m gamln, zeta\n\u001b[0;32m      9\u001b[0m \u001b[39mfrom\u001b[39;00m \u001b[39mscipy\u001b[39;00m\u001b[39m.\u001b[39;00m\u001b[39m_lib\u001b[39;00m\u001b[39m.\u001b[39;00m\u001b[39m_util\u001b[39;00m \u001b[39mimport\u001b[39;00m _lazywhere, rng_integers\n\u001b[1;32m---> 10\u001b[0m \u001b[39mfrom\u001b[39;00m \u001b[39mscipy\u001b[39;00m\u001b[39m.\u001b[39;00m\u001b[39minterpolate\u001b[39;00m \u001b[39mimport\u001b[39;00m interp1d\n\u001b[0;32m     12\u001b[0m \u001b[39mfrom\u001b[39;00m \u001b[39mnumpy\u001b[39;00m \u001b[39mimport\u001b[39;00m floor, ceil, log, exp, sqrt, log1p, expm1, tanh, cosh, sinh\n\u001b[0;32m     14\u001b[0m \u001b[39mimport\u001b[39;00m \u001b[39mnumpy\u001b[39;00m \u001b[39mas\u001b[39;00m \u001b[39mnp\u001b[39;00m\n",
      "File \u001b[1;32mf:\\uj\\masters degree\\1 semester\\dl_miniproject\\hypernet\\lib\\site-packages\\scipy\\interpolate\\__init__.py:167\u001b[0m\n\u001b[0;32m      1\u001b[0m \u001b[39m\"\"\"\u001b[39;00m\n\u001b[0;32m      2\u001b[0m \u001b[39m========================================\u001b[39;00m\n\u001b[0;32m      3\u001b[0m \u001b[39mInterpolation (:mod:`scipy.interpolate`)\u001b[39;00m\n\u001b[1;32m   (...)\u001b[0m\n\u001b[0;32m    165\u001b[0m \u001b[39m(should not be used in new code).\u001b[39;00m\n\u001b[0;32m    166\u001b[0m \u001b[39m\"\"\"\u001b[39;00m\n\u001b[1;32m--> 167\u001b[0m \u001b[39mfrom\u001b[39;00m \u001b[39m.\u001b[39;00m\u001b[39m_interpolate\u001b[39;00m \u001b[39mimport\u001b[39;00m \u001b[39m*\u001b[39m\n\u001b[0;32m    168\u001b[0m \u001b[39mfrom\u001b[39;00m \u001b[39m.\u001b[39;00m\u001b[39m_fitpack_py\u001b[39;00m \u001b[39mimport\u001b[39;00m \u001b[39m*\u001b[39m\n\u001b[0;32m    170\u001b[0m \u001b[39m# New interface to fitpack library:\u001b[39;00m\n",
      "File \u001b[1;32mf:\\uj\\masters degree\\1 semester\\dl_miniproject\\hypernet\\lib\\site-packages\\scipy\\interpolate\\_interpolate.py:12\u001b[0m\n\u001b[0;32m      9\u001b[0m \u001b[39mimport\u001b[39;00m \u001b[39mscipy\u001b[39;00m\u001b[39m.\u001b[39;00m\u001b[39mspecial\u001b[39;00m \u001b[39mas\u001b[39;00m \u001b[39mspec\u001b[39;00m\n\u001b[0;32m     10\u001b[0m \u001b[39mfrom\u001b[39;00m \u001b[39mscipy\u001b[39;00m\u001b[39m.\u001b[39;00m\u001b[39mspecial\u001b[39;00m \u001b[39mimport\u001b[39;00m comb\n\u001b[1;32m---> 12\u001b[0m \u001b[39mfrom\u001b[39;00m \u001b[39m.\u001b[39;00m \u001b[39mimport\u001b[39;00m _fitpack_py\n\u001b[0;32m     13\u001b[0m \u001b[39mfrom\u001b[39;00m \u001b[39m.\u001b[39;00m \u001b[39mimport\u001b[39;00m dfitpack\n\u001b[0;32m     14\u001b[0m \u001b[39mfrom\u001b[39;00m \u001b[39m.\u001b[39;00m\u001b[39m_polyint\u001b[39;00m \u001b[39mimport\u001b[39;00m _Interpolator1D\n",
      "File \u001b[1;32mf:\\uj\\masters degree\\1 semester\\dl_miniproject\\hypernet\\lib\\site-packages\\scipy\\interpolate\\_fitpack_py.py:8\u001b[0m\n\u001b[0;32m      5\u001b[0m \u001b[39mimport\u001b[39;00m \u001b[39mnumpy\u001b[39;00m \u001b[39mas\u001b[39;00m \u001b[39mnp\u001b[39;00m\n\u001b[0;32m      7\u001b[0m \u001b[39m# These are in the API for fitpack even if not used in fitpack.py itself.\u001b[39;00m\n\u001b[1;32m----> 8\u001b[0m \u001b[39mfrom\u001b[39;00m \u001b[39m.\u001b[39;00m\u001b[39m_fitpack_impl\u001b[39;00m \u001b[39mimport\u001b[39;00m bisplrep, bisplev, dblint  \u001b[39m# noqa: F401\u001b[39;00m\n\u001b[0;32m      9\u001b[0m \u001b[39mfrom\u001b[39;00m \u001b[39m.\u001b[39;00m \u001b[39mimport\u001b[39;00m _fitpack_impl \u001b[39mas\u001b[39;00m _impl\n\u001b[0;32m     10\u001b[0m \u001b[39mfrom\u001b[39;00m \u001b[39m.\u001b[39;00m\u001b[39m_bsplines\u001b[39;00m \u001b[39mimport\u001b[39;00m BSpline\n",
      "File \u001b[1;32mf:\\uj\\masters degree\\1 semester\\dl_miniproject\\hypernet\\lib\\site-packages\\scipy\\interpolate\\_fitpack_impl.py:29\u001b[0m\n\u001b[0;32m     27\u001b[0m \u001b[39mimport\u001b[39;00m \u001b[39mwarnings\u001b[39;00m\n\u001b[0;32m     28\u001b[0m \u001b[39mimport\u001b[39;00m \u001b[39mnumpy\u001b[39;00m \u001b[39mas\u001b[39;00m \u001b[39mnp\u001b[39;00m\n\u001b[1;32m---> 29\u001b[0m \u001b[39mfrom\u001b[39;00m \u001b[39m.\u001b[39;00m \u001b[39mimport\u001b[39;00m _fitpack\n\u001b[0;32m     30\u001b[0m \u001b[39mfrom\u001b[39;00m \u001b[39mnumpy\u001b[39;00m \u001b[39mimport\u001b[39;00m (atleast_1d, array, ones, zeros, sqrt, ravel, transpose,\n\u001b[0;32m     31\u001b[0m                    empty, iinfo, asarray)\n\u001b[0;32m     33\u001b[0m \u001b[39m# Try to replace _fitpack interface with\u001b[39;00m\n\u001b[0;32m     34\u001b[0m \u001b[39m#  f2py-generated version\u001b[39;00m\n",
      "\u001b[1;31mKeyboardInterrupt\u001b[0m: "
     ]
    }
   ],
   "source": [
    "from hypnettorch.data import FashionMNISTData\n",
    "\n",
    "fmnist = FashionMNISTData(data_dir, use_one_hot=True, validation_size=0)\n",
    "fmnist_inps, fmnist_trgts = fmnist.next_train_batch(4)\n",
    "plot_samples_custom('FashionMNIST Examples', fmnist_inps, outputs=fmnist_trgts)\n"
   ]
  },
  {
   "cell_type": "code",
   "execution_count": 24,
   "metadata": {},
   "outputs": [
    {
     "ename": "NameError",
     "evalue": "name 'mnist' is not defined",
     "output_type": "error",
     "traceback": [
      "\u001b[1;31m---------------------------------------------------------------------------\u001b[0m",
      "\u001b[1;31mNameError\u001b[0m                                 Traceback (most recent call last)",
      "\u001b[1;32mf:\\uj\\masters degree\\1 semester\\dl_miniproject\\final_version\\hypernet_final.ipynb Cell 51\u001b[0m line \u001b[0;36m6\n\u001b[0;32m      <a href='vscode-notebook-cell:/f%3A/uj/masters%20degree/1%20semester/dl_miniproject/final_version/hypernet_final.ipynb#Y130sZmlsZQ%3D%3D?line=0'>1</a>\u001b[0m \u001b[39mfor\u001b[39;00m epoch \u001b[39min\u001b[39;00m \u001b[39mrange\u001b[39m(nepochs): \u001b[39m# For each epoch.\u001b[39;00m\n\u001b[0;32m      <a href='vscode-notebook-cell:/f%3A/uj/masters%20degree/1%20semester/dl_miniproject/final_version/hypernet_final.ipynb#Y130sZmlsZQ%3D%3D?line=1'>2</a>\u001b[0m \n\u001b[0;32m      <a href='vscode-notebook-cell:/f%3A/uj/masters%20degree/1%20semester/dl_miniproject/final_version/hypernet_final.ipynb#Y130sZmlsZQ%3D%3D?line=2'>3</a>\u001b[0m     \u001b[39m# Iterate over the whole MNIST/FashionMNIST training set.\u001b[39;00m\n\u001b[0;32m      <a href='vscode-notebook-cell:/f%3A/uj/masters%20degree/1%20semester/dl_miniproject/final_version/hypernet_final.ipynb#Y130sZmlsZQ%3D%3D?line=3'>4</a>\u001b[0m     \u001b[39m# Note, that both datasets have the same number of training samples.\u001b[39;00m\n\u001b[0;32m      <a href='vscode-notebook-cell:/f%3A/uj/masters%20degree/1%20semester/dl_miniproject/final_version/hypernet_final.ipynb#Y130sZmlsZQ%3D%3D?line=4'>5</a>\u001b[0m     i \u001b[39m=\u001b[39m \u001b[39m0\u001b[39m\n\u001b[1;32m----> <a href='vscode-notebook-cell:/f%3A/uj/masters%20degree/1%20semester/dl_miniproject/final_version/hypernet_final.ipynb#Y130sZmlsZQ%3D%3D?line=5'>6</a>\u001b[0m     \u001b[39mfor\u001b[39;00m curr_batchsize, mx, my \u001b[39min\u001b[39;00m mnist\u001b[39m.\u001b[39mtrain_iterator(batchsize):\n\u001b[0;32m      <a href='vscode-notebook-cell:/f%3A/uj/masters%20degree/1%20semester/dl_miniproject/final_version/hypernet_final.ipynb#Y130sZmlsZQ%3D%3D?line=6'>7</a>\u001b[0m         i \u001b[39m+\u001b[39m\u001b[39m=\u001b[39m \u001b[39m1\u001b[39m\n\u001b[0;32m      <a href='vscode-notebook-cell:/f%3A/uj/masters%20degree/1%20semester/dl_miniproject/final_version/hypernet_final.ipynb#Y130sZmlsZQ%3D%3D?line=8'>9</a>\u001b[0m         \u001b[39m# Current mini-batch of MNIST samples.\u001b[39;00m\n",
      "\u001b[1;31mNameError\u001b[0m: name 'mnist' is not defined"
     ]
    }
   ],
   "source": [
    "for epoch in range(nepochs): \n",
    "    i = 0\n",
    "    for curr_batchsize, mx, my in mnist.train_iterator(batchsize):\n",
    "        i += 1\n",
    "\n",
    "        mnist_X = mnist.input_to_torch_tensor(mx, device, mode='train')\n",
    "        mnist_Y = mnist.output_to_torch_tensor(my, device, mode='train')\n",
    "\n",
    "        # Current mini-batch of FashionMNIST samples.\n",
    "\n",
    "        optimizer.zero_grad()\n",
    "\n",
    "        W_mnist = hnet(cond_id=0)\n",
    "        mnist_P = mnet.forward(mnist_X, weights=W_mnist)\n",
    "        loss_mnist = criterion(mnist_P, mnist_Y.max(dim=1)[1])\n",
    "\n",
    "        # Compute FashionMNIST loss.\n",
    "\n",
    "        # The total loss is each task's loss combined.\n",
    "        loss = loss_mnist\n",
    "        loss.backward()\n",
    "        optimizer.step()\n",
    "\n",
    "        if i % 500 == 0:\n",
    "            print('[%d, %5d] loss: %.3f, MNIST acc: %.2f%%, FashionMNIST acc: %.2f%%' %\n",
    "                  (epoch + 1, i + 1, loss.item(),\n",
    "                   calc_accuracy(mnist, mnet, W_mnist),))\n",
    "\n",
    "\n",
    "print('Training finished with test-accs: MNIST acc: %.2f%%, FashionMNIST %.2f%%' % \\\n",
    "      (calc_accuracy(mnist, mnet, W_mnist)))"
   ]
  },
  {
   "cell_type": "code",
   "execution_count": 25,
   "metadata": {},
   "outputs": [
    {
     "ename": "NameError",
     "evalue": "name 'mnist' is not defined",
     "output_type": "error",
     "traceback": [
      "\u001b[1;31m---------------------------------------------------------------------------\u001b[0m",
      "\u001b[1;31mNameError\u001b[0m                                 Traceback (most recent call last)",
      "\u001b[1;32mf:\\uj\\masters degree\\1 semester\\dl_miniproject\\final_version\\hypernet_final.ipynb Cell 52\u001b[0m line \u001b[0;36m1\n\u001b[1;32m----> <a href='vscode-notebook-cell:/f%3A/uj/masters%20degree/1%20semester/dl_miniproject/final_version/hypernet_final.ipynb#Y131sZmlsZQ%3D%3D?line=0'>1</a>\u001b[0m mnist_inps, mnist_trgts \u001b[39m=\u001b[39m mnist\u001b[39m.\u001b[39mnext_test_batch(\u001b[39m4\u001b[39m)\n\u001b[0;32m      <a href='vscode-notebook-cell:/f%3A/uj/masters%20degree/1%20semester/dl_miniproject/final_version/hypernet_final.ipynb#Y131sZmlsZQ%3D%3D?line=1'>2</a>\u001b[0m fmnist_inps, fmnist_trgts \u001b[39m=\u001b[39m fmnist\u001b[39m.\u001b[39mnext_test_batch(\u001b[39m4\u001b[39m)\n\u001b[0;32m      <a href='vscode-notebook-cell:/f%3A/uj/masters%20degree/1%20semester/dl_miniproject/final_version/hypernet_final.ipynb#Y131sZmlsZQ%3D%3D?line=3'>4</a>\u001b[0m \u001b[39m# Compute predictions for test batches above.\u001b[39;00m\n",
      "\u001b[1;31mNameError\u001b[0m: name 'mnist' is not defined"
     ]
    }
   ],
   "source": [
    "mnist_inps, mnist_trgts = mnist.next_test_batch(4)\n",
    "fmnist_inps, fmnist_trgts = fmnist.next_test_batch(4)\n",
    "\n",
    "with torch.no_grad():\n",
    "    mnist_X = mnist.input_to_torch_tensor(mnist_inps, device, mode='inference')\n",
    "\n",
    "    W_mnist = hnet(cond_id=0)\n",
    "    mnist_preds = mnet.forward(mnist_X, weights=W_mnist)\n",
    "\n",
    "    mnist_preds = torch.softmax(mnist_preds, dim=1)\n",
    "\n",
    "    mnist_preds = mnist_preds.detach().cpu().numpy()\n",
    "\n",
    "plot_samples_custom('MNIST Examples', mnist_inps, outputs=mnist_trgts, predictions=mnist_preds)"
   ]
  }
 ],
 "metadata": {
  "kernelspec": {
   "display_name": "Python 3",
   "language": "python",
   "name": "python3"
  },
  "language_info": {
   "codemirror_mode": {
    "name": "ipython",
    "version": 3
   },
   "file_extension": ".py",
   "mimetype": "text/x-python",
   "name": "python",
   "nbconvert_exporter": "python",
   "pygments_lexer": "ipython3",
   "version": "3.10.13"
  }
 },
 "nbformat": 4,
 "nbformat_minor": 2
}
